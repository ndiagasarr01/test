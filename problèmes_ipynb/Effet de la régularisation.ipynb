{
 "cells": [
  {
   "cell_type": "markdown",
   "id": "23b27766",
   "metadata": {},
   "source": [
    "---\n",
    "jupyter:\n",
    "  jupytext:\n",
    "    text_representation:\n",
    "      extension: .md\n",
    "      format_name: markdown\n",
    "      format_version: '1.3'\n",
    "      jupytext_version: 1.16.0\n",
    "  kernelspec:\n",
    "    display_name: Python 3 (ipykernel)\n",
    "    language: python\n",
    "    name: python3\n",
    "---\n",
    "\n",
    "<!-- #region tags=[\"problem-title\"] id=\"30760394\" -->\n",
    "# Effet de la régularisation\n",
    "<!-- #endregion -->\n",
    "\n",
    "<!-- #region tags=[\"problem-statement\"] id=\"d3117849\" -->\n",
    "En général, la régularisation est-elle utilisée pour augmenter la performance de notre modèle sur les ensembles d'entraînement et de validation?\n",
    "<!-- #endregion -->\n",
    "\n",
    "<!-- #region id=\"b675c74f\" -->\n",
    "## Entrez votre solution dans la cellule ci-dessous\n",
    "Faites votre choix en entrant dans la cellule ci-dessous soit `True` pour faire le choix **vrai**, soit `False` pour faire le choix **faux**, puis pressez le bouton <button class=\"btn btn-xs btn-success disabled\">Soumettre</button> dans le haut du notebook.\n",
    "<!-- #endregion -->\n",
    "\n"
   ]
  },
  {
   "cell_type": "code",
   "execution_count": null,
   "id": "2c4c5a3b",
   "metadata": {},
   "outputs": [],
   "source": [
    "\n"
   ]
  },
  {
   "cell_type": "markdown",
   "id": "c468508a",
   "metadata": {},
   "source": [
    "\n"
   ]
  },
  {
   "cell_type": "code",
   "execution_count": null,
   "id": "1e79878f",
   "metadata": {},
   "outputs": [],
   "source": [
    "False\n"
   ]
  },
  {
   "cell_type": "markdown",
   "id": "5a316f35",
   "metadata": {},
   "source": [
    "\n"
   ]
  },
  {
   "cell_type": "code",
   "execution_count": null,
   "id": "33f8c3ce",
   "metadata": {},
   "outputs": [],
   "source": [
    "# disable default pep-8 and code metrics verifications\n",
    "grader.enable_pep8_checks(False)\n",
    "grader.enable_code_metrics(False)\n",
    "\n",
    "# run grader on multiple choice question\n",
    "grader.log = grader.grade_multiple_choice_question(\n",
    "    [\n",
    "        {\n",
    "            \"value\": True,\n",
    "            \"score\": 0,\n",
    "            \"feedback\": \"En général, les contraintes apportées par la régularisation vont <strong>diminuer</strong> les performances de l'algorithme sur l'ensemble d'entraînement. Par contre, ces contraintes vont particulièrement impacter les paramètres du modèle qui servent seulement à diminuer l'erreur sur quelques données particulières (éviter le surapprentissage). La performance sur l'ensemble de validation va donc généralement bénéficier des méthodes de régularisation.\",\n",
    "        },\n",
    "        {\n",
    "            \"value\": False,\n",
    "            \"score\": 1,\n",
    "            \"feedback\": \"Effectivement, en général, les contraintes apportées par la régularisation vont <strong>diminuer</strong> les performances de l'algorithme sur l'ensemble d'entraînement. Par contre, ces contraintes vont particulièrement impacter les paramètres du modèle qui servent seulement à diminuer l'erreur sur quelques données particulières (éviter le surapprentissage). La performance sur l'ensemble de validation va donc généralement bénéficier des méthodes de régularisation.\",\n",
    "        },\n",
    "    ],\n",
    "    value_type=bool,\n",
    "    weight=100,\n",
    ")\n"
   ]
  }
 ],
 "metadata": {},
 "nbformat": 4,
 "nbformat_minor": 5
}
