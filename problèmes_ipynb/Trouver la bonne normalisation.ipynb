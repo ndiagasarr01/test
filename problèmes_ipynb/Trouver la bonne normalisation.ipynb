{
 "cells": [
  {
   "cell_type": "markdown",
   "id": "c70ecd0e",
   "metadata": {},
   "source": [
    "---\n",
    "jupyter:\n",
    "  jupytext:\n",
    "    text_representation:\n",
    "      extension: .md\n",
    "      format_name: markdown\n",
    "      format_version: '1.3'\n",
    "      jupytext_version: 1.16.0\n",
    "  kernelspec:\n",
    "    display_name: Python 3 (ipykernel)\n",
    "    language: python\n",
    "    name: python3\n",
    "---\n",
    "\n",
    "<!-- #region tags=[\"problem-title\"] id=\"0deec058\" -->\n",
    "# Trouver la bonne normalisation\n",
    "<!-- #endregion -->\n",
    "\n",
    "<!-- #region tags=[\"problem-statement\"] id=\"892aabaa\" -->\n",
    "On cherche à classifier deux objets de forme triangulaire à partir de la hauteur et la largeur de triangles. Les objets ne se distinguent pas particulièrement avec la taille, mais plutôt les proportions de la hauteur par rapport à la largeur. Quel type de normalisation suggérez-vous&puncsp;:\n",
    "\n",
    "1. Min-max\n",
    "2. Par puissance\n",
    "3. Normalisation vectorielle\n",
    "<!-- #endregion -->\n",
    "\n",
    "<!-- #region id=\"5d0e83ff\" -->\n",
    "## Entrez votre solution dans la cellule ci-dessous\n",
    "Faites votre choix en entrant son numéro dans la cellule ci-dessous, puis pressez le bouton <button class=\"btn btn-xs btn-success disabled\">Soumettre</button> dans le haut du notebook.\n",
    "<!-- #endregion -->\n",
    "\n"
   ]
  },
  {
   "cell_type": "code",
   "execution_count": null,
   "id": "b007d22e",
   "metadata": {},
   "outputs": [],
   "source": [
    "\n"
   ]
  },
  {
   "cell_type": "markdown",
   "id": "4cacc8df",
   "metadata": {},
   "source": [
    "\n"
   ]
  },
  {
   "cell_type": "code",
   "execution_count": null,
   "id": "22ba4f94",
   "metadata": {},
   "outputs": [],
   "source": [
    "3\n"
   ]
  },
  {
   "cell_type": "markdown",
   "id": "4b297bdd",
   "metadata": {},
   "source": [
    "\n"
   ]
  },
  {
   "cell_type": "code",
   "execution_count": null,
   "id": "6ac2a048",
   "metadata": {},
   "outputs": [],
   "source": [
    "# disable default pep-8 and code metrics verifications\n",
    "grader.enable_pep8_checks(False)\n",
    "grader.enable_code_metrics(False)\n",
    "\n",
    "# run grader on multiple choice question\n",
    "grader.log = grader.grade_multiple_choice_question(\n",
    "    [\n",
    "        {\n",
    "            \"value\": 1,\n",
    "            \"score\": 0,\n",
    "            \"feedback\": \"On utilise souvent ce genre de normalisation pour des variables qui ont les mêmes unités. Pour ce cas, la normalisation vectorielle permettrait de bien illustrer la proportion des mesures les unes par rapport aux autres.\",\n",
    "        },\n",
    "        {\n",
    "            \"value\": 2,\n",
    "            \"score\": 0,\n",
    "            \"feedback\": \"On utilise souvent ce genre de normalisation pour des variables qui ont les mêmes unités. Pour ce cas, la normalisation vectorielle permettrait de bien illustrer la proportion des mesures les unes par rapport aux autres.\",\n",
    "        },\n",
    "        {\n",
    "            \"value\": 3,\n",
    "            \"score\": 1,\n",
    "            \"feedback\": \"En effet, la normalisation vectorielle permet de bien illustrer la proportion des mesures les unes par rapport aux autres.\",\n",
    "        },\n",
    "    ],\n",
    "    value_type=int,\n",
    "    weight=100,\n",
    ")\n"
   ]
  }
 ],
 "metadata": {},
 "nbformat": 4,
 "nbformat_minor": 5
}
