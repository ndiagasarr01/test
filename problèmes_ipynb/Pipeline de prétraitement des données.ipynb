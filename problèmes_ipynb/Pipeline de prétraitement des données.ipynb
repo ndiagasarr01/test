{
 "cells": [
  {
   "cell_type": "markdown",
   "id": "c50f3e85",
   "metadata": {},
   "source": [
    "---\n",
    "jupyter:\n",
    "  jupytext:\n",
    "    text_representation:\n",
    "      extension: .md\n",
    "      format_name: markdown\n",
    "      format_version: '1.3'\n",
    "      jupytext_version: 1.16.0\n",
    "  kernelspec:\n",
    "    display_name: Python 3\n",
    "    language: python\n",
    "    name: python3\n",
    "---\n",
    "\n",
    "<!-- #region tags=[\"problem-title\"] id=\"bfed4796\" -->\n",
    "# Pipeline de prétraitement des données\n",
    "<!-- #endregion -->\n",
    "\n",
    "<!-- #region tags=[\"problem-statement\"] id=\"e0cd6cd2\" -->\n",
    "Laquelle de ces étapes ne fait normalement pas partie du pipeline de **prétraitement** dans un problème de prédiction de l'âge ?\n",
    "\n",
    "1. Éliminer une variable qui possède beaucoup de données manquantes.\n",
    "2. Transformer une variable catégorielle en one-hot.\n",
    "3. Utiliser une régression linéaire pour prédire la variable d'intérêt.\n",
    "4. Normaliser une variable à l'aide de l'algorithme min-max.\n",
    "5. Transformer la position $(x, y, z)$ en variable catégorielle à l'aide d'un algorithme KNN.\n",
    "\n",
    "<!-- #endregion -->\n",
    "\n",
    "<!-- #region id=\"0de0c9a9\" -->\n",
    "## Entrez votre solution dans la cellule ci-dessous\n",
    "Faites votre choix en entrant son numéro dans la cellule ci-dessous, puis pressez le bouton <button class=\"btn btn-xs btn-success disabled\">Soumettre</button> dans le haut du notebook.\n",
    "<!-- #endregion -->\n",
    "\n"
   ]
  },
  {
   "cell_type": "code",
   "execution_count": null,
   "id": "1719b155",
   "metadata": {},
   "outputs": [],
   "source": [
    "\n"
   ]
  },
  {
   "cell_type": "markdown",
   "id": "b1fc3a56",
   "metadata": {},
   "source": [
    "\n"
   ]
  },
  {
   "cell_type": "code",
   "execution_count": null,
   "id": "cf9cd1f8",
   "metadata": {},
   "outputs": [],
   "source": [
    "3\n"
   ]
  },
  {
   "cell_type": "markdown",
   "id": "6cbb2d49",
   "metadata": {},
   "source": [
    "\n"
   ]
  },
  {
   "cell_type": "code",
   "execution_count": null,
   "id": "252047fe",
   "metadata": {},
   "outputs": [],
   "source": [
    "# disable default pep-8 and code metrics verifications\n",
    "grader.enable_pep8_checks(False)\n",
    "grader.enable_code_metrics(False)\n",
    "\n",
    "# run grader on multiple choice question\n",
    "grader.log = grader.grade_multiple_choice_question(\n",
    "    [\n",
    "      {\n",
    "            \"value\": 1,\n",
    "            \"score\": 0,\n",
    "            \"feedback\": \"Cette étape est une étape de prétraitement qui consiste à effectuer des transformations sur les données avant qu'elles soient utilisées pour effectuer la tâche d'intérêt.\",\n",
    "        },\n",
    "        {\n",
    "            \"value\": 2,\n",
    "            \"score\": 0,\n",
    "            \"feedback\": \"Cette étape est une étape de prétraitement qui consiste à effectuer des transformations sur les données avant qu'elles soient utilisées pour effectuer la tâche d'intérêt.\",\n",
    "        },\n",
    "        {\n",
    "            \"value\": 3,\n",
    "            \"score\": 1,\n",
    "            \"feedback\": \"En effet, cette étape est davantage une tâche d'intérêt qu'un prétraitement.\",\n",
    "        },\n",
    "        {\n",
    "            \"value\": 4,\n",
    "            \"score\": 0,\n",
    "            \"feedback\": \"Cette étape est une étape de prétraitement qui consiste à effectuer des transformations sur les données avant qu'elles soient utilisées pour effectuer la tâche d'intérêt.\",\n",
    "        },\n",
    "        {\n",
    "            \"value\": 5,\n",
    "            \"score\": 0,\n",
    "            \"feedback\": \"Cette étape est une étape de prétraitement qui consiste à effectuer des transformations sur les données avant qu'elles soient utilisées pour effectuer la tâche d'intérêt.\",\n",
    "        },\n",
    "    ],\n",
    "    value_type=int,\n",
    "    weight=100,\n",
    ")\n"
   ]
  }
 ],
 "metadata": {},
 "nbformat": 4,
 "nbformat_minor": 5
}
