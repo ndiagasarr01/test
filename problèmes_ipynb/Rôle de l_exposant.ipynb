{
 "cells": [
  {
   "cell_type": "markdown",
   "id": "d7eeff17",
   "metadata": {},
   "source": [
    "---\n",
    "jupyter:\n",
    "  jupytext:\n",
    "    text_representation:\n",
    "      extension: .md\n",
    "      format_name: markdown\n",
    "      format_version: '1.3'\n",
    "      jupytext_version: 1.16.0\n",
    "  kernelspec:\n",
    "    display_name: Python 3 (ipykernel)\n",
    "    language: python\n",
    "    name: python3\n",
    "---\n",
    "\n",
    "<!-- #region tags=[\"problem-title\"] id=\"71d57534\" -->\n",
    "# Rôle de l'exposant\n",
    "<!-- #endregion -->\n",
    "\n",
    "<!-- #region tags=[\"problem-statement\"] id=\"a692ecba\" -->\n",
    "Soit la formule suivante de l'erreur quadratique moyenne&puncsp;:\n",
    "\n",
    "$$\n",
    "MSE=\\frac{1}{n}\\sum\\limits_{i=1}^{n}(y^{(i)}-f(x^{(i)},\\Theta))^{2}\n",
    "$$\n",
    "\n",
    "Dans cette formule, est-ce que le seul rôle de l'exposant (2) est d'accorder plus d'importance aux grands écarts entre la valeur prédite et la valeur souhaitée?\n",
    "<!-- #endregion -->\n",
    "\n",
    "\n",
    "<!-- #region id=\"51062404\" -->\n",
    "## Entrez votre solution dans la cellule ci-dessous\n",
    "Faites votre choix en entrant dans la cellule ci-dessous soit `True` pour faire le choix **vrai**, soit `False` pour faire le choix **faux**, puis pressez le bouton <button class=\"btn btn-xs btn-success disabled\">Soumettre</button> dans le haut du notebook.\n",
    "<!-- #endregion -->\n",
    "\n"
   ]
  },
  {
   "cell_type": "code",
   "execution_count": null,
   "id": "96fa7297",
   "metadata": {},
   "outputs": [],
   "source": [
    "\n"
   ]
  },
  {
   "cell_type": "markdown",
   "id": "14406e63",
   "metadata": {},
   "source": [
    "\n"
   ]
  },
  {
   "cell_type": "code",
   "execution_count": null,
   "id": "3d90a977",
   "metadata": {},
   "outputs": [],
   "source": [
    "False\n"
   ]
  },
  {
   "cell_type": "markdown",
   "id": "803bc594",
   "metadata": {},
   "source": [
    "\n"
   ]
  },
  {
   "cell_type": "code",
   "execution_count": null,
   "id": "ff062ef8",
   "metadata": {},
   "outputs": [],
   "source": [
    "# disable default pep-8 and code metrics verifications\n",
    "grader.enable_pep8_checks(False)\n",
    "grader.enable_code_metrics(False)\n",
    "\n",
    "# run grader on multiple choice question\n",
    "grader.log = grader.grade_multiple_choice_question(\n",
    "    [\n",
    "        {\n",
    "            \"value\": True,\n",
    "            \"score\": 0,\n",
    "            \"feedback\": \"Le rôle de l'exposant est aussi de rendre tous les écarts positifs. Sans cet exposant, la minimisation de la fonction produirait des écarts négatifs infiniment grands.\"\n",
    "        },\n",
    "        {\n",
    "            \"value\": False,\n",
    "            \"score\": 1,\n",
    "            \"feedback\": \"Effectivement, le rôle de l'exposant est aussi de rendre tous les écarts positifs. Sans cet exposant, la minimisation de la fonction produirait des écarts négatifs infiniment grands.\",\n",
    "        },\n",
    "    ],\n",
    "    value_type=bool,\n",
    "    weight=100,\n",
    ")\n"
   ]
  }
 ],
 "metadata": {},
 "nbformat": 4,
 "nbformat_minor": 5
}
