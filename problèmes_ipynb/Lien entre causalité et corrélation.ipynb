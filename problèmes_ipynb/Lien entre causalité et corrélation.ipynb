{
 "cells": [
  {
   "cell_type": "markdown",
   "id": "c48d8200",
   "metadata": {},
   "source": [
    "---\n",
    "jupyter:\n",
    "  jupytext:\n",
    "    text_representation:\n",
    "      extension: .md\n",
    "      format_name: markdown\n",
    "      format_version: '1.3'\n",
    "      jupytext_version: 1.16.0\n",
    "  kernelspec:\n",
    "    display_name: Python 3 (ipykernel)\n",
    "    language: python\n",
    "    name: python3\n",
    "---\n",
    "\n",
    "<!-- #region tags=[\"problem-title\"] id=\"3d77bf61\" -->\n",
    "# Lien entre causalité et corrélation\n",
    "<!-- #endregion -->\n",
    "\n",
    "<!-- #region tags=[\"problem-statement\"] id=\"4a2fa39a\" -->\n",
    "Lorsqu'il y a causalité entre deux variables, y a-t-il nécessairement une corrélation entre celles-ci?\n",
    "<!-- #endregion -->\n",
    "\n",
    "<!-- #region id=\"046550f2\" -->\n",
    "## Entrez votre solution dans la cellule ci-dessous\n",
    "Faites votre choix en entrant dans la cellule ci-dessous soit `True` pour faire le choix **vrai**, soit `False` pour faire le choix **faux**, puis pressez le bouton <button class=\"btn btn-xs btn-success disabled\">Soumettre</button> dans le haut du notebook.\n",
    "<!-- #endregion -->\n",
    "\n"
   ]
  },
  {
   "cell_type": "code",
   "execution_count": null,
   "id": "6229463e",
   "metadata": {},
   "outputs": [],
   "source": [
    "\n"
   ]
  },
  {
   "cell_type": "markdown",
   "id": "54204e9a",
   "metadata": {},
   "source": [
    "\n"
   ]
  },
  {
   "cell_type": "code",
   "execution_count": null,
   "id": "e8a83501",
   "metadata": {},
   "outputs": [],
   "source": [
    "True\n"
   ]
  },
  {
   "cell_type": "markdown",
   "id": "aef039e8",
   "metadata": {},
   "source": [
    "\n"
   ]
  },
  {
   "cell_type": "code",
   "execution_count": null,
   "id": "b98c6407",
   "metadata": {},
   "outputs": [],
   "source": [
    "# disable default pep-8 and code metrics verifications\n",
    "grader.enable_pep8_checks(False)\n",
    "grader.enable_code_metrics(False)\n",
    "\n",
    "# run grader on multiple choice question\n",
    "grader.log = grader.grade_multiple_choice_question(\n",
    "    [\n",
    "        {\n",
    "            \"value\": True,\n",
    "            \"score\": 1,\n",
    "            \"feedback\": \"S’il y a de la causalité entre deux variables, une variable cause un effet à l'autre variable. Il y a donc forcément corrélation.\",\n",
    "        },\n",
    "        {\n",
    "            \"value\": False,\n",
    "            \"score\": 0,\n",
    "            \"feedback\": \"Effectivement, s’il y a de la causalité entre deux variables, une variable cause un effet à l'autre variable. Il y a donc forcément corrélation.\",\n",
    "        },\n",
    "    ],\n",
    "    value_type=bool,\n",
    "    weight=100,\n",
    ")\n"
   ]
  }
 ],
 "metadata": {},
 "nbformat": 4,
 "nbformat_minor": 5
}
