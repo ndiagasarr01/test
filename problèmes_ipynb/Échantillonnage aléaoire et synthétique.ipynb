{
 "cells": [
  {
   "cell_type": "markdown",
   "id": "9c59c1ba",
   "metadata": {},
   "source": [
    "---\n",
    "jupyter:\n",
    "  jupytext:\n",
    "    text_representation:\n",
    "      extension: .md\n",
    "      format_name: markdown\n",
    "      format_version: '1.3'\n",
    "      jupytext_version: 1.16.0\n",
    "  kernelspec:\n",
    "    display_name: Python 3 (ipykernel)\n",
    "    language: python\n",
    "    name: python3\n",
    "---\n",
    "\n",
    "<!-- #region tags=[\"problem-title\"] id=\"e664ce18\" -->\n",
    "# Échantillonnage aléatoire et synthétique\n",
    "<!-- #endregion -->\n",
    "\n",
    "<!-- #region tags=[\"problem-statement\"] id=\"4c9d3c3d\" -->\n",
    "Les méthodes de suréchantillonnages aléatoires sont souvent plus simplistes que celles synthétiques, mais peuvent-elles aussi engendrer un modèle qui apprend davantage à modéliser les données d'entraînement que la distribution globale des données?\n",
    "<!-- #endregion -->\n",
    "\n",
    "<!-- #region id=\"e8878554\" -->\n",
    "## Entrez votre solution dans la cellule ci-dessous\n",
    "Faites votre choix en entrant dans la cellule ci-dessous soit `True` pour faire le choix **vrai**, soit `False` pour faire le choix **faux**, puis pressez le bouton <button class=\"btn btn-xs btn-success disabled\">Soumettre</button> dans le haut du notebook.\n",
    "<!-- #endregion -->\n",
    "\n"
   ]
  },
  {
   "cell_type": "code",
   "execution_count": null,
   "id": "8193b8c7",
   "metadata": {},
   "outputs": [],
   "source": [
    "\n"
   ]
  },
  {
   "cell_type": "markdown",
   "id": "298da40b",
   "metadata": {},
   "source": [
    "\n"
   ]
  },
  {
   "cell_type": "code",
   "execution_count": null,
   "id": "a38f670e",
   "metadata": {},
   "outputs": [],
   "source": [
    "True\n"
   ]
  },
  {
   "cell_type": "markdown",
   "id": "05924a77",
   "metadata": {},
   "source": [
    "\n"
   ]
  },
  {
   "cell_type": "code",
   "execution_count": null,
   "id": "57368db2",
   "metadata": {},
   "outputs": [],
   "source": [
    "# disable default pep-8 and code metrics verifications\n",
    "grader.enable_pep8_checks(False)\n",
    "grader.enable_code_metrics(False)\n",
    "\n",
    "# run grader on multiple choice question\n",
    "grader.log = grader.grade_multiple_choice_question(\n",
    "    [\n",
    "        {\n",
    "            \"value\": True,\n",
    "            \"score\": 1,\n",
    "            \"feedback\": \"Effectivement, comme plusieurs données seront dupliquées, le modèle risque de surapprendre. À l'opposé, comme les données synthétiques ne sont pas des duplications de données existantes, ce type d'échantillonnage sera moins sensible au surapprentissage.\",\n",
    "        },\n",
    "        {\n",
    "            \"value\": False,\n",
    "            \"score\": 0,\n",
    "            \"feedback\": \"Plusieurs données seront dupliquées, le modèle risque de surapprendre. À l'opposé, comme les données synthétiques ne sont pas des duplications de données existantes, ce type d'échantillonnage sera moins sensible au surapprentissage.\",\n",
    "        },\n",
    "    ],\n",
    "    value_type=bool,\n",
    "    weight=100,\n",
    ")\n"
   ]
  }
 ],
 "metadata": {},
 "nbformat": 4,
 "nbformat_minor": 5
}
