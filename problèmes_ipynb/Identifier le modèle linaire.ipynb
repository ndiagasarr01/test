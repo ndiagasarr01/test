{
 "cells": [
  {
   "cell_type": "markdown",
   "id": "26c86733",
   "metadata": {},
   "source": [
    "---\n",
    "jupyter:\n",
    "  jupytext:\n",
    "    text_representation:\n",
    "      extension: .md\n",
    "      format_name: markdown\n",
    "      format_version: '1.3'\n",
    "      jupytext_version: 1.16.0\n",
    "  kernelspec:\n",
    "    display_name: Python 3 (ipykernel)\n",
    "    language: python\n",
    "    name: python3\n",
    "---\n",
    "\n",
    "<!-- #region tags=[\"problem-title\"] id=\"d3badd1d\" -->\n",
    "# Identifier le modèle linéaire\n",
    "<!-- #endregion -->\n",
    "\n",
    "<!-- #region tags=[\"problem-statement\"] id=\"30bdea1f\" -->\n",
    "Soit une automobile pour laquelle on souhaite modéliser la consommation d'essence $C$ en fonction de la température $T$. Or, on observe une **réduction** de 0,01 l/100km pour chaque **augmentation** d'un degré de la température, et à 0 degré, la consommation est de 8 l/100km. Parmi les choix suivants, quel est le modèle linéaire qui colle à ces observations&puncsp;:\n",
    "\n",
    "1. $C = 0,01\\times T$\n",
    "2. $C = 8\\times T$\n",
    "3. $C = 8 + 0,01\\times T$\n",
    "4. $C = 0,01 + 8\\times T$\n",
    "5. $C = 8 - 0,01\\times T$\n",
    "\n",
    "<!--\n",
    "  Revoir la solution pour le modèle 2 car ce modèle ne me semble pas\n",
    "  indépendant de la température.\n",
    "-->\n",
    "<!-- #endregion -->\n",
    "\n",
    "<!-- #region id=\"0ba7740b\" -->\n",
    "## Entrez votre solution dans la cellule ci-dessous\n",
    "Faites votre choix en entrant son numéro dans la cellule ci-dessous, puis pressez le bouton <button class=\"btn btn-xs btn-success disabled\">Soumettre</button> dans le haut du notebook.\n",
    "<!-- #endregion -->\n",
    "\n"
   ]
  },
  {
   "cell_type": "code",
   "execution_count": null,
   "id": "56d4de5b",
   "metadata": {},
   "outputs": [],
   "source": [
    "\n"
   ]
  },
  {
   "cell_type": "markdown",
   "id": "c5e92b99",
   "metadata": {},
   "source": [
    "\n"
   ]
  },
  {
   "cell_type": "code",
   "execution_count": null,
   "id": "47566c80",
   "metadata": {},
   "outputs": [],
   "source": [
    "5\n"
   ]
  },
  {
   "cell_type": "markdown",
   "id": "13a1814a",
   "metadata": {},
   "source": [
    "\n"
   ]
  },
  {
   "cell_type": "code",
   "execution_count": null,
   "id": "8c9c1869",
   "metadata": {},
   "outputs": [],
   "source": [
    "# disable default pep-8 and code metrics verifications\n",
    "grader.enable_pep8_checks(False)\n",
    "grader.enable_code_metrics(False)\n",
    "\n",
    "# run grader on multiple choice question\n",
    "grader.log = grader.grade_multiple_choice_question(\n",
    "    [\n",
    "        {\n",
    "            \"value\": 1,\n",
    "            \"score\": 0,\n",
    "            \"feedback\": \"Car l'ordonnée à l'origine de ce modèle est nulle.\",\n",
    "        },\n",
    "        {\n",
    "            \"value\": 2,\n",
    "            \"score\": 0,\n",
    "            \"feedback\": \"Car ce modèle est indépendant de la température.\",\n",
    "        },\n",
    "        {\n",
    "            \"value\": 3,\n",
    "            \"score\": 0,\n",
    "            \"feedback\": \"Car ce modèle augmente la consommation avec la température au lieu de la réduire.\",\n",
    "        },\n",
    "        {\n",
    "            \"value\": 4,\n",
    "            \"score\": 0,\n",
    "            \"feedback\": \"Car l'ordonnée à l'origine et la pente sont inversés.\",\n",
    "        },\n",
    "        {\n",
    "            \"value\": 5,\n",
    "            \"score\": 1,\n",
    "            \"feedback\": \"Car l'ordonnée à l'origine est de 8 l/100km et la pente est de $-0,01$ l/100km par degré.\",\n",
    "        },\n",
    "    ],\n",
    "    value_type=int,\n",
    "    weight=100,\n",
    ")\n"
   ]
  }
 ],
 "metadata": {},
 "nbformat": 4,
 "nbformat_minor": 5
}
