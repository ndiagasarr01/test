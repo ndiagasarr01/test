{
 "cells": [
  {
   "cell_type": "markdown",
   "id": "64fa3960",
   "metadata": {},
   "source": [
    "---\n",
    "jupyter:\n",
    "  jupytext:\n",
    "    text_representation:\n",
    "      extension: .md\n",
    "      format_name: markdown\n",
    "      format_version: '1.3'\n",
    "      jupytext_version: 1.16.0\n",
    "  kernelspec:\n",
    "    display_name: Python 3 (ipykernel)\n",
    "    language: python\n",
    "    name: python3\n",
    "---\n",
    "\n",
    "<!-- #region tags=[\"problem-title\"] id=\"0c0b61e2\" -->\n",
    "# Surapprentissage et sous-apprentissage\n",
    "<!-- #endregion -->\n",
    "\n",
    "<!-- #region tags=[\"problem-statement\"] id=\"283be72e\" -->\n",
    "Un modèle de classification à deux classes est entraîné. Les données des deux classes sont équilibrées. La performance finale est mesurée avec la métrique AUROC. Sur l'ensemble de validation, on obtient une performance de 0,52 et sur l'ensemble d'entraînement 0,57. Qu'est-ce qui décrit le mieux les performance de ce modèle\n",
    "\n",
    "1. Surapprentissage\n",
    "2. Sous-apprentissage\n",
    "3. Semble adéquat\n",
    "<!-- #endregion -->\n",
    "\n",
    "<!-- #region id=\"bae3e77b\" -->\n",
    "## Entrez votre solution dans la cellule ci-dessous\n",
    "Faites votre choix en entrant son numéro dans la cellule ci-dessous, puis pressez le bouton <button class=\"btn btn-xs btn-success disabled\">Soumettre</button> dans le haut du notebook.\n",
    "<!-- #endregion -->\n",
    "\n"
   ]
  },
  {
   "cell_type": "code",
   "execution_count": null,
   "id": "d6576fde",
   "metadata": {},
   "outputs": [],
   "source": [
    "\n"
   ]
  },
  {
   "cell_type": "markdown",
   "id": "bc01a226",
   "metadata": {},
   "source": [
    "\n"
   ]
  },
  {
   "cell_type": "code",
   "execution_count": null,
   "id": "eebe41f0",
   "metadata": {},
   "outputs": [],
   "source": [
    "2\n"
   ]
  },
  {
   "cell_type": "markdown",
   "id": "6e2f5a02",
   "metadata": {},
   "source": [
    "\n"
   ]
  },
  {
   "cell_type": "code",
   "execution_count": null,
   "id": "5a562fb7",
   "metadata": {},
   "outputs": [],
   "source": [
    "# disable default pep-8 and code metrics verifications\n",
    "grader.enable_pep8_checks(False)\n",
    "grader.enable_code_metrics(False)\n",
    "\n",
    "# run grader on multiple choice question\n",
    "grader.log = grader.grade_multiple_choice_question(\n",
    "    [\n",
    "        {\n",
    "            \"value\": 1,\n",
    "            \"score\": 0,\n",
    "            \"feedback\": \"Faux, si on se souvient bien, une valeur d'AUROC de 0,57 est juste un peu mieux qu'un classificateur aléatoire. De plus, le modèle semble avoir des performances similaires entre les deux ensembles de données. Ces deux observations sont semblent être des symptômes de sous-apprentissage.\",\n",
    "        },\n",
    "        {\n",
    "            \"value\": 2,\n",
    "            \"score\": 1,\n",
    "            \"feedback\": \"Si on se souvient bien, une valeur d'AUROC de 0,57 est juste un peu mieux qu'un classificateur aléatoire. De plus, le modèle semble avoir des performances similaires entre les deux ensembles de données. Ces deux observations sont semblent être des symptômes de sous-apprentissage.\",\n",
    "        },\n",
    "        {\n",
    "            \"value\": 3,\n",
    "            \"score\": 0,\n",
    "            \"feedback\": \"Faux, si on se souvient bien, une valeur d'AUROC de 0,57 est juste un peu mieux qu'un classificateur aléatoire. De plus, le modèle semble avoir des performances similaires entre les deux ensembles de données. Ces deux observations sont semblent être des symptômes de sous-apprentissage.\",\n",
    "        },\n",
    "    ],\n",
    "    value_type=int,\n",
    "    weight=100,\n",
    ")\n"
   ]
  }
 ],
 "metadata": {},
 "nbformat": 4,
 "nbformat_minor": 5
}
