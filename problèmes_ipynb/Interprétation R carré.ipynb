{
 "cells": [
  {
   "cell_type": "markdown",
   "id": "f788e478",
   "metadata": {},
   "source": [
    "---\n",
    "jupyter:\n",
    "  jupytext:\n",
    "    text_representation:\n",
    "      extension: .md\n",
    "      format_name: markdown\n",
    "      format_version: '1.3'\n",
    "      jupytext_version: 1.16.0\n",
    "  kernelspec:\n",
    "    display_name: Python 3 (ipykernel)\n",
    "    language: python\n",
    "    name: python3\n",
    "---\n",
    "\n",
    "<!-- #region tags=[\"problem-title\"] id=\"ada8af10\" -->\n",
    "# Interprétation R carré\n",
    "<!-- #endregion -->\n",
    "\n",
    "<!-- #region tags=[\"problem-statement\"] id=\"d02cb890\" -->\n",
    "Un modèle prédictif explique une très grande partie de la variance de la variable d'intérêt. Choisissez une valeur de $R^2$ qui décrit ce résultat:\n",
    "\n",
    "1. 0,9\n",
    "2. 1\n",
    "3. 0\n",
    "4. 0,2\n",
    "<!-- #endregion -->\n",
    "\n",
    "<!-- #region id=\"dc5335df\" -->\n",
    "## Entrez votre solution dans la cellule ci-dessous\n",
    "Faites votre choix en entrant son numéro dans la cellule ci-dessous, puis pressez le bouton <button class=\"btn btn-xs btn-success disabled\">Soumettre</button> dans le haut du notebook.\n",
    "<!-- #endregion -->\n",
    "\n"
   ]
  },
  {
   "cell_type": "code",
   "execution_count": null,
   "id": "e93125ce",
   "metadata": {},
   "outputs": [],
   "source": [
    "\n"
   ]
  },
  {
   "cell_type": "markdown",
   "id": "00647665",
   "metadata": {},
   "source": [
    "\n"
   ]
  },
  {
   "cell_type": "code",
   "execution_count": null,
   "id": "768a15d0",
   "metadata": {},
   "outputs": [],
   "source": [
    "1\n"
   ]
  },
  {
   "cell_type": "markdown",
   "id": "cde3b709",
   "metadata": {},
   "source": [
    "\n"
   ]
  },
  {
   "cell_type": "code",
   "execution_count": null,
   "id": "49cb8baa",
   "metadata": {},
   "outputs": [],
   "source": [
    "# disable default pep-8 and code metrics verifications\n",
    "grader.enable_pep8_checks(False)\n",
    "grader.enable_code_metrics(False)\n",
    "\n",
    "# run grader on multiple choice question\n",
    "grader.log = grader.grade_multiple_choice_question(\n",
    "    [\n",
    "        {\n",
    "            \"value\": 1,\n",
    "            \"score\": 1,\n",
    "            \"feedback\": \"En effet, un $R^2$ de 1 signifie que le modèle explique toute la variance de la variable d'intérêt. À l'opposé une valeur de 0 signifie que le modèle n'explique rien de la valeur de la variable d'intérêt. Une valeur de 0,9 explique une grande partie de la variance, mais une petite partie reste inexpliquée.\",\n",
    "        },\n",
    "        {\n",
    "            \"value\": 2,\n",
    "            \"score\": 0,\n",
    "            \"feedback\": \"Un $R^2$ de 1 signifie que le modèle explique toute la variance de la variable d'intérêt. À l'opposé une valeur de 0 signifie que le modèle n'explique rien de la valeur de la variable d'intérêt. Une valeur de 0,9 explique une grande partie de la variance, mais une petite partie reste inexpliquée.\",\n",
    "        },\n",
    "        {\n",
    "            \"value\": 3,\n",
    "            \"score\": 0,\n",
    "            \"feedback\": \"Un $R^2$ de 1 signifie que le modèle explique toute la variance de la variable d'intérêt. À l'opposé une valeur de 0 signifie que le modèle n'explique rien de la valeur de la variable d'intérêt. Une valeur de 0,9 explique une grande partie de la variance, mais une petite partie reste inexpliquée.\",\n",
    "        },\n",
    "        {\n",
    "            \"value\": 4,\n",
    "            \"score\": 0,\n",
    "            \"feedback\": \"Un $R^2$ de 1 signifie que le modèle explique toute la variance de la variable d'intérêt. À l'opposé une valeur de 0 signifie que le modèle n'explique rien de la valeur de la variable d'intérêt. Une valeur de 0,9 explique une grande partie de la variance, mais une petite partie reste inexpliquée.\",\n",
    "        },\n",
    "    ],\n",
    "    value_type=int,\n",
    "    weight=100,\n",
    ")\n"
   ]
  }
 ],
 "metadata": {},
 "nbformat": 4,
 "nbformat_minor": 5
}
