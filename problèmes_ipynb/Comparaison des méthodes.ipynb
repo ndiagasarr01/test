{
 "cells": [
  {
   "cell_type": "markdown",
   "id": "7a3f73b2",
   "metadata": {},
   "source": [
    "---\n",
    "jupyter:\n",
    "  jupytext:\n",
    "    text_representation:\n",
    "      extension: .md\n",
    "      format_name: markdown\n",
    "      format_version: '1.3'\n",
    "      jupytext_version: 1.16.0\n",
    "  kernelspec:\n",
    "    display_name: Python 3\n",
    "    language: python\n",
    "    name: python3\n",
    "---\n",
    "\n",
    "<!-- #region tags=[\"problem-title\"] id=\"fe0f0ea7\" -->\n",
    "# Comparaison des méthodes\n",
    "\n",
    "<!-- #endregion -->\n",
    "\n",
    "<!-- #region tags=[\"problem-statement\"] id=\"3a8edcd5\" -->\n",
    "Soit un modèle créé à partir d'une seule variable **exogène** pour laquelle quelques données sont manquantes. Serait-il approprié d'utiliser un modèle de base simple (*baseline*) pour traiter ce problème?\n",
    "<!-- #endregion -->\n",
    "\n",
    "<!-- #region id=\"9ba5a171\" -->\n",
    "## Entrez votre solution dans la cellule ci-dessous\n",
    "Faites votre choix en entrant dans la cellule ci-dessous soit `True` pour faire le choix **vrai**, soit `False` pour faire le choix **faux**, puis pressez le bouton <button class=\"btn btn-xs btn-success disabled\">Soumettre</button> dans le haut du notebook.\n",
    "<!-- #endregion -->\n",
    "\n"
   ]
  },
  {
   "cell_type": "code",
   "execution_count": null,
   "id": "66922d6e",
   "metadata": {},
   "outputs": [],
   "source": [
    "\n"
   ]
  },
  {
   "cell_type": "markdown",
   "id": "3f5fc6ce",
   "metadata": {},
   "source": [
    "\n"
   ]
  },
  {
   "cell_type": "code",
   "execution_count": null,
   "id": "868f8182",
   "metadata": {},
   "outputs": [],
   "source": [
    "False\n"
   ]
  },
  {
   "cell_type": "markdown",
   "id": "de8156c3",
   "metadata": {},
   "source": [
    "\n"
   ]
  },
  {
   "cell_type": "code",
   "execution_count": null,
   "id": "c3881e6f",
   "metadata": {},
   "outputs": [],
   "source": [
    "# disable default pep-8 and code metrics verifications\n",
    "grader.enable_pep8_checks(False)\n",
    "grader.enable_code_metrics(False)\n",
    "\n",
    "# run grader on multiple choice question\n",
    "grader.log = grader.grade_multiple_choice_question(\n",
    "    [\n",
    "        {\n",
    "            \"value\": True,\n",
    "            \"score\": 0,\n",
    "            \"feedback\": \"En utilisant la méthode baseline, on élimine complètement la variable du modèle. Puisque le modèle ne possède <strong>qu'une seule</strong> variable exogène, l'enlever mènerait à un modèle uniquement basé sur la moyenne.\",\n",
    "        },\n",
    "        {\n",
    "            \"value\": False,\n",
    "            \"score\": 1,\n",
    "            \"feedback\": \"Effectivement, en utilisant la méthode baseline, on élimine complètement la variable du modèle. Puisque le modèle ne possède <strong>qu'une seule</strong> variable exogène, l'enlever mènerait à un modèle uniquement basé sur la moyenne.\",\n",
    "        },\n",
    "    ],\n",
    "    value_type=bool,\n",
    "    weight=100,\n",
    ")\n"
   ]
  }
 ],
 "metadata": {},
 "nbformat": 4,
 "nbformat_minor": 5
}
