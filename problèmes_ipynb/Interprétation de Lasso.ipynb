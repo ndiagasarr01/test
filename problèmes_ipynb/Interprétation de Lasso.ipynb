{
 "cells": [
  {
   "cell_type": "markdown",
   "id": "3de06f13",
   "metadata": {},
   "source": [
    "---\n",
    "jupyter:\n",
    "  jupytext:\n",
    "    text_representation:\n",
    "      extension: .md\n",
    "      format_name: markdown\n",
    "      format_version: '1.3'\n",
    "      jupytext_version: 1.16.0\n",
    "  kernelspec:\n",
    "    display_name: Python 3 (ipykernel)\n",
    "    language: python\n",
    "    name: python3\n",
    "---\n",
    "\n",
    "<!-- #region tags=[\"problem-title\"] id=\"9c49b198\" -->\n",
    "# Interprétation de Lasso\n",
    "<!-- #endregion -->\n",
    "\n",
    "<!-- #region tags=[\"problem-statement\"] id=\"764d7bf0\" -->\n",
    "On entraîne un modèle **sans** régularisation et un modèle **avec** régularisation *Lasso*. On remarque que le modèle avec régularisation généralise mieux que celui sans. En regardant les paramètres, on peut voir que la principale différence provient du coefficient de la variable $A$ qui est passé à 0. Ces résultats démontrent-ils que la variable $A$ n'a pas d'impact significatif sur la variable d'intérêt?\n",
    "<!-- #endregion -->\n",
    "\n",
    "<!-- #region id=\"726c1bb7\" -->\n",
    "## Entrez votre solution dans la cellule ci-dessous\n",
    "Faites votre choix en entrant dans la cellule ci-dessous soit `True` pour faire le choix **vrai**, soit `False` pour faire le choix **faux**, puis pressez le bouton <button class=\"btn btn-xs btn-success disabled\">Soumettre</button> dans le haut du notebook.\n",
    "<!-- #endregion -->\n",
    "\n"
   ]
  },
  {
   "cell_type": "code",
   "execution_count": null,
   "id": "73b2e6b1",
   "metadata": {},
   "outputs": [],
   "source": [
    "\n"
   ]
  },
  {
   "cell_type": "markdown",
   "id": "95023a10",
   "metadata": {},
   "source": [
    "\n"
   ]
  },
  {
   "cell_type": "code",
   "execution_count": null,
   "id": "17c0ac17",
   "metadata": {},
   "outputs": [],
   "source": [
    "True\n"
   ]
  },
  {
   "cell_type": "markdown",
   "id": "22888d7f",
   "metadata": {},
   "source": [
    "\n"
   ]
  },
  {
   "cell_type": "code",
   "execution_count": null,
   "id": "a3dfb026",
   "metadata": {},
   "outputs": [],
   "source": [
    "# disable default pep-8 and code metrics verifications\n",
    "grader.enable_pep8_checks(False)\n",
    "grader.enable_code_metrics(False)\n",
    "\n",
    "# run grader on multiple choice question\n",
    "grader.log = grader.grade_multiple_choice_question(\n",
    "    [\n",
    "        {\n",
    "            \"value\": True,\n",
    "            \"score\": 1,\n",
    "            \"feedback\": \"Effectivement, si le paramètre est à 0, cela signifie que la pénalité d'avoir ce coefficient non nul est plus grande que son impact sur la diminution de la perte (MSE). On peut donc supposer que cette variable n'a pas d'impact significatif sur la variable d'intérêt.\",\n",
    "        },\n",
    "        {\n",
    "            \"value\": False,\n",
    "            \"score\": 0,\n",
    "            \"feedback\": \"Si le paramètre est à 0, cela signifie que la pénalité d'avoir ce coefficient non nul est plus grande que son impact sur la diminution de la perte (MSE). On peut donc supposer que cette variable n'a pas d'impact significatif sur la variable d'intérêt.\",\n",
    "        },\n",
    "    ],\n",
    "    value_type=bool,\n",
    "    weight=100,\n",
    ")\n"
   ]
  }
 ],
 "metadata": {},
 "nbformat": 4,
 "nbformat_minor": 5
}
