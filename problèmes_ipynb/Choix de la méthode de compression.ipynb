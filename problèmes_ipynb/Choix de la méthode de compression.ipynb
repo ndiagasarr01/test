{
 "cells": [
  {
   "cell_type": "markdown",
   "id": "68dff4d3",
   "metadata": {},
   "source": [
    "---\n",
    "jupyter:\n",
    "  jupytext:\n",
    "    text_representation:\n",
    "      extension: .md\n",
    "      format_name: markdown\n",
    "      format_version: '1.3'\n",
    "      jupytext_version: 1.16.0\n",
    "  kernelspec:\n",
    "    display_name: Python 3\n",
    "    language: python\n",
    "    name: python3\n",
    "---\n",
    "\n",
    "<!-- #region tags=[\"problem-title\"] id=\"88eb97c4\" -->\n",
    "# Choix de la méthode de compression\n",
    "<!-- #endregion -->\n",
    "\n",
    "<!-- #region tags=[\"problem-statement\"] id=\"57d5646e\" -->\n",
    "Vous avez un jeu de données avec des données de véhicules. Vous souhaitez observer la distance entre certaines données, mais le jeu de données possède beaucoup de variables ce qui rend l'interprétation difficile. Laquelle des méthodes suivantes serait adaptée à cette situation.\n",
    "\n",
    "1. Analyse en composante principale (PCA)\n",
    "2. Analyse discrimante linéaire (LDA)\n",
    "3. 1 et 2\n",
    "<!-- #endregion -->\n",
    "\n",
    "<!-- #region id=\"1ef3d65b\" -->\n",
    "## Entrez votre solution dans la cellule ci-dessous\n",
    "Faites votre choix en entrant son numéro dans la cellule ci-dessous, puis pressez le bouton <button class=\"btn btn-xs btn-success disabled\">Soumettre</button> dans le haut du notebook.\n",
    "<!-- #endregion -->\n"
   ]
  },
  {
   "cell_type": "code",
   "execution_count": null,
   "id": "49c82372",
   "metadata": {},
   "outputs": [],
   "source": [
    "\n"
   ]
  },
  {
   "cell_type": "markdown",
   "id": "a38e8159",
   "metadata": {},
   "source": [
    "\n"
   ]
  },
  {
   "cell_type": "code",
   "execution_count": null,
   "id": "ddbc9889",
   "metadata": {},
   "outputs": [],
   "source": [
    "1\n"
   ]
  },
  {
   "cell_type": "markdown",
   "id": "b7e46855",
   "metadata": {},
   "source": [
    "\n"
   ]
  },
  {
   "cell_type": "code",
   "execution_count": null,
   "id": "65993fde",
   "metadata": {},
   "outputs": [],
   "source": [
    "# disable default pep-8 and code metrics verifications\n",
    "grader.enable_pep8_checks(False)\n",
    "grader.enable_code_metrics(False)\n",
    "\n",
    "# run grader on multiple choice question\n",
    "grader.log = grader.grade_multiple_choice_question(\n",
    "    [\n",
    "        {\n",
    "            \"value\": 1,\n",
    "            \"score\": 1,\n",
    "            \"feedback\": \"En effet, la PCA cherche à réduire la dimensionnalité de plusieurs variables.\",\n",
    "        },\n",
    "        {\n",
    "            \"value\": 2,\n",
    "            \"score\": 0,\n",
    "            \"feedback\": \"La LDA cherche à maximiser la distance des groupes par rapport à une étiquette. Dans la question, on ne souhaite pas séparer les données selon une étiquette particulière donc la PCA est plus appropriée.\",\n",
    "        },\n",
    "        {\n",
    "            \"value\": 3,\n",
    "            \"score\": 0,\n",
    "            \"feedback\": \"La PCA est très similaire à la LDA. Par contre, dans la LDA on cherche à maximiser la distance des groupes par rapport à une étiquette. Dans la question, on ne souhaite pas séparer les données selon une étiquette particulière donc la PCA est plus appropriée.\",\n",
    "        },\n",
    "    ],\n",
    "    value_type=int,\n",
    "    weight=100,\n",
    ")\n"
   ]
  }
 ],
 "metadata": {},
 "nbformat": 4,
 "nbformat_minor": 5
}
