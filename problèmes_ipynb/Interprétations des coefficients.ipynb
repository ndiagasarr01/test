{
 "cells": [
  {
   "cell_type": "markdown",
   "id": "ae2c7c83",
   "metadata": {},
   "source": [
    "---\n",
    "jupyter:\n",
    "  jupytext:\n",
    "    text_representation:\n",
    "      extension: .md\n",
    "      format_name: markdown\n",
    "      format_version: '1.3'\n",
    "      jupytext_version: 1.16.0\n",
    "  kernelspec:\n",
    "    display_name: Python 3 (ipykernel)\n",
    "    language: python\n",
    "    name: python3\n",
    "---\n",
    "\n",
    "<!-- #region tags=[\"problem-title\"] id=\"b6d46361\" -->\n",
    "# Interprétations des coefficients\n",
    "<!-- #endregion -->\n",
    "\n",
    "<!-- #region tags=[\"problem-statement\"] id=\"6c8d63cb\" -->\n",
    "Soit le modèle prédictif suivant qui relit la vitesse maximale (km/h) d'une automobile en fonction de la puissance de son moteur (nombre de chevaux) et de son poids (en Kg):\n",
    "\n",
    "$$\n",
    "\\text{Vitesse} = 0.5*x_{\\text{Nombre de chevaux}} + (-0.02)*x_{\\text{poids (kg)}}\n",
    "$$\n",
    "\n",
    "Est-ce qu'une modification permettant d'ajouter deux (2) chevaux tout en augmentant le poids de 100 kg aura un impact **positif** sur la vitesse maximale estimée par ce modèle?\n",
    "<!-- #endregion -->\n",
    "\n",
    "<!-- #region id=\"dc1a4319\" -->\n",
    "## Entrez votre solution dans la cellule ci-dessous\n",
    "Faites votre choix en entrant dans la cellule ci-dessous soit `True` pour faire le choix **vrai**, soit `False` pour faire le choix **faux**, puis pressez le bouton <button class=\"btn btn-xs btn-success disabled\">Soumettre</button> dans le haut du notebook.\n",
    "<!-- #endregion -->\n",
    "\n"
   ]
  },
  {
   "cell_type": "code",
   "execution_count": null,
   "id": "d0428c40",
   "metadata": {},
   "outputs": [],
   "source": [
    "\n"
   ]
  },
  {
   "cell_type": "markdown",
   "id": "1e0cf782",
   "metadata": {},
   "source": [
    "\n"
   ]
  },
  {
   "cell_type": "code",
   "execution_count": null,
   "id": "d5f1ff3d",
   "metadata": {},
   "outputs": [],
   "source": [
    "False\n"
   ]
  },
  {
   "cell_type": "markdown",
   "id": "6cf15b50",
   "metadata": {},
   "source": [
    "\n"
   ]
  },
  {
   "cell_type": "code",
   "execution_count": null,
   "id": "63346a6e",
   "metadata": {},
   "outputs": [],
   "source": [
    "# disable default pep-8 and code metrics verifications\n",
    "grader.enable_pep8_checks(False)\n",
    "grader.enable_code_metrics(False)\n",
    "\n",
    "# run grader on multiple choice question\n",
    "grader.log = grader.grade_multiple_choice_question(\n",
    "    [\n",
    "        {\n",
    "            \"value\": True,\n",
    "            \"score\": 0,\n",
    "            \"feedback\": \"Bien que l'ajout des chevaux contribuera à augmenter la vitesse maximale de 1 km/h ($0,5 \\\\times 2$), l'augmentation de poids viendra la réduire de 2 km/h ($-0,02 \\\\times 100$). La vitesse estimée par ce modèle sera donc globalement <strong>réduite</strong> de 1 km/h.\",\n",
    "        },\n",
    "        {\n",
    "            \"value\": False,\n",
    "            \"score\": 1,\n",
    "            \"feedback\": \"En effet, l'ajout des chevaux augmentera la vitesse de 1 km/h ($0,5 \\\\times 2$), mais l'augmentation de poids viendra aussi la réduire de 2 km/h ($-0,02 \\\\times 100$). La vitesse estimée par ce modèle sera donc globalement <strong>réduite</strong> de 1 km/h.\",\n",
    "        },\n",
    "    ],\n",
    "    value_type=bool,\n",
    "    weight=100,\n",
    ")\n"
   ]
  }
 ],
 "metadata": {},
 "nbformat": 4,
 "nbformat_minor": 5
}
