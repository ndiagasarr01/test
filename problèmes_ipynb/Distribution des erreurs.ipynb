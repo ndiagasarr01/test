{
 "cells": [
  {
   "cell_type": "markdown",
   "id": "bf89c911",
   "metadata": {},
   "source": [
    "---\n",
    "jupyter:\n",
    "  jupytext:\n",
    "    text_representation:\n",
    "      extension: .md\n",
    "      format_name: markdown\n",
    "      format_version: '1.3'\n",
    "      jupytext_version: 1.16.0\n",
    "  kernelspec:\n",
    "    display_name: Python 3 (ipykernel)\n",
    "    language: python\n",
    "    name: python3\n",
    "---\n",
    "\n",
    "<!-- #region tags=[\"problem-title\"] id=\"d104e563\" -->\n",
    "# Distribution des erreurs\n",
    "<!-- #endregion -->\n",
    "\n",
    "<!-- #region tags=[\"problem-statement\"] id=\"4764c5d6\" -->\n",
    "Étant donné un modèle prédictif:$f(x^{(i)},\\Theta))$. On remarque que peu importe les valeurs prédites du modèle, les erreurs semblent toujours avoir la même distribution. Autrement dit, la valeur des erreurs ne semble pas impactée par les valeurs prédites. Cette observation va en faveur de&puncsp;:\n",
    "\n",
    "1. L'homoscédasticité des prédictions\n",
    "2. L'hétéroscédasticité des prédictions\n",
    "3. L'homoscédasticité des erreurs de mesure\n",
    "4. L'hétéroscédasticité des erreurs de mesure\n",
    "5. Aucune des réponses précédentes\n",
    "<!-- #endregion -->\n",
    "\n",
    "<!-- #region id=\"92f88258\" -->\n",
    "## Entrez votre solution dans la cellule ci-dessous\n",
    "Faites votre choix en entrant son numéro dans la cellule ci-dessous, puis pressez le bouton <button class=\"btn btn-xs btn-success disabled\">Soumettre</button> dans le haut du notebook.\n",
    "<!-- #endregion -->\n",
    "\n"
   ]
  },
  {
   "cell_type": "code",
   "execution_count": null,
   "id": "345ad57b",
   "metadata": {},
   "outputs": [],
   "source": [
    "\n"
   ]
  },
  {
   "cell_type": "markdown",
   "id": "9983b49d",
   "metadata": {},
   "source": [
    "\n"
   ]
  },
  {
   "cell_type": "code",
   "execution_count": null,
   "id": "67e4a1bd",
   "metadata": {},
   "outputs": [],
   "source": [
    "3\n"
   ]
  },
  {
   "cell_type": "markdown",
   "id": "1e52a2e3",
   "metadata": {},
   "source": [
    "\n"
   ]
  },
  {
   "cell_type": "code",
   "execution_count": null,
   "id": "d3feacc2",
   "metadata": {},
   "outputs": [],
   "source": [
    "# disable default pep-8 and code metrics verifications\n",
    "grader.enable_pep8_checks(False)\n",
    "grader.enable_code_metrics(False)\n",
    "\n",
    "# run grader on multiple choice question\n",
    "grader.log = grader.grade_multiple_choice_question(\n",
    "    [\n",
    "        {\n",
    "            \"value\": 1,\n",
    "            \"score\": 0,\n",
    "            \"feedback\": \"Puisque l'ensemble des résidus semblent avoir une même distribution, on semble avoir une distribution homoscédastique des erreurs.\",\n",
    "        },\n",
    "        {\n",
    "            \"value\": 2,\n",
    "            \"score\": 0,\n",
    "            \"feedback\": \"Puisque l'ensemble des résidus semblent avoir la même distribution, on semble avoir une distribution homoscédastique des résidus.\",\n",
    "        },\n",
    "        {\n",
    "            \"value\": 3,\n",
    "            \"score\": 1,\n",
    "            \"feedback\": \"En effet, puisque l'ensemble des résidus semblent avoir la même distribution, on semble avoir une distribution homoscédastique des résidus.\",\n",
    "        },\n",
    "        {\n",
    "            \"value\": 4,\n",
    "            \"score\": 0,\n",
    "            \"feedback\": \"Puisque l'ensemble des résidus semblent avoir la même distribution, on semble avoir une distribution homoscédastique des résidus.\",\n",
    "        },\n",
    "        {\n",
    "            \"value\": 5,\n",
    "            \"score\": 0,\n",
    "            \"feedback\": \"Puisque l'ensemble des résidus semblent avoir la même distribution, on semble avoir une distribution homoscédastique des résidu .\",\n",
    "        },\n",
    "    ],\n",
    "    value_type=int,\n",
    "    weight=100,\n",
    ")\n"
   ]
  }
 ],
 "metadata": {},
 "nbformat": 4,
 "nbformat_minor": 5
}
