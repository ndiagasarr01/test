{
 "cells": [
  {
   "cell_type": "markdown",
   "id": "e61026b1",
   "metadata": {},
   "source": [
    "---\n",
    "jupyter:\n",
    "  jupytext:\n",
    "    text_representation:\n",
    "      extension: .md\n",
    "      format_name: markdown\n",
    "      format_version: '1.3'\n",
    "      jupytext_version: 1.16.0\n",
    "  kernelspec:\n",
    "    display_name: Python 3 (ipykernel)\n",
    "    language: python\n",
    "    name: python3\n",
    "---\n",
    "\n",
    "<!-- #region tags=[\"problem-title\"] id=\"9be157d5\" -->\n",
    "# Interprétation de la précision\n",
    "<!-- #endregion -->\n",
    "\n",
    "<!-- #region tags=[\"problem-statement\"] id=\"c611182d\" -->\n",
    "Un modèle de classification à deux classes est créé. On obtient un modèle qui a une précision de 0,99. Peut-on affirmer que notre modèle performe mieux qu'un modèle qui affecte aléatoirement une des deux classes avec une probabilité $p$?\n",
    "<!-- #endregion -->\n",
    "\n",
    "<!-- #region id=\"49526339\" -->\n",
    "## Entrez votre solution dans la cellule ci-dessous\n",
    "Faites votre choix en entrant dans la cellule ci-dessous soit `True` pour faire le choix **vrai**, soit `False` pour faire le choix **faux**, puis pressez le bouton <button class=\"btn btn-xs btn-success disabled\">Soumettre</button> dans le haut du notebook.\n",
    "<!-- #endregion -->\n",
    "\n"
   ]
  },
  {
   "cell_type": "code",
   "execution_count": null,
   "id": "54a92429",
   "metadata": {},
   "outputs": [],
   "source": [
    "\n"
   ]
  },
  {
   "cell_type": "markdown",
   "id": "07d1aee0",
   "metadata": {},
   "source": [
    "\n",
    "<!-- #region id=\"c919110e\" -->\n",
    "\n",
    "\n",
    "<!-- #endregion -->\n",
    "\n"
   ]
  },
  {
   "cell_type": "code",
   "execution_count": null,
   "id": "115bb77e",
   "metadata": {},
   "outputs": [],
   "source": [
    "False\n"
   ]
  },
  {
   "cell_type": "markdown",
   "id": "7a8b26d0",
   "metadata": {},
   "source": [
    "\n"
   ]
  },
  {
   "cell_type": "code",
   "execution_count": null,
   "id": "68b20387",
   "metadata": {},
   "outputs": [],
   "source": [
    "# disable default pep-8 and code metrics verifications\n",
    "grader.enable_pep8_checks(False)\n",
    "grader.enable_code_metrics(False)\n",
    "\n",
    "# run grader on multiple choice question\n",
    "grader.log = grader.grade_multiple_choice_question(\n",
    "    [\n",
    "        {\n",
    "            \"value\": True,\n",
    "            \"score\": 0,\n",
    "            \"feedback\": \"Mauvaise réponse! Par exemple si un jeu de données possède 99 données appartenant à une classe et 1 seule donnée à l'autre classe. On pourrait seulement utiliser un classificateur aléatoire avec $p=1$ et on obtiendrait une précision de 0,99. On doit donc toujours choisir nos métriques en fonction de la proportion des classes.\",\n",
    "        },\n",
    "        {\n",
    "            \"value\": False,\n",
    "            \"score\": 1,\n",
    "            \"feedback\": \"Bonne réponse! Par exemple si un jeu de données possède 99 données appartenant à une classe et 1 seule donnée à l'autre classe. On pourrait seulement utiliser un classificateur aléatoire avec $p=1$ et on obtiendrait une précision de 0,99. On doit donc toujours choisir nos métriques en fonction de la proportion des classes.\",\n",
    "        },\n",
    "    ],\n",
    "    value_type=bool,\n",
    "    weight=100,\n",
    ")\n"
   ]
  }
 ],
 "metadata": {},
 "nbformat": 4,
 "nbformat_minor": 5
}
