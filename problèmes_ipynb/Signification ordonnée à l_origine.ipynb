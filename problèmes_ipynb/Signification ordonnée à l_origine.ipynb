{
 "cells": [
  {
   "cell_type": "markdown",
   "id": "46de5450",
   "metadata": {},
   "source": [
    "---\n",
    "jupyter:\n",
    "  jupytext:\n",
    "    text_representation:\n",
    "      extension: .md\n",
    "      format_name: markdown\n",
    "      format_version: '1.3'\n",
    "      jupytext_version: 1.16.0\n",
    "  kernelspec:\n",
    "    display_name: Python 3\n",
    "    language: python\n",
    "    name: python3\n",
    "---\n",
    "\n",
    "<!-- #region tags=[\"problem-title\"] id=\"63f89898\" -->\n",
    "# Signification ordonnée à l'origine\n",
    "<!-- #endregion -->\n",
    "\n",
    "<!-- #region tags=[\"problem-statement\"] id=\"902745e5\" -->\n",
    "La valeur $a_0$ dans la formule $y = a_0 + a_1x_1$ représente-t-elle l'estimation de $y$ lorsque la valeur de la variable $x_1$ est 0?\n",
    "<!-- #endregion -->\n",
    "\n",
    "<!-- #region id=\"3ed31235\" -->\n",
    "## Entrez votre solution dans la cellule ci-dessous\n",
    "Faites votre choix en entrant dans la cellule ci-dessous soit `True` pour faire le choix **vrai**, soit `False` pour faire le choix **faux**, puis pressez le bouton <button class=\"btn btn-xs btn-success disabled\">Soumettre</button> dans le haut du notebook.\n",
    "<!-- #endregion -->\n",
    "\n"
   ]
  },
  {
   "cell_type": "code",
   "execution_count": null,
   "id": "f068c942",
   "metadata": {},
   "outputs": [],
   "source": [
    "\n"
   ]
  },
  {
   "cell_type": "markdown",
   "id": "788ecbfd",
   "metadata": {},
   "source": [
    "\n"
   ]
  },
  {
   "cell_type": "code",
   "execution_count": null,
   "id": "59b4145c",
   "metadata": {},
   "outputs": [],
   "source": [
    "True\n"
   ]
  },
  {
   "cell_type": "markdown",
   "id": "b59ac863",
   "metadata": {},
   "source": [
    "\n"
   ]
  },
  {
   "cell_type": "code",
   "execution_count": null,
   "id": "49b7c7c1",
   "metadata": {},
   "outputs": [],
   "source": [
    "# disable default pep-8 and code metrics verifications\n",
    "grader.enable_pep8_checks(False)\n",
    "grader.enable_code_metrics(False)\n",
    "\n",
    "# run grader on multiple choice question\n",
    "grader.log = grader.grade_multiple_choice_question(\n",
    "    [\n",
    "        {\n",
    "            \"value\": True,\n",
    "            \"score\": 1,\n",
    "            \"feedback\": \"Effectivement, c'est la prédiction de $y$ lorsque $x1=0$.\",\n",
    "        },\n",
    "        {\n",
    "            \"value\": False,\n",
    "            \"score\": 0,\n",
    "            \"feedback\": \"C'est la prédiction de $y$ lorsque $x1=0$.\",\n",
    "        },\n",
    "    ],\n",
    "    value_type=bool,\n",
    "    weight=100,\n",
    ")\n"
   ]
  }
 ],
 "metadata": {},
 "nbformat": 4,
 "nbformat_minor": 5
}
