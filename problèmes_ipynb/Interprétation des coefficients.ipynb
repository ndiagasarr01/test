{
 "cells": [
  {
   "cell_type": "markdown",
   "id": "e959bfef",
   "metadata": {},
   "source": [
    "---\n",
    "jupyter:\n",
    "  jupytext:\n",
    "    text_representation:\n",
    "      extension: .md\n",
    "      format_name: markdown\n",
    "      format_version: '1.3'\n",
    "      jupytext_version: 1.16.0\n",
    "  kernelspec:\n",
    "    display_name: Python 3 (ipykernel)\n",
    "    language: python\n",
    "    name: python3\n",
    "---\n",
    "\n",
    "<!-- #region tags=[\"problem-title\"] id=\"54eee369\" -->\n",
    "# Interprétation des coefficients\n",
    "<!-- #endregion -->\n",
    "\n",
    "<!-- #region tags=[\"problem-statement\"] id=\"f15a54a3\" -->\n",
    "Soit la régression logistique suivante&puncsp;:\n",
    "\n",
    "$$p(E|X, \\Theta)= {\\dfrac {1}{1+e^{-(2+4x_{1})}}}$$\n",
    "\n",
    "Puisque le coefficient de $x_1$ est de 4, peut-on affirmer qu'une augmentation de 1 dans la valeur de $x_1$ permet d'augmenter de 4 la probabilité prédite?\n",
    "\n",
    "<!-- #endregion -->\n",
    "\n",
    "<!-- #region id=\"1097d4db\" -->\n",
    "## Entrez votre solution dans la cellule ci-dessous\n",
    "Faites votre choix en entrant dans la cellule ci-dessous soit `True` pour faire le choix **vrai**, soit `False` pour faire le choix **faux**, puis pressez le bouton <button class=\"btn btn-xs btn-success disabled\">Soumettre</button> dans le haut du notebook.\n",
    "<!-- #endregion -->\n",
    "\n"
   ]
  },
  {
   "cell_type": "code",
   "execution_count": null,
   "id": "f7addece",
   "metadata": {},
   "outputs": [],
   "source": [
    "\n"
   ]
  },
  {
   "cell_type": "markdown",
   "id": "55000984",
   "metadata": {},
   "source": [
    "\n"
   ]
  },
  {
   "cell_type": "code",
   "execution_count": null,
   "id": "68950cd8",
   "metadata": {},
   "outputs": [],
   "source": [
    "False\n"
   ]
  },
  {
   "cell_type": "markdown",
   "id": "02d48dec",
   "metadata": {},
   "source": [
    "\n"
   ]
  },
  {
   "cell_type": "code",
   "execution_count": null,
   "id": "5b500af4",
   "metadata": {},
   "outputs": [],
   "source": [
    "# disable default pep-8 and code metrics verifications\n",
    "grader.enable_pep8_checks(False)\n",
    "grader.enable_code_metrics(False)\n",
    "\n",
    "# run grader on multiple choice question\n",
    "grader.log = grader.grade_multiple_choice_question(\n",
    "    [\n",
    "        {\n",
    "            \"value\": True,\n",
    "            \"score\": 0,\n",
    "            \"feedback\": \"L'interprétation des coefficients dans la régression logistique est beaucoup plus complexe. Il est facile d'affirmer par exemple qu'une variable aura un effet positif, mais la quantification de cet impact est plus complexe à expliquer.\",\n",
    "        },\n",
    "        {\n",
    "            \"value\": False,\n",
    "            \"score\": 1,\n",
    "            \"feedback\": \"Effectivement, l'interprétation des coefficients dans la régression logistique est beaucoup plus complexe. Il est facile d'affirmer par exemple qu'une variable aura un effet positif, mais la quantification de cet impact est plus complexe à expliquer.\",\n",
    "        },\n",
    "    ],\n",
    "    value_type=bool,\n",
    "    weight=100,\n",
    ")\n"
   ]
  }
 ],
 "metadata": {},
 "nbformat": 4,
 "nbformat_minor": 5
}
