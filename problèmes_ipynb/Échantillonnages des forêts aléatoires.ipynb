{
 "cells": [
  {
   "cell_type": "markdown",
   "id": "e3838bc7",
   "metadata": {},
   "source": [
    "---\n",
    "jupyter:\n",
    "  jupytext:\n",
    "    text_representation:\n",
    "      extension: .md\n",
    "      format_name: markdown\n",
    "      format_version: '1.3'\n",
    "      jupytext_version: 1.16.0\n",
    "  kernelspec:\n",
    "    display_name: Python 3 (ipykernel)\n",
    "    language: python\n",
    "    name: python3\n",
    "---\n",
    "\n",
    "<!-- #region tags=[\"problem-title\"] id=\"3c54d276\" -->\n",
    "# Échantillonnages des forêts aléatoires\n",
    "<!-- #endregion -->\n",
    "\n",
    "<!-- #region tags=[\"problem-statement\"] id=\"dbe51e9c\" -->\n",
    "Pour créer les arbres décisionnels, on doit d'abord créer des jeux de données d'entraînement pour chaque arbre. Peut-on utiliser le même jeu pour chaque arbre?\n",
    "<!-- #endregion -->\n",
    "\n",
    "<!-- #region id=\"9c588afa\" -->\n",
    "## Entrez votre solution dans la cellule ci-dessous\n",
    "Faites votre choix en entrant dans la cellule ci-dessous soit `True` pour faire le choix **vrai**, soit `False` pour faire le choix **faux**, puis pressez le bouton <button class=\"btn btn-xs btn-success disabled\">Soumettre</button> dans le haut du notebook.\n",
    "<!-- #endregion -->\n",
    "\n"
   ]
  },
  {
   "cell_type": "code",
   "execution_count": null,
   "id": "e0ba2668",
   "metadata": {},
   "outputs": [],
   "source": [
    "\n"
   ]
  },
  {
   "cell_type": "markdown",
   "id": "dbd8ce35",
   "metadata": {},
   "source": [
    "\n"
   ]
  },
  {
   "cell_type": "code",
   "execution_count": null,
   "id": "fe89e149",
   "metadata": {},
   "outputs": [],
   "source": [
    "False\n"
   ]
  },
  {
   "cell_type": "markdown",
   "id": "9e564a99",
   "metadata": {},
   "source": [
    "\n"
   ]
  },
  {
   "cell_type": "code",
   "execution_count": null,
   "id": "747a5bc4",
   "metadata": {},
   "outputs": [],
   "source": [
    "# disable default pep-8 and code metrics verifications\n",
    "grader.enable_pep8_checks(False)\n",
    "grader.enable_code_metrics(False)\n",
    "\n",
    "# run grader on multiple choice question\n",
    "grader.log = grader.grade_multiple_choice_question(\n",
    "    [\n",
    "        {\n",
    "            \"value\": True,\n",
    "            \"score\": 0,\n",
    "            \"feedback\": \"On ne doit pas utiliser les mêmes ensembles de données pour l'entraînement, car les arbres construits auraient alors les mêmes règles de décision, et il n'y aurait aucun avantage à créer plusieurs arbres.\",\n",
    "        },\n",
    "        {\n",
    "            \"value\": False,\n",
    "            \"score\": 1,\n",
    "            \"feedback\": \"Effectivement, on ne doit pas utiliser les mêmes ensembles de données pour l'entraînement, car les arbres construits auraient alors les mêmes règles de décision, et il n'y aurait aucun avantage à créer plusieurs arbres.\",\n",
    "        },\n",
    "    ],\n",
    "    value_type=bool,\n",
    "    weight=100,\n",
    ")\n"
   ]
  }
 ],
 "metadata": {},
 "nbformat": 4,
 "nbformat_minor": 5
}
