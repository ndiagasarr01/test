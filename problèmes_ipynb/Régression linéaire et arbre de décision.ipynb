{
 "cells": [
  {
   "cell_type": "markdown",
   "id": "111ea4db",
   "metadata": {},
   "source": [
    "---\n",
    "jupyter:\n",
    "  jupytext:\n",
    "    text_representation:\n",
    "      extension: .md\n",
    "      format_name: markdown\n",
    "      format_version: '1.3'\n",
    "      jupytext_version: 1.16.0\n",
    "  kernelspec:\n",
    "    display_name: Python 3\n",
    "    language: python\n",
    "    name: python3\n",
    "---\n",
    "\n",
    "<!-- #region tags=[\"problem-title\"] id=\"a3c8011d\" -->\n",
    "# Régression linéaire et arbre de décision\n",
    "<!-- #endregion -->\n",
    "\n",
    "<!-- #region tags=[\"problem-statement\"] id=\"357e180c\" -->\n",
    "Les méthodes d'arbre décisionnel sont souvent préférées à la régression linéaire lorsque l'objectif est d'obtenir des prédictions précises. Les méthodes d'arbre décisionnel sont-elles à privilégier lorsque l'objectif principal est d'analyser l'influence d'une variable sur une variable d'intérêt?\n",
    "<!-- #endregion -->\n",
    "\n",
    "<!-- #region id=\"5ac7e185\" -->\n",
    "## Entrez votre solution dans la cellule ci-dessous\n",
    "Faites votre choix en entrant dans la cellule ci-dessous soit `True` pour faire le choix **vrai**, soit `False` pour faire le choix **faux**, puis pressez le bouton <button class=\"btn btn-xs btn-success disabled\">Soumettre</button> dans le haut du notebook.\n",
    "<!-- #endregion -->\n",
    "\n"
   ]
  },
  {
   "cell_type": "code",
   "execution_count": null,
   "id": "ad566b90",
   "metadata": {},
   "outputs": [],
   "source": [
    "\n"
   ]
  },
  {
   "cell_type": "markdown",
   "id": "3208295f",
   "metadata": {},
   "source": [
    "\n"
   ]
  },
  {
   "cell_type": "code",
   "execution_count": null,
   "id": "11118980",
   "metadata": {},
   "outputs": [],
   "source": [
    "False\n"
   ]
  },
  {
   "cell_type": "markdown",
   "id": "26067017",
   "metadata": {},
   "source": [
    "\n"
   ]
  },
  {
   "cell_type": "code",
   "execution_count": null,
   "id": "5a7731fd",
   "metadata": {},
   "outputs": [],
   "source": [
    "# disable default pep-8 and code metrics verifications\n",
    "grader.enable_pep8_checks(False)\n",
    "grader.enable_code_metrics(False)\n",
    "\n",
    "# run grader on multiple choice question\n",
    "grader.log = grader.grade_multiple_choice_question(\n",
    "    [\n",
    "        {\n",
    "            \"value\": True,\n",
    "            \"score\": 0,\n",
    "            \"feedback\": \"C'est l'inverse. Les méthodes à arbre décisionnel permettent généralement d'obtenir de meilleures prédictions, mais l'impact des variables dépendantes sur la variable d'intérêt est plus difficile à interpréter qu'avec la régression linéaire.\",\n",
    "        },\n",
    "        {\n",
    "            \"value\": False,\n",
    "            \"score\": 1,\n",
    "            \"feedback\": \"Effectivement, les méthodes à arbre décisionnel permettent généralement d'obtenir de meilleures prédictions, mais l'impact des variables dépendantes sur la variable d'intérêt est plus difficile à interpréter qu'avec la régression linéaire.\",\n",
    "        },\n",
    "    ],\n",
    "    value_type=bool,\n",
    "    weight=100,\n",
    ")\n"
   ]
  }
 ],
 "metadata": {},
 "nbformat": 4,
 "nbformat_minor": 5
}
