{
 "cells": [
  {
   "cell_type": "markdown",
   "id": "5f2858ff",
   "metadata": {},
   "source": [
    "---\n",
    "jupyter:\n",
    "  jupytext:\n",
    "    text_representation:\n",
    "      extension: .md\n",
    "      format_name: markdown\n",
    "      format_version: '1.3'\n",
    "      jupytext_version: 1.16.0\n",
    "  kernelspec:\n",
    "    display_name: Python 3 (ipykernel)\n",
    "    language: python\n",
    "    name: python3\n",
    "---\n",
    "\n",
    "<!-- #region tags=[\"problem-title\"] id=\"51e64f3e\" -->\n",
    "# Trouvez la causalité\n",
    "<!-- #endregion -->\n",
    "\n",
    "<!-- #region tags=[\"problem-statement\"] id=\"7ae7e348\" -->\n",
    "Parmi les relations suivantes, laquelle semble la plus causale&puncsp;:\n",
    "1. Coût des taxis, prix de l'essence,<br> Coefficient de corrélation $=0.1$\n",
    "2. Vente de billets manèges, pluie tombée (mm),<br> Coefficient de corrélation $=-0.8$\n",
    "3. Prix de l'essence moyen annuel, vente moyenne de cellulaire annuel,<br> Coefficient de corrélation $=0.9$\n",
    "<!-- #endregion -->\n",
    "\n",
    "<!-- #region id=\"bd92ce13\" -->\n",
    "## Entrez votre solution dans la cellule ci-dessous\n",
    "Faites votre choix en entrant son numéro dans la cellule ci-dessous, puis pressez le bouton <button class=\"btn btn-xs btn-success disabled\">Soumettre</button> dans le haut du notebook.\n",
    "<!-- #endregion -->\n",
    "\n"
   ]
  },
  {
   "cell_type": "code",
   "execution_count": null,
   "id": "71206eec",
   "metadata": {},
   "outputs": [],
   "source": [
    "\n"
   ]
  },
  {
   "cell_type": "markdown",
   "id": "a6f28ff6",
   "metadata": {},
   "source": [
    "\n"
   ]
  },
  {
   "cell_type": "code",
   "execution_count": null,
   "id": "8531c1f0",
   "metadata": {},
   "outputs": [],
   "source": [
    "2\n"
   ]
  },
  {
   "cell_type": "markdown",
   "id": "dcdae4f1",
   "metadata": {},
   "source": [
    "\n"
   ]
  },
  {
   "cell_type": "code",
   "execution_count": null,
   "id": "6cc408db",
   "metadata": {},
   "outputs": [],
   "source": [
    "# disable default pep-8 and code metrics verifications\n",
    "grader.enable_pep8_checks(False)\n",
    "grader.enable_code_metrics(False)\n",
    "\n",
    "# run grader on multiple choice question\n",
    "grader.log = grader.grade_multiple_choice_question(\n",
    "    [\n",
    "        {\n",
    "            \"value\": 1,\n",
    "            \"score\": 0,\n",
    "            \"feedback\": \"Car, le coefficient de corrélation est près de zéro.\",\n",
    "        },\n",
    "        {\n",
    "            \"value\": 2,\n",
    "            \"score\": 1,\n",
    "            \"feedback\": \"En effet, la corrélation est élevée et les deux variables semblent logiquement plus causales que celles de l'option 3.\",\n",
    "        },\n",
    "        {\n",
    "            \"value\": 3,\n",
    "            \"score\": 0,\n",
    "            \"feedback\": \"Car, malgré la corrélation plus élevée que l'option 3, la causalité logique des variables est peu vraisemblable.\",\n",
    "        },\n",
    "    ],\n",
    "    value_type=int,\n",
    "    weight=100,\n",
    ")\n"
   ]
  }
 ],
 "metadata": {},
 "nbformat": 4,
 "nbformat_minor": 5
}
