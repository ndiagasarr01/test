{
 "cells": [
  {
   "cell_type": "markdown",
   "id": "3c9c16e5",
   "metadata": {},
   "source": [
    "---\n",
    "jupyter:\n",
    "  jupytext:\n",
    "    text_representation:\n",
    "      extension: .md\n",
    "      format_name: markdown\n",
    "      format_version: '1.3'\n",
    "      jupytext_version: 1.16.0\n",
    "  kernelspec:\n",
    "    display_name: Python 3 (ipykernel)\n",
    "    language: python\n",
    "    name: python3\n",
    "---\n",
    "\n",
    "<!-- #region tags=[\"problem-title\"] id=\"e1609782\" -->\n",
    "\n",
    "# Association des variables et des coefficients\n",
    "\n",
    "<!-- #endregion -->\n",
    "\n",
    "<!-- #region tags=[\"problem-statement\"] id=\"03a03b83\" -->\n",
    "Voici la forme générale de la régression&puncsp;:\n",
    "\n",
    "$$\n",
    "y=f(x_{1}, \\cdots, x_{N}, \\Theta)\n",
    "$$\n",
    "\n",
    "En s'appuyant sur cette forme, choisissez l'option qui associe les bonnes valeurs à la situation où l'on souhaite prédire l'âge d'une personne en se basant sur sa masse musculaire et son temps d'exercice physique quotidien&puncsp;:\n",
    "\n",
    "1. $y$=âge, $x_1$=masse musculaire, $x_2$=exercice physique\n",
    "2. $x_1$=âge, $y$=masse musculaire, $x_2$=exercice physique\n",
    "3. $x_1$=âge, $x_2$=masse musculaire, $y$=exercice physique\n",
    "4. $x_1$=âge, $y_1$=masse musculaire, $y_2$=exercice physique\n",
    "5. Aucune des réponses précédentes\n",
    "\n",
    "<!-- #endregion -->\n",
    "\n",
    "<!-- #region id=\"e529249f\" -->\n",
    "## Entrez votre solution dans la cellule ci-dessous\n",
    "Faites votre choix en entrant son numéro dans la cellule ci-dessous, puis pressez le bouton <button class=\"btn btn-xs btn-success disabled\">Soumettre</button> dans le haut du notebook.\n",
    "<!-- #endregion -->\n",
    "\n"
   ]
  },
  {
   "cell_type": "code",
   "execution_count": null,
   "id": "3910f9d3",
   "metadata": {},
   "outputs": [],
   "source": [
    "\n"
   ]
  },
  {
   "cell_type": "markdown",
   "id": "00ac219f",
   "metadata": {},
   "source": [
    "\n"
   ]
  },
  {
   "cell_type": "code",
   "execution_count": null,
   "id": "5eb23fdd",
   "metadata": {},
   "outputs": [],
   "source": [
    "1\n"
   ]
  },
  {
   "cell_type": "markdown",
   "id": "944a2c9f",
   "metadata": {},
   "source": [
    "\n"
   ]
  },
  {
   "cell_type": "code",
   "execution_count": null,
   "id": "26a7483a",
   "metadata": {},
   "outputs": [],
   "source": [
    "# disable default pep-8 and code metrics verifications\n",
    "grader.enable_pep8_checks(False)\n",
    "grader.enable_code_metrics(False)\n",
    "\n",
    "# run grader on multiple choice question\n",
    "grader.log = grader.grade_multiple_choice_question(\n",
    "    [\n",
    "        {\n",
    "            \"value\": 1,\n",
    "            \"score\": 1,\n",
    "            \"feedback\": \"En effet, la variable qu'on cherche à prédire est $y$. Les variables qui nous permettront de trouver cette prédiction sont les $x$.\",\n",
    "        },\n",
    "        {\n",
    "            \"value\": 2,\n",
    "            \"score\": 0,\n",
    "            \"feedback\": \"La variable qu'on cherche à prédire est $y$. Les variables qui nous permettront de trouver cette prédiction sont les $x$.\",\n",
    "        },\n",
    "        {\n",
    "            \"value\": 3,\n",
    "            \"score\": 0,\n",
    "            \"feedback\": \"La variable qu'on cherche à prédire est $y$. Les variables qui nous permettront de trouver cette prédiction sont les $x$.\",\n",
    "        },\n",
    "        {\n",
    "            \"value\": 4,\n",
    "            \"score\": 0,\n",
    "            \"feedback\": \"La variable qu'on cherche à prédire est $y$. Les variables qui nous permettront de trouver cette prédiction sont les $x$.\",\n",
    "        },\n",
    "        {\n",
    "            \"value\": 5,\n",
    "            \"score\": 0,\n",
    "            \"feedback\": \"La variable qu'on cherche à prédire est $y$. Les variables qui nous permettront de trouver cette prédiction sont les $x$.\",\n",
    "        },\n",
    "    ],\n",
    "    value_type=int,\n",
    "    weight=100,\n",
    ")\n"
   ]
  }
 ],
 "metadata": {},
 "nbformat": 4,
 "nbformat_minor": 5
}
