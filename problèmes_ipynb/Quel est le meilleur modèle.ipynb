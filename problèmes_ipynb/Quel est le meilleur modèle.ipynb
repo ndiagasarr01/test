{
 "cells": [
  {
   "cell_type": "markdown",
   "id": "090ace55",
   "metadata": {},
   "source": [
    "---\n",
    "jupyter:\n",
    "  jupytext:\n",
    "    text_representation:\n",
    "      extension: .md\n",
    "      format_name: markdown\n",
    "      format_version: '1.3'\n",
    "      jupytext_version: 1.16.0\n",
    "  kernelspec:\n",
    "    display_name: Python 3\n",
    "    language: python\n",
    "    name: python3\n",
    "---\n",
    "\n",
    "<!-- #region tags=[\"problem-title\"] id=\"00088201\" -->\n",
    "# Quel est le meilleur modèle\n",
    "<!-- #endregion -->\n",
    "\n",
    "<!-- #region tags=[\"problem-statement\"] id=\"39fa2fae\" -->\n",
    "On veut modéliser le prix des maisons à partir de certaines caractérisques. Par contre l'ensemble de données d'entraînement possède des maisons avec des caractérisques similaires. Le modèle sera éventuellement utilisé pour prédire des valeurs qui auront des caractéristiques très différentes de celles d'entraînement. Quel modèle semble être le plus approprié à utiliser:\n",
    "\n",
    "1. Régression linéaire\n",
    "2. Arbre décisionnel\n",
    "<!-- #endregion -->\n",
    "\n",
    "<!-- #region id=\"a6cab008\" -->\n",
    "## Entrez votre solution dans la cellule ci-dessous\n",
    "Faites votre choix en entrant son numéro dans la cellule ci-dessous, puis pressez le bouton <button class=\"btn btn-xs btn-success disabled\">Soumettre</button> dans le haut du notebook.\n",
    "<!-- #endregion -->\n",
    "\n"
   ]
  },
  {
   "cell_type": "code",
   "execution_count": null,
   "id": "6019f84f",
   "metadata": {},
   "outputs": [],
   "source": [
    "\n"
   ]
  },
  {
   "cell_type": "markdown",
   "id": "5d951a0e",
   "metadata": {},
   "source": [
    "\n"
   ]
  },
  {
   "cell_type": "code",
   "execution_count": null,
   "id": "5783144d",
   "metadata": {},
   "outputs": [],
   "source": [
    "1\n"
   ]
  },
  {
   "cell_type": "markdown",
   "id": "4a804218",
   "metadata": {},
   "source": [
    "\n"
   ]
  },
  {
   "cell_type": "code",
   "execution_count": null,
   "id": "242616d4",
   "metadata": {},
   "outputs": [],
   "source": [
    "# disable default pep-8 and code metrics verifications\n",
    "grader.enable_pep8_checks(False)\n",
    "grader.enable_code_metrics(False)\n",
    "\n",
    "# run grader on multiple choice question\n",
    "grader.log = grader.grade_multiple_choice_question(\n",
    "    [\n",
    "        {\n",
    "            \"value\": 1,\n",
    "            \"score\": 1,\n",
    "            \"feedback\": \"En effet, les arbres décisionnels ne peuvent extrapoler au delà des valeurs d'entraînement, ce que fait facilement le modèle de régression linéaire.\",\n",
    "        },\n",
    "        {\n",
    "            \"value\": 2,\n",
    "            \"score\": 0,\n",
    "            \"feedback\": \"Les arbres décisionnels ne peuvent extrapoler au delà des valeurs d'entraînement, ce que fait facilement le modèle de régression linéaire..\",\n",
    "        },\n",
    "    ],\n",
    "    value_type=int,\n",
    "    weight=100,\n",
    ")\n"
   ]
  }
 ],
 "metadata": {},
 "nbformat": 4,
 "nbformat_minor": 5
}
