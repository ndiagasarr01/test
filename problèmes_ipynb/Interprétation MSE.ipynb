{
 "cells": [
  {
   "cell_type": "markdown",
   "id": "ef931d71",
   "metadata": {},
   "source": [
    "---\n",
    "jupyter:\n",
    "  jupytext:\n",
    "    text_representation:\n",
    "      extension: .md\n",
    "      format_name: markdown\n",
    "      format_version: '1.3'\n",
    "      jupytext_version: 1.16.0\n",
    "  kernelspec:\n",
    "    display_name: Python 3\n",
    "    language: python\n",
    "    name: python3\n",
    "---\n",
    "\n",
    "<!-- #region tags=[\"problem-title\"] id=\"93b91119\" -->\n",
    "# Interprétation mse\n",
    "<!-- #endregion -->\n",
    "\n",
    "<!-- #region tags=[\"problem-statement\"] id=\"a99435db\" -->\n",
    "En regardant les métriques obtenues d'un modèle de régression sur un ensemble de données de test, on peut remarquer qu'on obtient une erreur quadratique moyenne de 8. Peut-on affirmer que, en moyenne, notre modèle fait une erreur de $\\pm 8$ sur ses prédictions pour l'ensemble de tests?\n",
    "\n",
    "<!-- #endregion -->\n",
    "\n",
    "<!-- #region id=\"58ebec97\" -->\n",
    "## Entrez votre solution dans la cellule ci-dessous\n",
    "Faites votre choix en entrant dans la cellule ci-dessous soit `True` pour faire le choix **vrai**, soit `False` pour faire le choix **faux**, puis pressez le bouton <button class=\"btn btn-xs btn-success disabled\">Soumettre</button> dans le haut du notebook.\n",
    "<!-- #endregion -->\n",
    "\n"
   ]
  },
  {
   "cell_type": "code",
   "execution_count": null,
   "id": "d09feffe",
   "metadata": {},
   "outputs": [],
   "source": [
    "\n"
   ]
  },
  {
   "cell_type": "markdown",
   "id": "03274f5d",
   "metadata": {},
   "source": [
    "\n"
   ]
  },
  {
   "cell_type": "code",
   "execution_count": null,
   "id": "89affd4f",
   "metadata": {},
   "outputs": [],
   "source": [
    "False\n"
   ]
  },
  {
   "cell_type": "markdown",
   "id": "cbc17f9b",
   "metadata": {},
   "source": [
    "\n"
   ]
  },
  {
   "cell_type": "code",
   "execution_count": null,
   "id": "9461e3ea",
   "metadata": {},
   "outputs": [],
   "source": [
    "# disable default pep-8 and code metrics verifications\n",
    "grader.enable_pep8_checks(False)\n",
    "grader.enable_code_metrics(False)\n",
    "\n",
    "# run grader on multiple choice question\n",
    "grader.log = grader.grade_multiple_choice_question(\n",
    "    [\n",
    "        {\n",
    "            \"value\": True,\n",
    "            \"score\": 0,\n",
    "            \"feedback\": \"L'erreur quadratique moyenne fait la moyenne des résidus élevés au carré, soit la variance des erreurs. Ça n'a rien à voir avec l'erreur moyenne des erreurs.\"\n",
    "        },\n",
    "        {\n",
    "            \"value\": False,\n",
    "            \"score\": 1,\n",
    "            \"feedback\": \"Effectivement, l'erreur quadratique moyenne fait la moyenne des résidus élevés au carré, soit la variance des erreurs. Ça n'a rien à voir avec l'erreur moyenne des erreurs.\",\n",
    "        },\n",
    "    ],\n",
    "    value_type=bool,\n",
    "    weight=100,\n",
    ")\n"
   ]
  }
 ],
 "metadata": {},
 "nbformat": 4,
 "nbformat_minor": 5
}
