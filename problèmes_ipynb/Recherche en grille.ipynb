{
 "cells": [
  {
   "cell_type": "markdown",
   "id": "54c125aa",
   "metadata": {},
   "source": [
    "---\n",
    "jupyter:\n",
    "  jupytext:\n",
    "    text_representation:\n",
    "      extension: .md\n",
    "      format_name: markdown\n",
    "      format_version: '1.3'\n",
    "      jupytext_version: 1.16.0\n",
    "  kernelspec:\n",
    "    display_name: Python 3 (ipykernel)\n",
    "    language: python\n",
    "    name: python3\n",
    "---\n",
    "\n",
    "<!-- #region tags=[\"problem-title\"] id=\"18033070\" -->\n",
    "# Recherche en grille\n",
    "<!-- #endregion -->\n",
    "\n",
    "<!-- #region tags=[\"problem-statement\"] id=\"6c43c2de\" -->\n",
    "La recherche en grille teste-t-elle toutes les méthodes possibles selon des valeurs de paramètres spécifiés?\n",
    "<!-- #endregion -->\n",
    "\n",
    "<!-- #region id=\"58a61198\" -->\n",
    "## Entrez votre solution dans la cellule ci-dessous\n",
    "Faites votre choix en entrant dans la cellule ci-dessous soit `True` pour faire le choix **vrai**, soit `False` pour faire le choix **faux**, puis pressez le bouton <button class=\"btn btn-xs btn-success disabled\">Soumettre</button> dans le haut du notebook.\n",
    "<!-- #endregion -->\n",
    "\n"
   ]
  },
  {
   "cell_type": "code",
   "execution_count": null,
   "id": "7c22292a",
   "metadata": {},
   "outputs": [],
   "source": [
    "\n"
   ]
  },
  {
   "cell_type": "markdown",
   "id": "6bf2e840",
   "metadata": {},
   "source": [
    "\n"
   ]
  },
  {
   "cell_type": "code",
   "execution_count": null,
   "id": "c43935b7",
   "metadata": {},
   "outputs": [],
   "source": [
    "True\n"
   ]
  },
  {
   "cell_type": "markdown",
   "id": "bcceba2b",
   "metadata": {},
   "source": [
    "\n"
   ]
  },
  {
   "cell_type": "code",
   "execution_count": null,
   "id": "d232ab31",
   "metadata": {},
   "outputs": [],
   "source": [
    "# disable default pep-8 and code metrics verifications\n",
    "grader.enable_pep8_checks(False)\n",
    "grader.enable_code_metrics(False)\n",
    "\n",
    "# run grader on multiple choice question\n",
    "grader.log = grader.grade_multiple_choice_question(\n",
    "    [\n",
    "        {\n",
    "            \"value\": True,\n",
    "            \"score\": 1,\n",
    "            \"feedback\": \"Effectivement, toutes les combinaisons possibles de paramètres seront essayées. Ce type de recherche permettra d'avoir une recherche exhaustive, mais très longue. Il existe d'autres méthodes de recherches qui seront moins exhaustives, mais moins onéreuses en temps (p. ex. une recherche aléatoire ou de l'optimisation bayésienne).\",\n",
    "        },\n",
    "        {\n",
    "            \"value\": False,\n",
    "            \"score\": 0,\n",
    "            \"feedback\": \"Toutes les combinaisons possibles de paramètres seront essayées. Ce type de recherche permettra d'avoir une recherche exhaustive, mais très longue. Il existe d'autres méthodes de recherches qui seront moins exhaustives, mais moins onéreuses en temps (p. ex. une recherche aléatoire ou de l'optimisation bayésienne).\",\n",
    "        },\n",
    "    ],\n",
    "    value_type=bool,\n",
    "    weight=100,\n",
    ")\n"
   ]
  }
 ],
 "metadata": {},
 "nbformat": 4,
 "nbformat_minor": 5
}
