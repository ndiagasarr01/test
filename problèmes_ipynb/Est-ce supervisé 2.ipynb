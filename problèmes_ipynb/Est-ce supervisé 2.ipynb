{
 "cells": [
  {
   "cell_type": "markdown",
   "id": "315d482b",
   "metadata": {},
   "source": [
    "---\n",
    "jupyter:\n",
    "  jupytext:\n",
    "    text_representation:\n",
    "      extension: .md\n",
    "      format_name: markdown\n",
    "      format_version: '1.3'\n",
    "      jupytext_version: 1.16.0\n",
    "  kernelspec:\n",
    "    display_name: Python 3 (ipykernel)\n",
    "    language: python\n",
    "    name: python3\n",
    "---\n",
    "\n",
    "<!-- #region tags=[\"problem-title\"] id=\"53dcdfb2\" -->\n",
    "# Est-ce supervisé 2\n",
    "<!-- #endregion -->\n",
    "\n",
    "<!-- #region tags=[\"problem-statement\"] id=\"18ef1335\" -->\n",
    "On modèlise une fonction qui a comme objectif de transformer la distribution d'images vers une distribution normale. De cette façon, les images aux caractéristiques invraisemblables seront projetées dans des endroits à faible densité de la loi normale. Cette technique est-elle supervisée?\n",
    "<!-- #endregion -->\n",
    "\n",
    "<!-- #region id=\"57c14c2f\" -->\n",
    "## Entrez votre solution dans la cellule ci-dessous\n",
    "Faites votre choix en entrant dans la cellule ci-dessous soit `True` pour faire le choix **vrai**, soit `False` pour faire le choix **faux**, puis pressez le bouton <button class=\"btn btn-xs btn-success disabled\">Soumettre</button> dans le haut du notebook.\n",
    "<!-- #endregion -->\n",
    "\n"
   ]
  },
  {
   "cell_type": "code",
   "execution_count": null,
   "id": "d248ea7a",
   "metadata": {},
   "outputs": [],
   "source": [
    "\n"
   ]
  },
  {
   "cell_type": "markdown",
   "id": "cf5c3313",
   "metadata": {},
   "source": [
    "\n"
   ]
  },
  {
   "cell_type": "code",
   "execution_count": null,
   "id": "f795f02b",
   "metadata": {},
   "outputs": [],
   "source": [
    "False\n"
   ]
  },
  {
   "cell_type": "markdown",
   "id": "47fb1e3f",
   "metadata": {},
   "source": [
    "\n"
   ]
  },
  {
   "cell_type": "code",
   "execution_count": null,
   "id": "ab75ad0a",
   "metadata": {},
   "outputs": [],
   "source": [
    "# disable default pep-8 and code metrics verifications\n",
    "grader.enable_pep8_checks(False)\n",
    "grader.enable_code_metrics(False)\n",
    "\n",
    "# run grader on multiple choice question\n",
    "grader.log = grader.grade_multiple_choice_question(\n",
    "    [\n",
    "        {\n",
    "            \"value\": True,\n",
    "            \"score\": 0,\n",
    "            \"feedback\": \"Cette modélisation est non supervisée. Cette technique est souvent utilisée dans la détection d'anomalies. Les données qui possèderont des caractéristiques atypiques seront vraisemblablement projetées dans des zones à faible densité de la loi normale. On pourra ensuite les distinguer comme anormale.\",\n",
    "        },\n",
    "        {\n",
    "            \"value\": False,\n",
    "            \"score\": 1,\n",
    "            \"feedback\": \"En effet, cette modélisation est non supervisée. Cette technique est souvent utilisée dans la détection d'anomalies. Les données qui possèderont des caractéristiques atypiques seront vraisemblablement projetées dans des zones à faible densité de la loi normale. On pourra ensuite les distinguer comme anormale.\",\n",
    "        },\n",
    "    ],\n",
    "    value_type=bool,\n",
    "    weight=100,\n",
    ")\n"
   ]
  }
 ],
 "metadata": {},
 "nbformat": 4,
 "nbformat_minor": 5
}
