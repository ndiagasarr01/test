{
 "cells": [
  {
   "cell_type": "markdown",
   "id": "3393086a",
   "metadata": {},
   "source": [
    "---\n",
    "jupyter:\n",
    "  jupytext:\n",
    "    text_representation:\n",
    "      extension: .md\n",
    "      format_name: markdown\n",
    "      format_version: '1.3'\n",
    "      jupytext_version: 1.16.0\n",
    "  kernelspec:\n",
    "    display_name: Python 3 (ipykernel)\n",
    "    language: python\n",
    "    name: python3\n",
    "---\n",
    "\n",
    "<!-- #region tags=[\"problem-title\"] id=\"858e892e\" -->\n",
    "# Identification du type de problème\n",
    "<!-- #endregion -->\n",
    "\n",
    "<!-- #region tags=[\"problem-statement\"] id=\"b9b91c71\" -->\n",
    "Un ensemble de données d'images possède des photos de chats, de chiens, et de chats et chiens ensemble. On veut entraîner un modèle à prédire si une image contient des animaux ou pas. À quoi correspond ce problème?\n",
    "\n",
    "1. Classification binaire\n",
    "2. Classification multiclasse\n",
    "3. Classification multiétiquette\n",
    "<!-- #endregion -->\n",
    "\n",
    "<!-- #region id=\"1b521ce3\" -->\n",
    "## Entrez votre solution dans la cellule ci-dessous\n",
    "Faites votre choix en entrant son numéro dans la cellule ci-dessous, puis pressez le bouton <button class=\"btn btn-xs btn-success disabled\">Soumettre</button> dans le haut du notebook.\n",
    "<!-- #endregion -->\n",
    "\n"
   ]
  },
  {
   "cell_type": "code",
   "execution_count": null,
   "id": "38897702",
   "metadata": {},
   "outputs": [],
   "source": [
    "\n"
   ]
  },
  {
   "cell_type": "markdown",
   "id": "4f3cd695",
   "metadata": {},
   "source": [
    "\n"
   ]
  },
  {
   "cell_type": "code",
   "execution_count": null,
   "id": "abc8a5ae",
   "metadata": {},
   "outputs": [],
   "source": [
    "1\n"
   ]
  },
  {
   "cell_type": "markdown",
   "id": "b2704728",
   "metadata": {},
   "source": [
    "\n"
   ]
  },
  {
   "cell_type": "code",
   "execution_count": null,
   "id": "888375bd",
   "metadata": {},
   "outputs": [],
   "source": [
    "# disable default pep-8 and code metrics verifications\n",
    "grader.enable_pep8_checks(False)\n",
    "grader.enable_code_metrics(False)\n",
    "\n",
    "# run grader on multiple choice question\n",
    "grader.log = grader.grade_multiple_choice_question(\n",
    "    [\n",
    "        {\n",
    "            \"value\": 1,\n",
    "            \"score\": 1,\n",
    "            \"feedback\": \"En effet, il s'agit d'un problème de classification binaire puisque nous avons deux classes&puncsp;: avec ou sans animaux.\",\n",
    "        },\n",
    "        {\n",
    "            \"value\": 2,\n",
    "            \"score\": 0,\n",
    "            \"feedback\": \"Nous n'avons pas trois classes (chat, chien, et chat et chien) mais bien deux classes (contient des animaux ou non).\",\n",
    "        },\n",
    "        {\n",
    "            \"value\": 3,\n",
    "            \"score\": 0,\n",
    "            \"feedback\": \"Faux, nous voulons juste prédire une étiquette (avec ou sans animaux) et non prédire s'il y a un chat ET un chien dans la même image.\",\n",
    "        },\n",
    "    ],\n",
    "    value_type=int,\n",
    "    weight=100,\n",
    ")\n"
   ]
  }
 ],
 "metadata": {},
 "nbformat": 4,
 "nbformat_minor": 5
}
