{
 "cells": [
  {
   "cell_type": "markdown",
   "id": "96760a7e",
   "metadata": {},
   "source": [
    "---\n",
    "jupyter:\n",
    "  jupytext:\n",
    "    text_representation:\n",
    "      extension: .md\n",
    "      format_name: markdown\n",
    "      format_version: '1.3'\n",
    "      jupytext_version: 1.16.0\n",
    "  kernelspec:\n",
    "    display_name: Python 3\n",
    "    language: python\n",
    "    name: python3\n",
    "---\n",
    "\n",
    "<!-- #region tags=[\"problem-title\"] id=\"8b1bfcb1\" -->\n",
    "# Variables catégorielles\n",
    "<!-- #endregion -->\n",
    "\n",
    "<!-- #region tags=[\"problem-statement\"] id=\"87acfb31\" -->\n",
    "On veut créer un modèle permettant de prédire le revenu familial moyen avec seulement une variable qui indique la ville de cette famille. Cette variable possède 3 valeurs différentes&puncsp;: Montréal, Québec, Gatineau. Quelle forme devrait prendre le modèle parmi les choix suivants&puncsp;:\n",
    "\n",
    "1. $\\text{Revenu} = a_0 + a_{\\text{ville}}x_{\\text{ville}}$\n",
    "2. $\\text{Revenu} = a_0 + a_{\\text{Montréal}}x_{\\text{Montréal}}+a_{\\text{Québec}}x_{\\text{Québec}}+a_{\\text{Gatineau}}x_{\\text{Gatineau}}$\n",
    "3. $\\text{Revenu} = a_0 + a_{\\text{Montréal}}x_{\\text{Montréal}}+a_{\\text{Québec}}x_{\\text{Québec}}$\n",
    "<!-- #endregion -->\n",
    "\n",
    "<!-- #region id=\"9e0521b7\" -->\n",
    "## Entrez votre solution dans la cellule ci-dessous\n",
    "Faites votre choix en entrant son numéro dans la cellule ci-dessous, puis pressez le bouton <button class=\"btn btn-xs btn-success disabled\">Soumettre</button> dans le haut du notebook.\n",
    "<!-- #endregion -->\n",
    "\n"
   ]
  },
  {
   "cell_type": "code",
   "execution_count": null,
   "id": "49b91217",
   "metadata": {},
   "outputs": [],
   "source": [
    "\n"
   ]
  },
  {
   "cell_type": "markdown",
   "id": "a214cc61",
   "metadata": {},
   "source": [
    "\n"
   ]
  },
  {
   "cell_type": "code",
   "execution_count": null,
   "id": "73dab055",
   "metadata": {},
   "outputs": [],
   "source": [
    "3\n"
   ]
  },
  {
   "cell_type": "markdown",
   "id": "343f6a8f",
   "metadata": {},
   "source": [
    "\n"
   ]
  },
  {
   "cell_type": "code",
   "execution_count": null,
   "id": "7b592913",
   "metadata": {},
   "outputs": [],
   "source": [
    "# disable default pep-8 and code metrics verifications\n",
    "grader.enable_pep8_checks(False)\n",
    "grader.enable_code_metrics(False)\n",
    "\n",
    "# run grader on multiple choice question\n",
    "grader.log = grader.grade_multiple_choice_question(\n",
    "    [\n",
    "        {\n",
    "            \"value\": 1,\n",
    "            \"score\": 0,\n",
    "            \"feedback\": \"Car, cette option traite la valeur de la ville comme si elle était continue.\",\n",
    "        },\n",
    "        {\n",
    "            \"value\": 2,\n",
    "            \"score\": 0,\n",
    "            \"feedback\": \"Car, cette option possède trois (3) variables, une pour chaque ville, alors que seulement deux (2) sont nécessaires.\",\n",
    "        },\n",
    "        {\n",
    "            \"value\": 3,\n",
    "            \"score\": 1,\n",
    "            \"feedback\": \"En effet, cette option n'utilise que deux variables pour les villes en incluant la troisième ville dans le terme $a0$.\",\n",
    "        },\n",
    "    ],\n",
    "    value_type=int,\n",
    "    weight=100,\n",
    ")\n"
   ]
  }
 ],
 "metadata": {},
 "nbformat": 4,
 "nbformat_minor": 5
}
