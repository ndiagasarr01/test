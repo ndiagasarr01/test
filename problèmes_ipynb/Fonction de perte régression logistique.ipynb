{
 "cells": [
  {
   "cell_type": "markdown",
   "id": "7047ec5d",
   "metadata": {},
   "source": [
    "---\n",
    "jupyter:\n",
    "  jupytext:\n",
    "    text_representation:\n",
    "      extension: .md\n",
    "      format_name: markdown\n",
    "      format_version: '1.3'\n",
    "      jupytext_version: 1.16.0\n",
    "  kernelspec:\n",
    "    display_name: Python 3\n",
    "    language: python\n",
    "    name: python3\n",
    "---\n",
    "\n",
    "<!-- #region tags=[\"problem-title\"] id=\"90eb5f1b\" -->\n",
    "# Fonction de perte régression logistique\n",
    "<!-- #endregion -->\n",
    "\n",
    "<!-- #region tags=[\"problem-statement\"] id=\"3e397f02\" -->\n",
    "Voici la formule de perte en régression logistique pour une seule donnée:\n",
    "\n",
    "$$\n",
    "S_{i}(\\Theta)= -y_{i}\\log{p(1|X)} -(1-y_{i})\\log{p(0|X)}\n",
    "$$\n",
    "\n",
    "Considérant que notre modèle prédit des valeurs entre 0 et 1, quand le second terme de droite sera-t-il assurément nul?\n",
    "\n",
    "1. Lorsque la prédiction aura une valeur très faible\n",
    "2. Lorsque la prédiction aura une valeur très élevée\n",
    "3. Lorsque la valeur réelle sera égale à 1\n",
    "4. Lorsque la valeur réelle sera égale à 0\n",
    "5. Aucune des réponses précédentes\n",
    "<!-- #endregion -->\n",
    "\n",
    "<!-- #region id=\"d1de2fd0\" -->\n",
    "## Entrez votre solution dans la cellule ci-dessous\n",
    "Faites votre choix en entrant son numéro dans la cellule ci-dessous, puis pressez le bouton <button class=\"btn btn-xs btn-success disabled\">Soumettre</button> dans le haut du notebook.\n",
    "<!-- #endregion -->\n",
    "\n"
   ]
  },
  {
   "cell_type": "code",
   "execution_count": null,
   "id": "a3aee1c6",
   "metadata": {},
   "outputs": [],
   "source": [
    "\n"
   ]
  },
  {
   "cell_type": "markdown",
   "id": "e2e79d07",
   "metadata": {},
   "source": [
    "\n"
   ]
  },
  {
   "cell_type": "code",
   "execution_count": null,
   "id": "0c106b76",
   "metadata": {},
   "outputs": [],
   "source": [
    "3\n"
   ]
  },
  {
   "cell_type": "markdown",
   "id": "9b2f54ea",
   "metadata": {},
   "source": [
    "\n"
   ]
  },
  {
   "cell_type": "code",
   "execution_count": null,
   "id": "d8c1adb1",
   "metadata": {},
   "outputs": [],
   "source": [
    "# disable default pep-8 and code metrics verifications\n",
    "grader.enable_pep8_checks(False)\n",
    "grader.enable_code_metrics(False)\n",
    "\n",
    "# run grader on multiple choice question\n",
    "grader.log = grader.grade_multiple_choice_question(\n",
    "    [\n",
    "        {\n",
    "            \"value\": 1,\n",
    "            \"score\": 0,\n",
    "            \"feedback\": \"On peut remarquer que le terme de droite est multiplié par 0 lorsque $y$ prend la valeur 1.\",\n",
    "        },\n",
    "        {\n",
    "            \"value\": 2,\n",
    "            \"score\": 0,\n",
    "            \"feedback\": \"On peut remarquer que le terme de droite est multiplié par 0 lorsque $y$ prend la valeur 1.\",\n",
    "        },\n",
    "        {\n",
    "            \"value\": 3,\n",
    "            \"score\": 1,\n",
    "            \"feedback\": \"En effet, on peut remarquer que le terme de droite est multiplié par 0 lorsque $y$ prend la valeur 1.\",\n",
    "        },\n",
    "        {\n",
    "            \"value\": 4,\n",
    "            \"score\": 0,\n",
    "            \"feedback\": \"On peut remarquer que le terme de droite est multiplié par 0 lorsque $y$ prend la valeur 1.\",\n",
    "        },\n",
    "        {\n",
    "            \"value\": 5,\n",
    "            \"score\": 0,\n",
    "            \"feedback\": \"On peut remarquer que le terme de droite est multiplié par 0 lorsque $y$ prend la valeur 1.\",\n",
    "        },\n",
    "    ],\n",
    "    value_type=int,\n",
    "    weight=100,\n",
    ")\n"
   ]
  }
 ],
 "metadata": {},
 "nbformat": 4,
 "nbformat_minor": 5
}
