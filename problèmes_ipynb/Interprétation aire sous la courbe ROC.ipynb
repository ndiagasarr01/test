{
 "cells": [
  {
   "cell_type": "markdown",
   "id": "b29aaf47",
   "metadata": {},
   "source": [
    "---\n",
    "jupyter:\n",
    "  jupytext:\n",
    "    text_representation:\n",
    "      extension: .md\n",
    "      format_name: markdown\n",
    "      format_version: '1.3'\n",
    "      jupytext_version: 1.16.0\n",
    "  kernelspec:\n",
    "    display_name: Python 3 (ipykernel)\n",
    "    language: python\n",
    "    name: python3\n",
    "---\n",
    "\n",
    "<!-- #region tags=[\"problem-title\"] id=\"3ae0d25a\" -->\n",
    "# Interprétation aire sous la courbe ROC\n",
    "<!-- #endregion -->\n",
    "\n",
    "<!-- #region tags=[\"problem-statement\"] id=\"c8daaa39\" -->\n",
    "Une classification à deux classes est créée sur un jeu de données balancé. On obtient une aire sous la courbe ROC de 0,1. Le modèle semble donc classifier encore moins bien qu'un classificateur aléatoire. Ce modèle est-il inutile?\n",
    "<!-- #endregion -->\n",
    "\n",
    "<!-- #region id=\"857ef225\" -->\n",
    "## Entrez votre solution dans la cellule ci-dessous\n",
    "Faites votre choix en entrant dans la cellule ci-dessous soit `True` pour faire le choix **vrai**, soit `False` pour faire le choix **faux**, puis pressez le bouton <button class=\"btn btn-xs btn-success disabled\">Soumettre</button> dans le haut du notebook.\n",
    "<!-- #endregion -->\n",
    "\n"
   ]
  },
  {
   "cell_type": "code",
   "execution_count": null,
   "id": "d5ff6e46",
   "metadata": {},
   "outputs": [],
   "source": [
    "\n"
   ]
  },
  {
   "cell_type": "markdown",
   "id": "a708999c",
   "metadata": {},
   "source": [
    "\n",
    "<!-- #region id=\"e2be4f8f\" -->\n",
    "\n",
    "\n",
    "<!-- #endregion -->\n",
    "\n"
   ]
  },
  {
   "cell_type": "code",
   "execution_count": null,
   "id": "9fbff6d4",
   "metadata": {},
   "outputs": [],
   "source": [
    "False\n"
   ]
  },
  {
   "cell_type": "markdown",
   "id": "08e4b276",
   "metadata": {},
   "source": [
    "\n"
   ]
  },
  {
   "cell_type": "code",
   "execution_count": null,
   "id": "7d3a093c",
   "metadata": {},
   "outputs": [],
   "source": [
    "# disable default pep-8 and code metrics verifications\n",
    "grader.enable_pep8_checks(False)\n",
    "grader.enable_code_metrics(False)\n",
    "\n",
    "# run grader on multiple choice question\n",
    "grader.log = grader.grade_multiple_choice_question(\n",
    "    [\n",
    "        {\n",
    "            \"value\": True,\n",
    "            \"score\": 0,\n",
    "            \"feedback\": \"Mauvaise réponse! Si le modèle donne de moins bonnes prédictions qu'un classificateur aléatoire, ça veut dire qu'il prédira généralement la classe inverse de la vraie classe d'une donnée. Il y a donc probablement une erreur dans la règle de décision finale de la classification. Par exemple, seulement prédire la classe opposée du modèle permet d'obtenir une aire sous la courbe ROC de 0,9.\",\n",
    "        },\n",
    "        {\n",
    "            \"value\": False,\n",
    "            \"score\": 1,\n",
    "            \"feedback\": \"Bonne réponse! Si le modèle donne de moins bonnes prédictions qu'un classificateur aléatoire, ça veut dire qu'il prédira généralement la classe inverse de la vraie classe d'une donnée. Il y a donc probablement une erreur dans la règle de décision finale de la classification. Par exemple, seulement prédire la classe opposée du modèle permet d'obtenir une aire sous la courbe ROC de 0,9.\",\n",
    "        },\n",
    "    ],\n",
    "    value_type=bool,\n",
    "    weight=100,\n",
    ")\n"
   ]
  }
 ],
 "metadata": {},
 "nbformat": 4,
 "nbformat_minor": 5
}
