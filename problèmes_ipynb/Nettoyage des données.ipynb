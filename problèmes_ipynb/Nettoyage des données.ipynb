{
 "cells": [
  {
   "cell_type": "markdown",
   "id": "d81152e7",
   "metadata": {},
   "source": [
    "---\n",
    "jupyter:\n",
    "  jupytext:\n",
    "    text_representation:\n",
    "      extension: .md\n",
    "      format_name: markdown\n",
    "      format_version: '1.3'\n",
    "      jupytext_version: 1.16.0\n",
    "  kernelspec:\n",
    "    display_name: Python 3 (ipykernel)\n",
    "    language: python\n",
    "    name: python3\n",
    "---\n",
    "\n",
    "<!-- #region tags=[\"problem-title\"] id=\"d7ea86c9\" -->\n",
    "# Nettoyage des données\n",
    "<!-- #endregion -->\n",
    "\n",
    "<!-- #region tags=[\"problem-statement\"] id=\"4497988c\" -->\n",
    "On veut effectuer une régression linéaire pour prédire le coût alloué à l'épicerie pour un ménage. Les données proviennent de différents pays ayant des jeux de données nettoyés selon leurs standards. On remarque que le pays du ménage est la variable la plus significative du modèle. On peut donc dire que la provenance d'un ménage semble significativement impacter son montant alloué à l'épicerie.\n",
    "<!-- #endregion -->\n",
    "\n",
    "<!-- #region id=\"bdb24e88\" -->\n",
    "## Entrez votre solution dans la cellule ci-dessous\n",
    "Faites votre choix en entrant dans la cellule ci-dessous soit `True` pour faire le choix **vrai**, soit `False` pour faire le choix **faux**, puis pressez le bouton <button class=\"btn btn-xs btn-success disabled\">Soumettre</button> dans le haut du notebook.\n",
    "<!-- #endregion -->\n",
    "\n"
   ]
  },
  {
   "cell_type": "code",
   "execution_count": null,
   "id": "6539d00a",
   "metadata": {},
   "outputs": [],
   "source": [
    "\n"
   ]
  },
  {
   "cell_type": "markdown",
   "id": "9b2e6cde",
   "metadata": {},
   "source": [
    "\n"
   ]
  },
  {
   "cell_type": "code",
   "execution_count": null,
   "id": "c841b0a5",
   "metadata": {},
   "outputs": [],
   "source": [
    "False\n"
   ]
  },
  {
   "cell_type": "markdown",
   "id": "58777d11",
   "metadata": {},
   "source": [
    "\n"
   ]
  },
  {
   "cell_type": "code",
   "execution_count": null,
   "id": "9f8f0149",
   "metadata": {},
   "outputs": [],
   "source": [
    "# disable default pep-8 and code metrics verifications\n",
    "grader.enable_pep8_checks(False)\n",
    "grader.enable_code_metrics(False)\n",
    "\n",
    "# run grader on multiple choice question\n",
    "grader.log = grader.grade_multiple_choice_question(\n",
    "    [\n",
    "        {\n",
    "            \"value\": False,\n",
    "            \"score\": 1,\n",
    "            \"feedback\": \"En combinant plusieurs jeu de données nettoyés, on doit tout de même s'assurer que les données aient les mêmes standards. Dans cet exemple, on pourrait penser que cette forte corrélation provient de la valeur de l'argent du pays. Il faudrait donc s'assurer qu'on convertisse les valeurs dans la même devise pour s'assurer qu'il n'y ait pas de fausse corrélation.\",\n",
    "        },\n",
    "        {\n",
    "            \"value\": False,\n",
    "            \"score\": 0,\n",
    "            \"feedback\": \"En effet, en combinant plusieurs jeu de données nettoyés, on doit tout de même s'assurer que les données aient les mêmes standards. Dans cet exemple, on pourrait penser que cette forte corrélation provient de la valeur de l'argent du pays. Il faudrait donc s'assurer qu'on convertisse les valeurs dans la même devise pour s'assurer qu'il n'y ait pas de fausse corrélation.\",\n",
    "        },\n",
    "    ],\n",
    "    value_type=bool,\n",
    "    weight=100,\n",
    ")\n"
   ]
  }
 ],
 "metadata": {},
 "nbformat": 4,
 "nbformat_minor": 5
}
