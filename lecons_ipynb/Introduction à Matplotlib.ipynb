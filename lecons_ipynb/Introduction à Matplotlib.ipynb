{
 "cells": [
  {
   "cell_type": "markdown",
   "id": "68346bdb",
   "metadata": {},
   "source": [
    "---\n",
    "jupyter:\n",
    "  jupytext:\n",
    "    text_representation:\n",
    "      extension: .md\n",
    "      format_name: markdown\n",
    "      format_version: '1.3'\n",
    "      jupytext_version: 1.16.0\n",
    "  kernelspec:\n",
    "    display_name: Python 3 (ipykernel)\n",
    "    language: python\n",
    "    name: python3\n",
    "---\n",
    "\n",
    "<!-- #region id=\"4e3a1478\" -->\n",
    "# Table des matières\n",
    "1. [Introduction](#introduction)\n",
    "3. [Contrôler l'affichage comme dans MATLAB](#contrôler-laffichage-comme-dans-matlab)\n",
    "4. [Matplotlib orienté objet](#matplotlib-orienté-objet)\n",
    "    1. [Syntaxe de base](#syntaxe-de-base)\n",
    "    1. [Tailles et proportions](#tailles-et-proportions)\n",
    "    1. [Sauvegarder des figures](#sauvegarder-des-figures)\n",
    "    1. [Titres, libellés et légendes](#titres-libellés-et-légendes)\n",
    "    1. [Formatage des textes](#formattage-des-textes)\n",
    "    1. [Couleurs, largeur et types de lignes](#couleurs-largeur-et-types-de-lignes)\n",
    "    1. [Contrôle des axes](#contrôle-des-axes)\n",
    "    1. [Placement des échelles et libellés](#placement-des-échelles-et-libellés)\n",
    "    1. [Grille](#grille)\n",
    "    1. [Double graphique](#double-graphique)\n",
    "    1. [Élimination des bords d'une figure](#élimination-des-bords-dune-figure)\n",
    "    1. [Autres graphes 2D](#autres-graphes-2d)\n",
    "    1. [Textes d'annotation](#textes-dannotation)\n",
    "    1. [Figures avec sous graphes](#figures-avec-sous-graphes)\n",
    "    1. [Graphes de contour](#graphes-de-contour)\n",
    "5. [Graphes 3D](#graphes-3d)\n",
    "    1. [Tracés de surface](#tracés-de-surface)\n",
    "    1. [Diagramme filaire](#diagramme-filaire)\n",
    "    1. [Graphiques de contour avec projections](#graphiques-de-contour-avec-projections)\n",
    "6. [Compléments](#compléments)\n",
    "7. [Aide-mémoires et trucs utiles](#aide-mémoires-et-trucs-utiles)\n",
    "<!-- #endregion -->\n",
    "\n"
   ]
  },
  {
   "cell_type": "code",
   "execution_count": null,
   "id": "dc81361f",
   "metadata": {},
   "outputs": [],
   "source": [
    "import os\n",
    "\n",
    "if os.path.exists(\"filename.png\"):\n",
    "    os.remove(\"filename.png\")\n"
   ]
  },
  {
   "cell_type": "markdown",
   "id": "bde1e447",
   "metadata": {},
   "source": [
    "\n",
    "<!-- #region id=\"a238bd91\" -->\n",
    "<div align=\"center\">\n",
    "    <img src=\"../images/matplotlib-logo.svg\"  width=\"400\" />\n",
    "    <div>\n",
    "    <font size=\"1.5\">Image Source: https://matplotlib.org/</font>\n",
    "    </div>\n",
    "</div>\n",
    "\n",
    "<!-- #endregion -->\n",
    "\n",
    "<!-- #region id=\"3b55b395\" -->\n",
    "Qu'est-ce que Matplotlib?\n",
    "\n",
    "\n",
    "C'est une librairie de visualisation de données en langage Python pour des graphes 2-D et 3-D. Elle fournit le moyen le plus simple et le plus courant de tracer et de visualiser ses données en Python.\n",
    "\n",
    "En bref, Matplotlib, c'est une librairie\n",
    "\n",
    "- d'une grande qualité graphique,\n",
    "- facile à utiliser,\n",
    "- qui supporte le formatage [$\\LaTeX$](https://fr.wikipedia.org/wiki/LaTeX) pour les libellés,\n",
    "- qui permet de contrôler tous les éléments d'une figure,\n",
    "- qui supporte plusieurs formats, notamment PNG, JPG, EPS, SVG, PGF et PDF,\n",
    "- qui  permet de générer des visualisations de qualité pouvant être utilisées pour des publications et des présentations professionnelles.\n",
    "\n",
    "De plus, Matplotlib ressemble au langage de programmation [MATLAB](https://en.wikipedia.org/wiki/MATLAB), plus spécifiquement,\n",
    "\n",
    "- Matplotlib permet de reproduire (avec la librairie Pylab) les fonctionnalités graphiques du langage MATLAB largement utilisé par les scientifiques.\n",
    "- La plupart des fonctions MATLAB sont incluses dans Pylab.\n",
    "- Pour cette raison, Python tend à remplacer graduellement MATLAB en recherche et développement. Les similitudes entre les deux langages facilitent la transition des scientifiques vers le Python sans trop causer de traumatismes!\n",
    "- Comme avec MATLAB, Matplotlib permet aux utilisateurs d'avoir un contrôle total sur les polices, les lignes, les couleurs, les styles et les propriétés des axes.\n",
    "- Il n'est pas exagéré de dire que Matplotlib, NumPy et SciPy sont l'équivalent open source de MATLAB.\n",
    "<!-- #endregion -->\n",
    "\n",
    "<!-- #region id=\"153c2e97\" -->\n",
    "<center>\n",
    "<a href=\"http://www.insa-toulouse.fr/\" ><img src=\"../images/insa-logo.jpeg\" style=\"float:left; max-width: 120px; display: inline\" alt=\"INSA\"/></a>\n",
    "\n",
    "<a href=\"http://wikistat.fr/\" ><img src=\"../images/wiki-stat.jpeg\" style=\"float:right; max-width: 250px; display: inline\"  alt=\"Wikistat\"/></a>\n",
    "</center>\n",
    "<!-- #endregion -->\n",
    "\n",
    "<!-- #region id=\"db34daad\" -->\n",
    "Ce module est basé sur un [tutoriel](https://github.com/wikistat/Intro-Python/blob/master/Cal3-PythonGraphes.ipynb) s'insérant dans la formation [Python pour statistique et science des données](https://github.com/wikistat/Intro-Python)\n",
    "proposée par l'Institut National des Sciences Appliquées de Toulouse (INSA).\n",
    "\n",
    "Il a été préparé par Philippe Besse, Professeur Émérite INSA Toulouse, et s'inspire librement d'un notebook Jupyter développé par J.R. Johansson. D'autres calepins du même auteur sont accessibles [ici](http://jrjohansson.github.io).\n",
    "\n",
    "<!-- #endregion -->\n",
    "\n",
    "<!-- #region id=\"3281d5d1\" -->\n",
    "# <a id=introduction>Introduction</a>\n",
    "<!-- #endregion -->\n",
    "\n",
    "<!-- #region id=\"c4099286\" -->\n",
    "> Important, la commande ci-dessous provoque l'insertion des graphiques dans le notebook Jupyter plutôt que l'ouverture de nouvelles fenêtres.\n",
    "<!-- #endregion -->\n",
    "\n"
   ]
  },
  {
   "cell_type": "code",
   "execution_count": null,
   "id": "1383f353",
   "metadata": {},
   "outputs": [],
   "source": [
    "%matplotlib inline\n"
   ]
  },
  {
   "cell_type": "markdown",
   "id": "3d88b03d",
   "metadata": {},
   "source": [
    "\n",
    "<!-- #region id=\"393daa22\" -->\n",
    "Pour démarrer avec Matplotlib dans un programme Python, importer le module `matplotlib.pyplot` avec l'identifiant `plt`. Il est courant d'utiliser l'identifiant `plt` pour l'importation de la librairie.\n",
    "<!-- #endregion -->\n",
    "\n"
   ]
  },
  {
   "cell_type": "code",
   "execution_count": null,
   "id": "23dbc44f",
   "metadata": {},
   "outputs": [],
   "source": [
    "import matplotlib.pyplot as plt\n",
    "\n",
    "import numpy as np\n"
   ]
  },
  {
   "cell_type": "markdown",
   "id": "bb0d039a",
   "metadata": {},
   "source": [
    "\n",
    "<!-- #region id=\"3c48e461\" -->\n",
    "# <a id=contrôler-laffichage-comme-dans-matlab>Contrôler l'affichage comme dans MATLAB</a>\n",
    "<!-- #endregion -->\n",
    "\n",
    "<!-- #region id=\"8d954401\" -->\n",
    "La façon la plus simple d'utiliser Matplotlib est de le faire par l'API de type MATLAB compatible avec les fonctions graphique de MATLAB.\n",
    "<!-- #endregion -->\n",
    "\n"
   ]
  },
  {
   "cell_type": "code",
   "execution_count": null,
   "id": "c410aebc",
   "metadata": {},
   "outputs": [],
   "source": [
    "from pylab import *\n"
   ]
  },
  {
   "cell_type": "markdown",
   "id": "605f1036",
   "metadata": {},
   "source": [
    "\n",
    "<!-- #region id=\"71aa4cef\" -->\n",
    "Exemple élémentaire d'utilisation de l'API.\n",
    "<!-- #endregion -->\n",
    "\n"
   ]
  },
  {
   "cell_type": "code",
   "execution_count": null,
   "id": "8b8fbd32",
   "metadata": {},
   "outputs": [],
   "source": [
    "x = np.linspace(0, 5, 10)\n",
    "y = x ** 2\n"
   ]
  },
  {
   "cell_type": "markdown",
   "id": "1fb3ed25",
   "metadata": {},
   "source": [
    "\n"
   ]
  },
  {
   "cell_type": "code",
   "execution_count": null,
   "id": "cce2995f",
   "metadata": {},
   "outputs": [],
   "source": [
    "figure()\n",
    "plot(x, y, \"r\")\n",
    "xlabel(\"x\")\n",
    "ylabel(\"y\")\n",
    "title(\"Titre\")\n",
    "show()\n"
   ]
  },
  {
   "cell_type": "markdown",
   "id": "caa998ab",
   "metadata": {},
   "source": [
    "\n",
    "<!-- #region id=\"db1fffd9\" -->\n",
    "La plupart des fonctions MATLAB sont incluses dans `pylab`.\n",
    "<!-- #endregion -->\n",
    "\n"
   ]
  },
  {
   "cell_type": "code",
   "execution_count": null,
   "id": "d9909ba0",
   "metadata": {},
   "outputs": [],
   "source": [
    "subplot(1, 2, 1)\n",
    "plot(x, y, \"r--\")\n",
    "subplot(1, 2, 2)\n",
    "plot(y, x, \"g*-\")\n",
    "show()\n"
   ]
  },
  {
   "cell_type": "markdown",
   "id": "a4e9c518",
   "metadata": {},
   "source": [
    "\n",
    "<!-- #region id=\"ffafeb8b\" -->\n",
    "Cette API est limitée à des graphes rudimentaires. Les fonctionnalités orientées objet de\n",
    "Matplotlib sont à privilégier pour des graphes plus élaborés.\n",
    "<!-- #endregion -->\n",
    "\n",
    "<!-- #region id=\"d49fbb46\" -->\n",
    "# <a id=matplotlib-orienté-objet>Matplotlib orienté objet</a>\n",
    "<!-- #endregion -->\n",
    "\n",
    "<!-- #region id=\"0436a379\" -->\n",
    "## <a id=syntaxe-de-base>Syntaxe de base</a>\n",
    "<!-- #endregion -->\n",
    "\n",
    "<!-- #region id=\"de5cc25b\" -->\n",
    "L'idée principale avec la programmation orientée objet est d'avoir des objets sur lesquels on peut appliquer\n",
    "des fonctions et des actions, et aucun état d'objet ou de programme ne doit être global (comme l'API de\n",
    "type MATLAB). Le véritable avantage de cette approche devient évident lorsque plus d'une figure est créée,\n",
    "ou lorsqu'une figure contient plus d'un panneau (*Subplot*).\n",
    "\n",
    "Pour utiliser l'API orientée objet, nous commençons comme dans l'exemple précédent, mais au lieu de créer une\n",
    "nouvelle instance de figure globale, nous stockons une référence à l'instance de figure nouvellement créée dans\n",
    "la variable `fig`, et à partir de celle-ci, nous créons un nouvel axe `axes` d'instance à l'aide de la méthode\n",
    "`add_axes` dans l'instance de classe `Figure` `fig` :\n",
    "<!-- #endregion -->\n",
    "\n"
   ]
  },
  {
   "cell_type": "code",
   "execution_count": null,
   "id": "3217ffdc",
   "metadata": {},
   "outputs": [],
   "source": [
    "fig = plt.figure()\n",
    "\n",
    "# Positions à gauche et en bas, largeur et hauteur (plage de 0 à 1)\n",
    "axes = fig.add_axes([0.1, 0.1, 0.8, 0.8])\n",
    "\n",
    "axes.plot(x, y, \"r\")\n",
    "\n",
    "axes.set_xlabel(\"x\")\n",
    "axes.set_ylabel(\"y\")\n",
    "axes.set_title(\"Titre\")\n",
    "show()\n"
   ]
  },
  {
   "cell_type": "markdown",
   "id": "20b0bb26",
   "metadata": {},
   "source": [
    "\n",
    "<!-- #region id=\"88da6a4a\" -->\n",
    "Bien qu'un peu plus de code soit impliqué, l'avantage est que nous avons maintenant un contrôle\n",
    "total sur l'emplacement des axes du tracé, et nous pouvons facilement ajouter plus d'un axe à la figure :\n",
    "<!-- #endregion -->\n",
    "\n"
   ]
  },
  {
   "cell_type": "code",
   "execution_count": null,
   "id": "d983e9ac",
   "metadata": {},
   "outputs": [],
   "source": [
    "fig = plt.figure()\n",
    "\n",
    "axes1 = fig.add_axes([0.1, 0.1, 0.8, 0.8])  # axes principaux\n",
    "axes2 = fig.add_axes([0.2, 0.5, 0.4, 0.3])  # axes de l'insertion\n",
    "\n",
    "# Figure principale\n",
    "axes1.plot(x, y, \"r\")\n",
    "axes1.set_xlabel(\"x\")\n",
    "axes1.set_ylabel(\"y\")\n",
    "axes1.set_title(\"Titre\")\n",
    "\n",
    "# Figure incluse\n",
    "axes2.plot(y, x, \"g\")\n",
    "axes2.set_xlabel(\"y\")\n",
    "axes2.set_ylabel(\"x\")\n",
    "axes2.set_title(\"Titre de l'insertion\")\n",
    "show()\n"
   ]
  },
  {
   "cell_type": "markdown",
   "id": "91bd9295",
   "metadata": {},
   "source": [
    "\n",
    "<!-- #region id=\"874878c2\" -->\n",
    "Si nous ne nous soucions pas d'être explicites sur l'emplacement de nos axes de tracé dans le\n",
    "canevas de la figure, nous pouvons utiliser l'un des nombreux gestionnaires de disposition\n",
    "d'axes dans Matplotlib.\n",
    "<!-- #endregion -->\n",
    "\n"
   ]
  },
  {
   "cell_type": "code",
   "execution_count": null,
   "id": "0b557862",
   "metadata": {},
   "outputs": [],
   "source": [
    "fig, axes = plt.subplots()\n",
    "\n",
    "axes.plot(x, y, \"r\")\n",
    "axes.set_xlabel(\"x\")\n",
    "axes.set_ylabel(\"y\", rotation=0)  # Rotation de l'étiquette y\n",
    "axes.set_title(\"Titre\")\n",
    "show()\n"
   ]
  },
  {
   "cell_type": "markdown",
   "id": "da21aacc",
   "metadata": {},
   "source": [
    "\n"
   ]
  },
  {
   "cell_type": "code",
   "execution_count": null,
   "id": "5a66053f",
   "metadata": {},
   "outputs": [],
   "source": [
    "fig, axes = plt.subplots(nrows=1, ncols=2)\n",
    "\n",
    "for ax in axes:\n",
    "    ax.plot(x, y, \"r\")\n",
    "    ax.set_xlabel(\"x\")\n",
    "    ax.set_ylabel(\"y\")\n",
    "    ax.set_title(\"Titre\")\n",
    "show()\n"
   ]
  },
  {
   "cell_type": "markdown",
   "id": "5fdf6229",
   "metadata": {},
   "source": [
    "\n",
    "<!-- #region id=\"c5186a2b\" -->\n",
    "Il arrive que les axes et les étiquettes se chevauchent. Observez l'étiquette y dans le second panneau.\n",
    "\n",
    "Nous pouvons éviter ce chevauchement en utilisant la méthode `fig.tight_layout`, qui ajuste automatiquement\n",
    "les positions des axes sur le canevas de la figure afin qu'il n'y ait pas de contenu qui se chevauche :\n",
    "<!-- #endregion -->\n",
    "\n"
   ]
  },
  {
   "cell_type": "code",
   "execution_count": null,
   "id": "bac74a33",
   "metadata": {},
   "outputs": [],
   "source": [
    "fig, axes = plt.subplots(nrows=1, ncols=2)\n",
    "\n",
    "for ax in axes:\n",
    "    ax.plot(x, y, \"r\")\n",
    "    ax.set_xlabel(\"x\")\n",
    "    ax.set_ylabel(\"y\")\n",
    "    ax.set_title(\"Titre\")\n",
    "\n",
    "fig.tight_layout()\n",
    "show()\n"
   ]
  },
  {
   "cell_type": "markdown",
   "id": "a8a68151",
   "metadata": {},
   "source": [
    "\n",
    "<!-- #region id=\"e8e278de\" -->\n",
    "## <a id=tailles-et-proportions>Tailles et proportions</a>\n",
    "<!-- #endregion -->\n",
    "\n",
    "<!-- #region id=\"1b921cef\" -->\n",
    "Matplotlib permet de spécifier le rapport hauteur/largeur, le DPI et la taille de la figure\n",
    "lors de la création de l'objet `Figure`, en utilisant les arguments des mots-clés `figsize`\n",
    "et `dpi`. `figsize` est un tuple de la largeur et de la hauteur de la figure en pouces, et\n",
    "`dpi` est le nombre de points par pouce (pixel par pouce).\n",
    "Pour créer un chiffre de 800x400 pixels, 100 points par pouce, nous pouvons faire :\n",
    "<!-- #endregion -->\n",
    "\n"
   ]
  },
  {
   "cell_type": "code",
   "execution_count": null,
   "id": "831cfa1b",
   "metadata": {},
   "outputs": [],
   "source": [
    "fig = plt.figure(figsize=(8, 4), dpi=100)\n"
   ]
  },
  {
   "cell_type": "markdown",
   "id": "6684738f",
   "metadata": {},
   "source": [
    "\n",
    "<!-- #region id=\"f0356693\" -->\n",
    "Les mêmes arguments peuvent également être transmis aux gestionnaires de mise en page, tels\n",
    "que la fonction « subplots » :\n",
    "<!-- #endregion -->\n",
    "\n"
   ]
  },
  {
   "cell_type": "code",
   "execution_count": null,
   "id": "90560abf",
   "metadata": {},
   "outputs": [],
   "source": [
    "fig, axes = plt.subplots(figsize=(12, 3))\n",
    "\n",
    "axes.plot(x, y, \"r\")\n",
    "axes.set_xlabel(\"x\")\n",
    "axes.set_ylabel(\"y\")\n",
    "axes.set_title(\"Titre\")\n",
    "show()\n"
   ]
  },
  {
   "cell_type": "markdown",
   "id": "5eff4844",
   "metadata": {},
   "source": [
    "\n",
    "<!-- #region id=\"09578ae6\" -->\n",
    "## <a id=sauvegarder-des-figures>Sauvegarder des figures</a>\n",
    "<!-- #endregion -->\n",
    "\n",
    "<!-- #region id=\"f9979b9e\" -->\n",
    "Pour enregistrer une figure dans un fichier, nous pouvons utiliser la méthode `savefig` dans la classe `Figure` :\n",
    "<!-- #endregion -->\n",
    "\n"
   ]
  },
  {
   "cell_type": "code",
   "execution_count": null,
   "id": "d60e4918",
   "metadata": {},
   "outputs": [],
   "source": [
    "fig.savefig(\"filename.png\")\n"
   ]
  },
  {
   "cell_type": "markdown",
   "id": "9c474a3d",
   "metadata": {},
   "source": [
    "\n",
    "<!-- #region id=\"c3e790a1\" -->\n",
    "Ici, nous pouvons également spécifier le DPI et choisir entre différents formats de sortie :\n",
    "<!-- #endregion -->\n",
    "\n"
   ]
  },
  {
   "cell_type": "code",
   "execution_count": null,
   "id": "a0e4018c",
   "metadata": {},
   "outputs": [],
   "source": [
    "fig.savefig(\"filename.png\", dpi=200)\n"
   ]
  },
  {
   "cell_type": "markdown",
   "id": "c929dbef",
   "metadata": {},
   "source": [
    "\n"
   ]
  },
  {
   "cell_type": "code",
   "execution_count": null,
   "id": "ec31b4e1",
   "metadata": {},
   "outputs": [],
   "source": [
    "# À exécuter pour supprimer le fichier créé\n",
    "import os\n",
    "os.remove(\"filename.png\")\n"
   ]
  },
  {
   "cell_type": "markdown",
   "id": "bd868ec1",
   "metadata": {},
   "source": [
    "\n",
    "<!-- #region id=\"2b9cc95f\" -->\n",
    "Matplotlib peut générer une sortie de haute qualité dans un certain nombre de formats,\n",
    "notamment PNG, JPG, EPS, SVG, PGF et PDF. Pour les articles scientifiques, on recommande\n",
    "d'utiliser le PDF dans la mesure du possible, car il offre la meilleure qualité. (Les documents LaTeX compilés avec `pdflatex`\n",
    "peuvent inclure des PDF en utilisant la commande `includegraphics`). Dans certains cas, le PGF\n",
    "peut également être une bonne alternative au PDF.\n",
    "<!-- #endregion -->\n",
    "\n",
    "<!-- #region id=\"6bb73e1f\" -->\n",
    "## <a id=titres-libellés-et-légendes>Titres, libellés et légendes</a>\n",
    "<!-- #endregion -->\n",
    "\n",
    "<!-- #region id=\"58c4739a\" -->\n",
    "Maintenant que nous avons couvert les bases de la création d'un canevas de figure et d'ajout\n",
    "d'instances d'axes au canevas, voyons comment décorer une figure avec des titres, des étiquettes d'axe et des légendes.\n",
    "C'est la partie « cosmétique » de la génération de figures.\n",
    "<!-- #endregion -->\n",
    "\n",
    "<!-- #region id=\"28cac114\" -->\n",
    "**Titres**\n",
    "\n",
    "Un titre peut être ajouté à chaque instance d'axe dans une figure. Pour définir le titre, utilisez la méthode `set_title` dans l'instance axes :\n",
    "<!-- #endregion -->\n",
    "\n"
   ]
  },
  {
   "cell_type": "code",
   "execution_count": null,
   "id": "4694513d",
   "metadata": {},
   "outputs": [],
   "source": [
    "ax.set_title(\"title\")\n"
   ]
  },
  {
   "cell_type": "markdown",
   "id": "43804aa5",
   "metadata": {},
   "source": [
    "\n",
    "<!-- #region id=\"31c89a6c\" -->\n",
    "**Libellés des axes**\n",
    "\n",
    "De même, avec les méthodes `set_xlabel` et `set_ylabel`, nous pouvons définir les étiquettes des axes X et Y :\n",
    "<!-- #endregion -->\n",
    "\n"
   ]
  },
  {
   "cell_type": "code",
   "execution_count": null,
   "id": "c405f690",
   "metadata": {},
   "outputs": [],
   "source": [
    "ax.set_xlabel(\"x\")\n",
    "ax.set_ylabel(\"y\")\n"
   ]
  },
  {
   "cell_type": "markdown",
   "id": "2d6a2137",
   "metadata": {},
   "source": [
    "\n",
    "<!-- #region id=\"c6638e56\" -->\n",
    "**Légendes**\n",
    "\n",
    "Les légendes des courbes d'une figure peuvent être ajoutées de deux manières. Une méthode consiste à utiliser la méthode `legend` de l'objet axe et à transmettre une liste ou un tuple de textes de légende pour les courbes définies précédemment :\n",
    "<!-- #endregion -->\n",
    "\n"
   ]
  },
  {
   "cell_type": "code",
   "execution_count": null,
   "id": "bba13022",
   "metadata": {},
   "outputs": [],
   "source": [
    "ax.legend([\"curve1\", \"curve2\", \"curve3\"])\n"
   ]
  },
  {
   "cell_type": "markdown",
   "id": "3bfad0db",
   "metadata": {},
   "source": [
    "\n",
    "<!-- #region id=\"8fdecdc7\" -->\n",
    "La méthode décrite ci-dessus suit l'API MATLAB. Il est quelque peu sujet aux erreurs et peu flexible si des courbes sont ajoutées ou supprimées de la figure (ce qui entraîne une courbe mal étiquetée).\n",
    "\n",
    "Une bien meilleure méthode consiste à utiliser l'argument mot-clé `label=\"label text\"` lorsque des tracés ou d'autres objets sont ajoutés à la figure, puis à utiliser la méthode `legend` sans arguments pour ajouter la légende à la figure :\n",
    "<!-- #endregion -->\n",
    "\n"
   ]
  },
  {
   "cell_type": "code",
   "execution_count": null,
   "id": "70c39865",
   "metadata": {},
   "outputs": [],
   "source": [
    "ax.plot(x, x ** 2, label=\"curve1\")\n",
    "ax.plot(x, x ** 3, label=\"curve2\")\n",
    "ax.legend()\n"
   ]
  },
  {
   "cell_type": "markdown",
   "id": "e7804652",
   "metadata": {},
   "source": [
    "\n",
    "<!-- #region id=\"6536ebd1\" -->\n",
    "L'avantage de cette méthode est que si des courbes sont ajoutées ou supprimées de la figure, la légende est automatiquement mise à jour en conséquence.\n",
    "\n",
    "La fonction `legend` prend un argument mot-clé facultatif `loc` qui peut être utilisé pour spécifier où dans la figure la légende doit être dessinée. Les valeurs autorisées de `loc` sont des codes numériques pour les différents endroits où la légende peut être dessinée. Voir la [documentation](https://matplotlib.org/stable/api/legend_api.html?highlight=legend%20location) pour plus de détails. Certaines des valeurs « loc » les plus courantes sont :\n",
    "<!-- #endregion -->\n",
    "\n"
   ]
  },
  {
   "cell_type": "code",
   "execution_count": null,
   "id": "a4b78008",
   "metadata": {},
   "outputs": [],
   "source": [
    "ax.legend(loc=0)  # laisser Matplotlib décider de l'emplacement optimal\n",
    "ax.legend(loc=1)  # coin supérieur droit\n",
    "ax.legend(loc=2)  # coin supérieur gauche\n",
    "ax.legend(loc=3)  # coin inférieur gauche\n",
    "ax.legend(loc=4)  # coin inférieur droit\n",
    "# .. de nombreuses autres options sont disponibles\n"
   ]
  },
  {
   "cell_type": "markdown",
   "id": "acc0da32",
   "metadata": {},
   "source": [
    "\n",
    "<!-- #region id=\"0d6e70e3\" -->\n",
    "La figure suivante montre comment utiliser le titre de la figure, les étiquettes des axes et les légendes décrites ci-dessus :\n",
    "<!-- #endregion -->\n",
    "\n"
   ]
  },
  {
   "cell_type": "code",
   "execution_count": null,
   "id": "a6983fd1",
   "metadata": {},
   "outputs": [],
   "source": [
    "fig, ax = plt.subplots()\n",
    "\n",
    "ax.plot(x, x ** 2, label=\"y = x**2\")\n",
    "ax.plot(x, x ** 3, label=\"y = x**3\")\n",
    "ax.legend(loc=2)  # coin supérieur gauche\n",
    "ax.set_xlabel(\"x\")\n",
    "ax.set_ylabel(\"y\")\n",
    "ax.set_title(\"Titre\")\n",
    "show()\n"
   ]
  },
  {
   "cell_type": "markdown",
   "id": "9d356f9a",
   "metadata": {},
   "source": [
    "\n",
    "<!-- #region id=\"bcec22ac\" -->\n",
    "## <a id=formattage-des-textes>Formattage des textes</a>\n",
    "<!-- #endregion -->\n",
    "\n",
    "<!-- #region id=\"cb6875c2\" -->\n",
    "La figure ci-dessus est fonctionnelle, mais elle ne satisfait pas (encore) aux critères d'une figure utilisée dans une publication. Tout d'abord, nous devons avoir du texte au format $\\LaTeX$, et deuxièmement, nous devons pouvoir ajuster la taille de la police pour qu'elle apparaisse directement dans une publication.\n",
    "\n",
    "Matplotlib a un excellent support pour $\\LaTeX$. Tout ce que nous avons à faire est d'utiliser des signes dollar pour encapsuler $\\LaTeX$ dans n'importe quel texte (légende, titre, étiquette, etc.). Par exemple, `\"$y=x^3$\"`.\n",
    "\n",
    "Mais ici, nous pouvons rencontrer un problème légèrement subtil avec le code $\\LaTeX$ et les chaînes de texte Python. En $\\LaTeX$, nous utilisons fréquemment la barre oblique inverse dans les commandes, par exemple `\\alpha` pour produire le symbole $\\alpha$. Mais la barre oblique inverse a déjà un sens dans les chaînes Python (le caractère du code d'échappement). Pour éviter que Python ne gâche notre code $\\LaTeX$, nous devons utiliser des chaînes de texte \"brutes\". Les chaînes de texte brutes sont précédées d'un « `r` », comme `r\"\\alpha\"` ou `r'\\alpha'` au lieu de `\"\\alpha\"` ou `'\\alpha'` :\n",
    "<!-- #endregion -->\n",
    "\n"
   ]
  },
  {
   "cell_type": "code",
   "execution_count": null,
   "id": "5baa9244",
   "metadata": {},
   "outputs": [],
   "source": [
    "fig, ax = plt.subplots()\n",
    "\n",
    "ax.plot(x, x ** 2, label=r\"$y = \\alpha^2$\")\n",
    "ax.plot(x, x ** 3, label=r\"$y = \\alpha^3$\")\n",
    "ax.legend(loc=2)  # coin supérieur gauche\n",
    "ax.set_xlabel(r\"$\\alpha$\", fontsize=18)\n",
    "ax.set_ylabel(r\"$y$\", fontsize=18)\n",
    "ax.set_title(\"Titre\")\n",
    "show()\n"
   ]
  },
  {
   "cell_type": "markdown",
   "id": "1d8b171a",
   "metadata": {},
   "source": [
    "\n",
    "<!-- #region id=\"5eb4035c\" -->\n",
    "Nous pouvons également modifier la taille de police globale et la famille de polices, qui s'appliquent à tous les éléments de texte d'une figure (étiquettes de graduation, étiquettes et titres d'axe, légendes, etc.) :\n",
    "<!-- #endregion -->\n",
    "\n"
   ]
  },
  {
   "cell_type": "code",
   "execution_count": null,
   "id": "18b9512e",
   "metadata": {},
   "outputs": [],
   "source": [
    "# Mettre à jour les paramètres de configuration de Matplotlib :\n",
    "matplotlib.rcParams.update({\"font.size\": 18, \"font.family\": \"serif\"})\n"
   ]
  },
  {
   "cell_type": "markdown",
   "id": "57cde558",
   "metadata": {},
   "source": [
    "\n"
   ]
  },
  {
   "cell_type": "code",
   "execution_count": null,
   "id": "4e3d1713",
   "metadata": {},
   "outputs": [],
   "source": [
    "fig, ax = plt.subplots()\n",
    "\n",
    "ax.plot(x, x ** 2, label=r\"$y = \\alpha^2$\")\n",
    "ax.plot(x, x ** 3, label=r\"$y = \\alpha^3$\")\n",
    "ax.legend(loc=2)  # upper left corner\n",
    "ax.set_xlabel(r\"$\\alpha$\")\n",
    "ax.set_ylabel(r\"$y$\")\n",
    "ax.set_title(\"Titre\")\n",
    "show()\n"
   ]
  },
  {
   "cell_type": "markdown",
   "id": "691d49f5",
   "metadata": {},
   "source": [
    "\n",
    "<!-- #region id=\"6a0985fd\" -->\n",
    "Un bon choix de polices globales est la police STIX :\n",
    "<!-- #endregion -->\n",
    "\n"
   ]
  },
  {
   "cell_type": "code",
   "execution_count": null,
   "id": "f74bb83c",
   "metadata": {},
   "outputs": [],
   "source": [
    "# Mettre à jour les paramètres de configuration de Matplotlib :\n",
    "matplotlib.rcParams.update(\n",
    "    {\"font.size\": 18, \"font.family\": \"STIXGeneral\", \"mathtext.fontset\": \"stix\"}\n",
    ")\n"
   ]
  },
  {
   "cell_type": "markdown",
   "id": "20f8bc8e",
   "metadata": {},
   "source": [
    "\n"
   ]
  },
  {
   "cell_type": "code",
   "execution_count": null,
   "id": "247c4d33",
   "metadata": {},
   "outputs": [],
   "source": [
    "fig, ax = plt.subplots()\n",
    "\n",
    "ax.plot(x, x ** 2, label=r\"$y = \\alpha^2$\")\n",
    "ax.plot(x, x ** 3, label=r\"$y = \\alpha^3$\")\n",
    "ax.legend(loc=2)  # coin supérieur gauche\n",
    "ax.set_xlabel(r\"$\\alpha$\")\n",
    "ax.set_ylabel(r\"$y$\")\n",
    "ax.set_title(\"Titre\")\n",
    "show()\n"
   ]
  },
  {
   "cell_type": "markdown",
   "id": "e205af69",
   "metadata": {},
   "source": [
    "\n",
    "<!-- #region id=\"fdcab98b\" -->\n",
    "## <a id=couleurs-largeur-et-types-de-lignes>Couleurs, largeur et types de lignes</a>\n",
    "<!-- #endregion -->\n",
    "\n",
    "<!-- #region id=\"af4a605b\" -->\n",
    "Avec Matplotlib, nous pouvons définir les couleurs des lignes et autres éléments graphiques de plusieurs manières. Tout d'abord, nous pouvons utiliser la syntaxe de type MATLAB où « `b` » signifie bleu, « `g` » signifie vert, etc. L'API MATLAB pour sélectionner les styles de ligne est également prise en charge : où, par exemple, « `'b. -'` » signifie une ligne bleue avec des points :\n",
    "<!-- #endregion -->\n",
    "\n"
   ]
  },
  {
   "cell_type": "code",
   "execution_count": null,
   "id": "f548340b",
   "metadata": {},
   "outputs": [],
   "source": [
    "# Couleur et style de ligne de style MATLAB\n",
    "ax.plot(x, x ** 2, \"b.-\")  # ligne bleue avec des points\n",
    "ax.plot(x, x ** 3, \"g--\")  # ligne pointillée verte\n"
   ]
  },
  {
   "cell_type": "markdown",
   "id": "1405a3ca",
   "metadata": {},
   "source": [
    "\n",
    "<!-- #region id=\"40b2d342\" -->\n",
    "Nous pouvons également définir les couleurs par leurs noms ou codes hexadécimaux RVB et éventuellement fournir une valeur alpha en utilisant les arguments des mots-clés `color` et `alpha` :\n",
    "<!-- #endregion -->\n",
    "\n"
   ]
  },
  {
   "cell_type": "code",
   "execution_count": null,
   "id": "e35bbd71",
   "metadata": {},
   "outputs": [],
   "source": [
    "fig, ax = plt.subplots()\n",
    "\n",
    "ax.plot(x, x + 1, color=\"red\", alpha=0.5)  # rouge semi-transparent\n",
    "ax.plot(x, x + 2, color=\"#1155dd\")  # Code hexa RVB pour une couleur bleuâtre\n",
    "ax.plot(x, x + 3, color=\"#15cc55\")  # Code hexad RVB pour une couleur verdâtre\n",
    "show()\n"
   ]
  },
  {
   "cell_type": "markdown",
   "id": "30abc87f",
   "metadata": {},
   "source": [
    "\n",
    "<!-- #region id=\"42b06556\" -->\n",
    "**Styles de ligne et de marqueur**\n",
    "<!-- #endregion -->\n",
    "\n",
    "<!-- #region id=\"aadc2295\" -->\n",
    "Pour modifier la largeur de la ligne, nous pouvons utiliser l'argument mot-clé `linewidth` ou `lw`. Le style de ligne peut être sélectionné à l'aide des arguments de mot-clé `linestyle` ou `ls` :\n",
    "<!-- #endregion -->\n",
    "\n"
   ]
  },
  {
   "cell_type": "code",
   "execution_count": null,
   "id": "d2b94ada",
   "metadata": {},
   "outputs": [],
   "source": [
    "fig, ax = plt.subplots(figsize=(12, 6))\n",
    "\n",
    "ax.plot(x, x + 1, color=\"blue\", linewidth=0.25)\n",
    "ax.plot(x, x + 2, color=\"blue\", linewidth=0.50)\n",
    "ax.plot(x, x + 3, color=\"blue\", linewidth=1.00)\n",
    "ax.plot(x, x + 4, color=\"blue\", linewidth=2.00)\n",
    "\n",
    "# Options de type de ligne possibles '-', '--', '-.', ':', 'steps'\n",
    "ax.plot(x, x + 5, color=\"red\", lw=2, linestyle=\"-\")\n",
    "ax.plot(x, x + 6, color=\"red\", lw=2, ls=\"-.\")\n",
    "ax.plot(x, x + 7, color=\"red\", lw=2, ls=\":\")\n",
    "\n",
    "# Tiret personnalisé\n",
    "(line,) = ax.plot(x, x + 8, color=\"black\", lw=1.50)\n",
    "line.set_dashes([5, 10, 15, 10])  # format : longueur de ligne, longueur d'espace, ...\n",
    "\n",
    "# Symboles marqueurs possibles : marker = '+', 'o', '*', 's',\n",
    "# ',', '.', '1', '2', '3', '4', ...\n",
    "ax.plot(x, x + 9, color=\"green\", lw=2, ls=\"--\", marker=\"+\")\n",
    "ax.plot(x, x + 10, color=\"green\", lw=2, ls=\"--\", marker=\"o\")\n",
    "ax.plot(x, x + 11, color=\"green\", lw=2, ls=\"--\", marker=\"s\")\n",
    "ax.plot(x, x + 12, color=\"green\", lw=2, ls=\"--\", marker=\"1\")\n",
    "\n",
    "# Taille et couleur du marqueur\n",
    "ax.plot(x, x + 13, color=\"purple\", lw=1, ls=\"-\", marker=\"o\", markersize=2)\n",
    "ax.plot(x, x + 14, color=\"purple\", lw=1, ls=\"-\", marker=\"o\", markersize=4)\n",
    "ax.plot(\n",
    "    x,\n",
    "    x + 15,\n",
    "    color=\"purple\",\n",
    "    lw=1,\n",
    "    ls=\"-\",\n",
    "    marker=\"o\",\n",
    "    markersize=8,\n",
    "    markerfacecolor=\"red\",\n",
    ")\n",
    "ax.plot(\n",
    "    x,\n",
    "    x + 16,\n",
    "    color=\"purple\",\n",
    "    lw=1,\n",
    "    ls=\"-\",\n",
    "    marker=\"s\",\n",
    "    markersize=8,\n",
    "    markerfacecolor=\"yellow\",\n",
    "    markeredgewidth=2,\n",
    "    markeredgecolor=\"blue\",\n",
    ")\n",
    "show()\n"
   ]
  },
  {
   "cell_type": "markdown",
   "id": "34048795",
   "metadata": {},
   "source": [
    "\n",
    "<!-- #region id=\"0d2e7ab3\" -->\n",
    "## <a id=contrôle-des-axes>Contrôle des axes</a>\n",
    "<!-- #endregion -->\n",
    "\n",
    "<!-- #region id=\"6b789318\" -->\n",
    "L'apparence des axes est un aspect important d'une figure que l'on a souvent besoin de modifier pour faire une publication graphique de qualité. Il faut pouvoir contrôler où sont placés les graduations et les libellés, modifier la taille de la police et éventuellement les libellés utilisés sur les axes. Dans cette section, nous verrons comment contrôler ces propriétés dans une figure Matplotlib.\n",
    "<!-- #endregion -->\n",
    "\n",
    "<!-- #region id=\"a2fdbdde\" -->\n",
    "**Limites des axes dans les figures**\n",
    "<!-- #endregion -->\n",
    "\n",
    "<!-- #region id=\"a76e2ec4\" -->\n",
    "La première chose que nous pourrions vouloir configurer est les plages des axes. Nous pouvons le faire en utilisant\n",
    "les méthodes `set_ylim` et `set_xlim` de l'objet « axe », ou axis('tight') pour obtenir automatiquement des plages d'axes « étroites » :\n",
    "<!-- #endregion -->\n",
    "\n"
   ]
  },
  {
   "cell_type": "code",
   "execution_count": null,
   "id": "b181e729",
   "metadata": {},
   "outputs": [],
   "source": [
    "fig, axes = plt.subplots(1, 3, figsize=(12, 4))\n",
    "\n",
    "axes[0].plot(x, x ** 2, x, x ** 3)\n",
    "axes[0].set_title(\"Plages d'axes par défaut \")\n",
    "\n",
    "axes[1].plot(x, x ** 2, x, x ** 3)\n",
    "axes[1].axis(\"tight\")\n",
    "axes[1].set_title(\"Plages d'axes étroites\")\n",
    "\n",
    "axes[2].plot(x, x ** 2, x, x ** 3)\n",
    "axes[2].set_ylim([0, 60])\n",
    "axes[2].set_xlim([2, 5])\n",
    "axes[2].set_title(\"Plages d'axes imposées\")\n",
    "show()\n"
   ]
  },
  {
   "cell_type": "markdown",
   "id": "2f64ca7b",
   "metadata": {},
   "source": [
    "\n",
    "<!-- #region id=\"501a35cb\" -->\n",
    "**Échelle logarithmique**\n",
    "<!-- #endregion -->\n",
    "\n",
    "<!-- #region id=\"4bbd50f8\" -->\n",
    "Il est également possible de définir une échelle logarithmique pour un ou les deux axes. Cette fonctionnalité\n",
    "n'est en fait qu'une application d'un système de transformation plus général dans Matplotlib. Chacune des échelles\n",
    "des axes est définie séparément à l'aide des méthodes `set_xscale` et `set_yscale` qui acceptent un paramètre\n",
    "(avec la valeur « `\"log\"` » dans ce cas) :\n",
    "<!-- #endregion -->\n",
    "\n"
   ]
  },
  {
   "cell_type": "code",
   "execution_count": null,
   "id": "26adc96c",
   "metadata": {},
   "outputs": [],
   "source": [
    "fig, axes = plt.subplots(1, 2, figsize=(10, 4))\n",
    "\n",
    "axes[0].plot(x, x ** 2, x, np.exp(x))\n",
    "axes[0].set_title(\"Échelle normale\")\n",
    "\n",
    "axes[1].plot(x, x ** 2, x, np.exp(x))\n",
    "axes[1].set_yscale(\"log\")\n",
    "axes[1].set_title(\"Échelle logarithmique en y\")\n",
    "show()\n"
   ]
  },
  {
   "cell_type": "markdown",
   "id": "b3cab083",
   "metadata": {},
   "source": [
    "\n",
    "<!-- #region id=\"96679c26\" -->\n",
    "## <a id=placement-des-échelles-et-libellés>Placement des échelles et libellés</a>\n",
    "<!-- #endregion -->\n",
    "\n",
    "<!-- #region id=\"bfe72e74\" -->\n",
    "Nous pouvons explicitement déterminer où nous voulons les graduations de l'axe avec `set_xticks` et `set_yticks`, qui prennent tous les deux une liste de valeurs indiquant où sur l'axe les graduations doivent être placées. Nous pouvons également utiliser les méthodes `set_xticklabels` et `set_yticklabels` pour fournir une liste d'étiquettes de texte personnalisées pour chaque emplacement de graduation :\n",
    "<!-- #endregion -->\n",
    "\n"
   ]
  },
  {
   "cell_type": "code",
   "execution_count": null,
   "id": "e0e848fa",
   "metadata": {},
   "outputs": [],
   "source": [
    "fig, ax = plt.subplots(figsize=(10, 4))\n",
    "\n",
    "ax.plot(x, x ** 2, x, x ** 3, lw=2)\n",
    "\n",
    "ax.set_xticks([1, 2, 3, 4, 5])\n",
    "ax.set_xticklabels(\n",
    "    [r\"$\\alpha$\", r\"$\\beta$\", r\"$\\gamma$\", r\"$\\delta$\", r\"$\\epsilon$\"], fontsize=18\n",
    ")\n",
    "\n",
    "yticks = [0, 50, 100, 150]\n",
    "ax.set_yticks(yticks)\n",
    "\n",
    "# Utiliser des étiquettes au format LaTeX\n",
    "ax.set_yticklabels([\"$%.1f$\" % y for y in yticks], fontsize=18)\n",
    "show()\n"
   ]
  },
  {
   "cell_type": "markdown",
   "id": "443899f2",
   "metadata": {},
   "source": [
    "\n",
    "<!-- #region id=\"e5c7970a\" -->\n",
    "Il existe un certain nombre de méthodes plus avancées pour contrôler le placement des graduations majeures et mineures dans les figures Matplotlib, telles que le placement automatique selon différentes politiques. Voir la [documentation](http://matplotlib.org/api/ticker_api.html) pour plus de détails.\n",
    "<!-- #endregion -->\n",
    "\n",
    "<!-- #region id=\"8df2d612\" -->\n",
    "**Notation scientifique**\n",
    "<!-- #endregion -->\n",
    "\n",
    "<!-- #region id=\"b8ab5be4\" -->\n",
    "Avec de grands nombres sur les axes, il est souvent préférable d'utiliser la notation scientifique :\n",
    "<!-- #endregion -->\n",
    "\n"
   ]
  },
  {
   "cell_type": "code",
   "execution_count": null,
   "id": "34303aab",
   "metadata": {},
   "outputs": [],
   "source": [
    "from matplotlib import ticker\n",
    "\n",
    "fig, ax = plt.subplots(1, 1)\n",
    "\n",
    "ax.plot(x, x ** 2, x, np.exp(x))\n",
    "ax.set_title(\"Notation scientifique\")\n",
    "\n",
    "ax.set_yticks([0, 50, 100, 150])\n",
    "\n",
    "formatter = ticker.ScalarFormatter(useMathText=True)\n",
    "formatter.set_scientific(True)\n",
    "formatter.set_powerlimits((-1, 1))\n",
    "ax.yaxis.set_major_formatter(formatter)\n",
    "show()\n"
   ]
  },
  {
   "cell_type": "markdown",
   "id": "d9d2a30a",
   "metadata": {},
   "source": [
    "\n",
    "<!-- #region id=\"1806ef3c\" -->\n",
    "**Ajustements de la position des axes**\n",
    "<!-- #endregion -->\n",
    "\n",
    "<!-- #region id=\"ba087f6a\" -->\n",
    "Malheureusement, lors de l'affichage et la sauvegarde des figures, les étiquettes sont parfois tronquées, et il peut être nécessaire d'ajuster un peu la position des axes. Cela peut être fait en utilisant `subplots_adjust`. Voici le résultat\n",
    "sans ajustement:\n",
    "<!-- #endregion -->\n",
    "\n"
   ]
  },
  {
   "cell_type": "code",
   "execution_count": null,
   "id": "25b7516a",
   "metadata": {},
   "outputs": [],
   "source": [
    "fig, (ax1, ax2) = plt.subplots(nrows=2)\n",
    "\n",
    "ax1.plot(x, x ** 2, x, x ** 3, lw=2)\n",
    "ax1.set_xlabel(\"x\")\n",
    "ax1.set_ylabel(\"y\")\n",
    "ax1.set_title(\"Subplot 1\")\n",
    "\n",
    "ax2.plot(x, x ** 2, x, x ** 3, lw=2)\n",
    "ax2.set_xlabel(\"x\")\n",
    "ax2.set_ylabel(\"y\")\n",
    "ax2.set_title(\"Subplot 2\")\n",
    "\n",
    "plt.show()\n"
   ]
  },
  {
   "cell_type": "markdown",
   "id": "28f6ae1b",
   "metadata": {},
   "source": [
    "\n",
    "<!-- #region id=\"029e5ac1\" -->\n",
    "Voici maintenant le résultat avec l'ajustement en utilisant `subplots_adjust`:\n",
    "<!-- #endregion -->\n",
    "\n"
   ]
  },
  {
   "cell_type": "code",
   "execution_count": null,
   "id": "2772e489",
   "metadata": {},
   "outputs": [],
   "source": [
    "fig, (ax1, ax2) = plt.subplots(nrows=2)\n",
    "\n",
    "ax1.plot(x, x ** 2, x, x ** 3, lw=2)\n",
    "ax1.set_xlabel(\"x\")\n",
    "ax1.set_ylabel(\"y\")\n",
    "ax1.set_title(\"Subplot 1\")\n",
    "\n",
    "ax2.plot(x, x ** 2, x, x ** 3, lw=2)\n",
    "ax2.set_xlabel(\"x\")\n",
    "ax2.set_ylabel(\"y\")\n",
    "ax2.set_title(\"Subplot 2\")\n",
    "\n",
    "plt.subplots_adjust(hspace=1.3)\n",
    "plt.show()\n"
   ]
  },
  {
   "cell_type": "markdown",
   "id": "e14af450",
   "metadata": {},
   "source": [
    "\n",
    "<!-- #region id=\"e4eb266d\" -->\n",
    "## <a id=grille>Grille</a>\n",
    "<!-- #endregion -->\n",
    "\n",
    "<!-- #region id=\"208106e9\" -->\n",
    "Avec la méthode `grid` dans l'objet axe, nous pouvons activer et désactiver les lignes de la grille. Nous pouvons également personnaliser l'apparence des lignes de la grille en utilisant les mêmes arguments de mot-clé que la fonction `plot` :\n",
    "<!-- #endregion -->\n",
    "\n"
   ]
  },
  {
   "cell_type": "code",
   "execution_count": null,
   "id": "427107f4",
   "metadata": {},
   "outputs": [],
   "source": [
    "fig, axes = plt.subplots(1, 2, figsize=(10, 3))\n",
    "\n",
    "# Apparence de grille par défaut\n",
    "axes[0].plot(x, x ** 2, x, x ** 3, lw=2)\n",
    "axes[0].grid(True)\n",
    "\n",
    "# Apparence de grille personnalisée\n",
    "axes[1].plot(x, x ** 2, x, x ** 3, lw=2)\n",
    "axes[1].grid(color=\"b\", alpha=0.5, linestyle=\"dashed\", linewidth=0.5)\n",
    "show()\n"
   ]
  },
  {
   "cell_type": "markdown",
   "id": "92f499b9",
   "metadata": {},
   "source": [
    "\n",
    "<!-- #region id=\"ee38858a\" -->\n",
    "## <a id=double-graphique>Double graphique</a>\n",
    "<!-- #endregion -->\n",
    "\n",
    "<!-- #region id=\"c134b067\" -->\n",
    "Parfois, il est utile d'avoir deux axes x ou y dans une figure ; par exemple, lorsque vous tracez des courbes avec différentes unités ensemble. Matplotlib prend en charge cela avec les fonctions `twinx` et `twiny` :\n",
    "<!-- #endregion -->\n",
    "\n"
   ]
  },
  {
   "cell_type": "code",
   "execution_count": null,
   "id": "9c409d00",
   "metadata": {},
   "outputs": [],
   "source": [
    "fig, ax1 = plt.subplots()\n",
    "\n",
    "ax1.plot(x, x ** 2, lw=2, color=\"blue\")\n",
    "ax1.set_ylabel(r\"surface $(m^2)$\", fontsize=18, color=\"blue\")\n",
    "for label in ax1.get_yticklabels():\n",
    "    label.set_color(\"blue\")\n",
    "\n",
    "ax2 = ax1.twinx()\n",
    "ax2.plot(x, x ** 3, lw=2, color=\"red\")\n",
    "ax2.set_ylabel(r\"volume $(m^3)$\", fontsize=18, color=\"red\")\n",
    "for label in ax2.get_yticklabels():\n",
    "    label.set_color(\"red\")\n",
    "show()\n"
   ]
  },
  {
   "cell_type": "markdown",
   "id": "66794300",
   "metadata": {},
   "source": [
    "\n",
    "<!-- #region id=\"c3b5aab4\" -->\n",
    "## <a id=élimination-des-bords-dune-figure>Élimination des bords d'une figure</a>\n",
    "<!-- #endregion -->\n",
    "\n",
    "<!-- #region id=\"fef99b55\" -->\n",
    "On peut enlever chacun des bords d'une figure (*Figure Spine*). Dans la figure suivante, on enlève les bords droit et supérieur afin d'obtenir l'affichage classique que l'on produit naturellement lorsqu'on trace une courbe à la main.\n",
    "<!-- #endregion -->\n",
    "\n"
   ]
  },
  {
   "cell_type": "code",
   "execution_count": null,
   "id": "8b235a81",
   "metadata": {},
   "outputs": [],
   "source": [
    "fig, ax = plt.subplots()\n",
    "\n",
    "ax.spines[\"right\"].set_color(\"none\")\n",
    "ax.spines[\"top\"].set_color(\"none\")\n",
    "\n",
    "ax.xaxis.set_ticks_position(\"bottom\")\n",
    "ax.yaxis.set_ticks_position(\"left\")\n",
    "\n",
    "xx = np.linspace(-0.75, 1.0, 100)\n",
    "ax.plot(xx, xx ** 3)\n",
    "show()\n"
   ]
  },
  {
   "cell_type": "markdown",
   "id": "ead82121",
   "metadata": {},
   "source": [
    "\n",
    "<!-- #region id=\"ea5a5d82\" -->\n",
    "## <a id=autres-graphes-2d>Autres graphes 2D</a>\n",
    "<!-- #endregion -->\n",
    "\n",
    "<!-- #region id=\"450f048d\" -->\n",
    "En plus de la méthode `plot` habituelle, il existe un certain nombre d'autres fonctions pour générer différents types de tracés. Consultez la [galerie](http://matplotlib.org/gallery.html) de tracés Matplotlib pour une liste complète des types de tracés disponibles. Certains des plus utiles sont présentés ci-dessous :\n",
    "<!-- #endregion -->\n",
    "\n"
   ]
  },
  {
   "cell_type": "code",
   "execution_count": null,
   "id": "9184c2a6",
   "metadata": {},
   "outputs": [],
   "source": [
    "n = np.array([0, 1, 2, 3, 4, 5])\n"
   ]
  },
  {
   "cell_type": "markdown",
   "id": "c2ca7b61",
   "metadata": {},
   "source": [
    "\n"
   ]
  },
  {
   "cell_type": "code",
   "execution_count": null,
   "id": "fbded4bf",
   "metadata": {},
   "outputs": [],
   "source": [
    "fig, axes = plt.subplots(1, 4, figsize=(15, 3))\n",
    "\n",
    "axes[0].scatter(xx, xx + 0.25 * np.random.randn(len(xx)))\n",
    "axes[0].set_title(\"Nuage de points\")\n",
    "\n",
    "axes[1].step(n, n ** 2, lw=2)\n",
    "axes[1].set_title(\"Marches\")\n",
    "\n",
    "axes[2].bar(n, n ** 2, align=\"center\", width=0.5, alpha=0.5)\n",
    "axes[2].set_title(\"Batons\")\n",
    "\n",
    "# Remplissage de l'espace entre les deux courbes\n",
    "axes[3].fill_between(x, x ** 2, x ** 3, color=\"green\", alpha=0.5)\n",
    "axes[3].set_title(\"Remplissage\")\n",
    "show()\n"
   ]
  },
  {
   "cell_type": "markdown",
   "id": "7de92d74",
   "metadata": {},
   "source": [
    "\n"
   ]
  },
  {
   "cell_type": "code",
   "execution_count": null,
   "id": "02b05689",
   "metadata": {},
   "outputs": [],
   "source": [
    "# Tracé polaire utilisant add_axes et projection polaire\n",
    "fig = plt.figure()\n",
    "ax = fig.add_axes([0.0, 0.0, 0.6, 0.6], polar=True)\n",
    "t = np.linspace(0, 2 * np.pi, 100)\n",
    "ax.plot(t, t, color=\"blue\", lw=3)\n",
    "show()\n"
   ]
  },
  {
   "cell_type": "markdown",
   "id": "87dcd1ab",
   "metadata": {},
   "source": [
    "\n"
   ]
  },
  {
   "cell_type": "code",
   "execution_count": null,
   "id": "b06af8a8",
   "metadata": {},
   "outputs": [],
   "source": [
    "# Histogramme\n",
    "n = np.random.randn(100000)\n",
    "fig, axes = plt.subplots(1, 2, figsize=(12, 4))\n",
    "\n",
    "axes[0].hist(n)\n",
    "axes[0].set_title(\"Histogramme\")\n",
    "axes[0].set_xlim((min(n), max(n)))\n",
    "\n",
    "axes[1].hist(n, cumulative=True, bins=50)\n",
    "axes[1].set_title(\"Histogramme cumulatif\")\n",
    "axes[1].set_xlim((min(n), max(n)))\n",
    "show()\n"
   ]
  },
  {
   "cell_type": "markdown",
   "id": "82d40172",
   "metadata": {},
   "source": [
    "\n",
    "<!-- #region id=\"867616c7\" -->\n",
    "## <a id=textes-dannotation>Textes d'annotation</a>\n",
    "<!-- #endregion -->\n",
    "\n",
    "<!-- #region id=\"e9c726f2\" -->\n",
    "L'annotation de texte dans les figures Matplotlib peut être effectuée à l'aide de la fonction `text`. Elle prend en charge le formatage $\\LaTeX$ tout comme les textes et les titres des étiquettes d'axe :\n",
    "<!-- #endregion -->\n",
    "\n"
   ]
  },
  {
   "cell_type": "code",
   "execution_count": null,
   "id": "0d50ddf4",
   "metadata": {},
   "outputs": [],
   "source": [
    "fig, ax = plt.subplots()\n",
    "\n",
    "ax.plot(xx, xx ** 2, xx, xx ** 3)\n",
    "\n",
    "ax.text(0.15, 0.2, r\"$y=x^2$\", fontsize=20, color=\"blue\")\n",
    "ax.text(0.65, 0.1, r\"$y=x^3$\", fontsize=20, color=\"green\")\n",
    "show()\n"
   ]
  },
  {
   "cell_type": "markdown",
   "id": "aea2709e",
   "metadata": {},
   "source": [
    "\n",
    "<!-- #region id=\"edbfecb2\" -->\n",
    "## <a id=figures-avec-sous-graphes>Figures avec sous graphes</a>\n",
    "<!-- #endregion -->\n",
    "\n",
    "<!-- #region id=\"63e72926\" -->\n",
    "Les axes peuvent être ajoutés manuellement à un canevas de figure Matplotlib à l'aide de `fig.add_axes` ou à l'aide d'un gestionnaire de mise en page de sous-figures tel que `subplots`, `subplot2grid` ou `gridspec` :\n",
    "<!-- #endregion -->\n",
    "\n",
    "<!-- #region id=\"bacd346b\" -->\n",
    "**Panneaux (*subplots*)**\n",
    "<!-- #endregion -->\n",
    "\n"
   ]
  },
  {
   "cell_type": "code",
   "execution_count": null,
   "id": "1e9d6c89",
   "metadata": {},
   "outputs": [],
   "source": [
    "fig, ax = plt.subplots(2, 3)\n",
    "fig.tight_layout()\n",
    "show()\n"
   ]
  },
  {
   "cell_type": "markdown",
   "id": "2add4d14",
   "metadata": {},
   "source": [
    "\n",
    "<!-- #region id=\"fedc2152\" -->\n",
    "**subplot2grid**\n",
    "<!-- #endregion -->\n",
    "\n"
   ]
  },
  {
   "cell_type": "code",
   "execution_count": null,
   "id": "8fa57363",
   "metadata": {},
   "outputs": [],
   "source": [
    "fig = plt.figure()\n",
    "ax1 = plt.subplot2grid((3, 3), (0, 0), colspan=3)\n",
    "ax2 = plt.subplot2grid((3, 3), (1, 0), colspan=2)\n",
    "ax3 = plt.subplot2grid((3, 3), (1, 2), rowspan=2)\n",
    "ax4 = plt.subplot2grid((3, 3), (2, 0))\n",
    "ax5 = plt.subplot2grid((3, 3), (2, 1))\n",
    "fig.tight_layout()\n",
    "show()\n"
   ]
  },
  {
   "cell_type": "markdown",
   "id": "d48594b2",
   "metadata": {},
   "source": [
    "\n",
    "<!-- #region id=\"6353f380\" -->\n",
    "**gridspec**\n",
    "<!-- #endregion -->\n",
    "\n"
   ]
  },
  {
   "cell_type": "code",
   "execution_count": null,
   "id": "e4a3d52c",
   "metadata": {},
   "outputs": [],
   "source": [
    "import matplotlib.gridspec as gridspec\n"
   ]
  },
  {
   "cell_type": "markdown",
   "id": "31c51fff",
   "metadata": {},
   "source": [
    "\n"
   ]
  },
  {
   "cell_type": "code",
   "execution_count": null,
   "id": "01d3adbf",
   "metadata": {},
   "outputs": [],
   "source": [
    "fig = plt.figure()\n",
    "\n",
    "gs = gridspec.GridSpec(2, 3, height_ratios=[2, 1], width_ratios=[1, 2, 1])\n",
    "for g in gs:\n",
    "    ax = fig.add_subplot(g)\n",
    "\n",
    "fig.tight_layout()\n",
    "show()\n"
   ]
  },
  {
   "cell_type": "markdown",
   "id": "c23d857e",
   "metadata": {},
   "source": [
    "\n",
    "<!-- #region id=\"ce58d02b\" -->\n",
    "**`add_axes`**\n",
    "<!-- #endregion -->\n",
    "\n",
    "<!-- #region id=\"49b08901\" -->\n",
    "L'ajout manuel d'axes avec `add_axes` est utile pour ajouter des incrustations aux figures :\n",
    "<!-- #endregion -->\n",
    "\n"
   ]
  },
  {
   "cell_type": "code",
   "execution_count": null,
   "id": "7e6b6cec",
   "metadata": {},
   "outputs": [],
   "source": [
    "fig, ax = plt.subplots()\n",
    "\n",
    "ax.plot(xx, xx ** 2, xx, xx ** 3)\n",
    "fig.tight_layout()\n",
    "\n",
    "# Insertion\n",
    "inset_ax = fig.add_axes([0.3, 0.5, 0.35, 0.35])  # positions X et Y, largeur et hauteur\n",
    "\n",
    "inset_ax.plot(xx, xx ** 2, xx, xx ** 3)\n",
    "inset_ax.set_title(\"Zoom près de l'origine\")\n",
    "\n",
    "# Définir la plage d'axes\n",
    "inset_ax.set_xlim(-0.2, 0.2)\n",
    "inset_ax.set_ylim(-0.005, 0.01)\n",
    "\n",
    "# Définir les emplacements des graduations de l'axe\n",
    "inset_ax.set_yticks([0, 0.005, 0.01])\n",
    "inset_ax.set_xticks([-0.1, 0, 0.1])\n",
    "show()\n"
   ]
  },
  {
   "cell_type": "markdown",
   "id": "431b6ce5",
   "metadata": {},
   "source": [
    "\n",
    "<!-- #region id=\"4c2558e4\" -->\n",
    "## <a id=graphes-de-contour>Graphes de contour</a>\n",
    "<!-- #endregion -->\n",
    "\n",
    "<!-- #region id=\"3c18df96\" -->\n",
    "Les palettes de couleurs et les figures de contour sont utiles pour tracer les fonctions de deux variables. Dans la plupart de ces fonctions, nous utiliserons une palette de couleurs pour encoder une dimension des données. Il existe un certain nombre de palettes de couleurs prédéfinies. Il est relativement simple de définir des palettes de couleurs personnalisées. Pour une liste de palettes de couleurs prédéfinies, voir la [documentation](https://matplotlib.org/stable/users/explain/colors/colormaps.html).\n",
    "<!-- #endregion -->\n",
    "\n"
   ]
  },
  {
   "cell_type": "code",
   "execution_count": null,
   "id": "822116c6",
   "metadata": {},
   "outputs": [],
   "source": [
    "alpha = 0.7\n",
    "phi_ext = 2 * np.pi * 0.5\n",
    "\n",
    "\n",
    "def flux_qubit_potential(phi_m, phi_p):\n",
    "    return (\n",
    "        2\n",
    "        + alpha\n",
    "        - 2 * np.cos(phi_p) * np.cos(phi_m)\n",
    "        - alpha * np.cos(phi_ext - 2 * phi_p)\n",
    "    )\n"
   ]
  },
  {
   "cell_type": "markdown",
   "id": "5147bbe1",
   "metadata": {},
   "source": [
    "\n"
   ]
  },
  {
   "cell_type": "code",
   "execution_count": null,
   "id": "7cb7497c",
   "metadata": {},
   "outputs": [],
   "source": [
    "phi_m = np.linspace(0, 2 * np.pi, 100)\n",
    "phi_p = np.linspace(0, 2 * np.pi, 100)\n",
    "X, Y = np.meshgrid(phi_p, phi_m)\n",
    "Z = flux_qubit_potential(X, Y).T\n"
   ]
  },
  {
   "cell_type": "markdown",
   "id": "8312cf5b",
   "metadata": {},
   "source": [
    "\n",
    "<!-- #region id=\"37b066c4\" -->\n",
    "**pcolor**\n",
    "<!-- #endregion -->\n",
    "\n"
   ]
  },
  {
   "cell_type": "code",
   "execution_count": null,
   "id": "399926fa",
   "metadata": {},
   "outputs": [],
   "source": [
    "fig, ax = plt.subplots()\n",
    "\n",
    "p = ax.pcolor(\n",
    "    X / (2 * np.pi),\n",
    "    Y / (2 * np.pi),\n",
    "    Z,\n",
    "    cmap=matplotlib.cm.RdBu,\n",
    "    vmin=abs(Z).min(),\n",
    "    vmax=abs(Z).max(),\n",
    "    shading=\"auto\",\n",
    ")\n",
    "cb = fig.colorbar(p, ax=ax)\n",
    "show()\n"
   ]
  },
  {
   "cell_type": "markdown",
   "id": "6a105b0b",
   "metadata": {},
   "source": [
    "\n",
    "<!-- #region id=\"caa6d54a\" -->\n",
    "**imshow**\n",
    "<!-- #endregion -->\n",
    "\n"
   ]
  },
  {
   "cell_type": "code",
   "execution_count": null,
   "id": "467663a6",
   "metadata": {},
   "outputs": [],
   "source": [
    "fig, ax = plt.subplots()\n",
    "\n",
    "im = ax.imshow(\n",
    "    Z,\n",
    "    cmap=matplotlib.cm.RdBu,\n",
    "    vmin=abs(Z).min(),\n",
    "    vmax=abs(Z).max(),\n",
    "    extent=[0, 1, 0, 1],\n",
    ")\n",
    "im.set_interpolation(\"bilinear\")\n",
    "\n",
    "cb = fig.colorbar(im, ax=ax)\n",
    "show()\n"
   ]
  },
  {
   "cell_type": "markdown",
   "id": "8ed407fd",
   "metadata": {},
   "source": [
    "\n",
    "<!-- #region id=\"30205aa1\" -->\n",
    "**contour**\n",
    "<!-- #endregion -->\n",
    "\n"
   ]
  },
  {
   "cell_type": "code",
   "execution_count": null,
   "id": "1809e383",
   "metadata": {},
   "outputs": [],
   "source": [
    "fig, ax = plt.subplots()\n",
    "\n",
    "cnt = ax.contour(\n",
    "    Z,\n",
    "    cmap=matplotlib.cm.RdBu,\n",
    "    vmin=abs(Z).min(),\n",
    "    vmax=abs(Z).max(),\n",
    "    extent=[0, 1, 0, 1],\n",
    ")\n",
    "cb = fig.colorbar(cnt, ax=ax)\n",
    "show()\n"
   ]
  },
  {
   "cell_type": "markdown",
   "id": "e3608102",
   "metadata": {},
   "source": [
    "\n",
    "<!-- #region id=\"becebdc8\" -->\n",
    "# <a id=graphes-3d>Graphes 3D</a>\n",
    "<!-- #endregion -->\n",
    "\n",
    "<!-- #region id=\"745f91ca\" -->\n",
    "Pour utiliser des graphiques 3D dans Matplotlib, nous devons d'abord créer une instance de la classe `Axes3D`. Les axes 3D peuvent être ajoutés à un canevas de figure Matplotlib exactement de la même manière que les axes 2D ; ou, plus commodément, en passant un argument de mot-clé `projection='3d'` aux méthodes `add_axes` ou `add_subplot`.\n",
    "<!-- #endregion -->\n",
    "\n"
   ]
  },
  {
   "cell_type": "code",
   "execution_count": null,
   "id": "3cd123bc",
   "metadata": {},
   "outputs": [],
   "source": [
    "from mpl_toolkits.mplot3d.axes3d import Axes3D\n"
   ]
  },
  {
   "cell_type": "markdown",
   "id": "e91a2627",
   "metadata": {},
   "source": [
    "\n",
    "<!-- #region id=\"a143d19b\" -->\n",
    "## <a id=tracés-de-surface>Tracés de surface</a>\n",
    "<!-- #endregion -->\n",
    "\n"
   ]
  },
  {
   "cell_type": "code",
   "execution_count": null,
   "id": "0deec205",
   "metadata": {},
   "outputs": [],
   "source": [
    "fig = plt.figure(figsize=(14, 6))\n",
    "\n",
    "# `ax` est une instance d'axe compatible 3D en raison du mot-clé projection='3d'\n",
    "ax = fig.add_subplot(1, 2, 1, projection=\"3d\")\n",
    "\n",
    "ax.plot_surface(X, Y, Z, rstride=4, cstride=4, linewidth=0)\n",
    "\n",
    "# surface_plot avec étalonnage des couleurs et barre de couleurs\n",
    "ax = fig.add_subplot(1, 2, 2, projection=\"3d\")\n",
    "p = ax.plot_surface(\n",
    "    X,\n",
    "    Y,\n",
    "    Z,\n",
    "    rstride=1,\n",
    "    cstride=1,\n",
    "    cmap=matplotlib.cm.coolwarm,\n",
    "    linewidth=0,\n",
    "    antialiased=False,\n",
    ")\n",
    "cb = fig.colorbar(p, shrink=0.5)\n",
    "show()\n"
   ]
  },
  {
   "cell_type": "markdown",
   "id": "fd02b443",
   "metadata": {},
   "source": [
    "\n",
    "<!-- #region id=\"70ad5ecd\" -->\n",
    "## <a id=diagramme-filaire>Diagramme filaire</a>\n",
    "<!-- #endregion -->\n",
    "\n"
   ]
  },
  {
   "cell_type": "code",
   "execution_count": null,
   "id": "523ce4ad",
   "metadata": {},
   "outputs": [],
   "source": [
    "fig = plt.figure(figsize=(8, 6))\n",
    "\n",
    "ax = fig.add_subplot(1, 1, 1, projection=\"3d\")\n",
    "\n",
    "ax.plot_wireframe(X, Y, Z, rstride=4, cstride=4)\n",
    "show()\n"
   ]
  },
  {
   "cell_type": "markdown",
   "id": "a3971993",
   "metadata": {},
   "source": [
    "\n",
    "<!-- #region id=\"2a239b73\" -->\n",
    "## <a id=graphiques-de-contour-avec-projections>Graphiques de contour avec projections</a>\n",
    "<!-- #endregion -->\n",
    "\n"
   ]
  },
  {
   "cell_type": "code",
   "execution_count": null,
   "id": "797f1efa",
   "metadata": {},
   "outputs": [],
   "source": [
    "fig = plt.figure(figsize=(8, 6))\n",
    "\n",
    "ax = fig.add_subplot(1, 1, 1, projection=\"3d\")\n",
    "\n",
    "ax.plot_surface(X, Y, Z, rstride=4, cstride=4, alpha=0.25)\n",
    "cset = ax.contour(X, Y, Z, zdir=\"z\", offset=-np.pi, cmap=matplotlib.cm.coolwarm)\n",
    "cset = ax.contour(X, Y, Z, zdir=\"x\", offset=-np.pi, cmap=matplotlib.cm.coolwarm)\n",
    "cset = ax.contour(X, Y, Z, zdir=\"y\", offset=3 * np.pi, cmap=matplotlib.cm.coolwarm)\n",
    "\n",
    "ax.set_xlim3d(-np.pi, 2 * np.pi)\n",
    "ax.set_ylim3d(0, 3 * np.pi)\n",
    "ax.set_zlim3d(-np.pi, 2 * np.pi)\n",
    "show()\n"
   ]
  },
  {
   "cell_type": "markdown",
   "id": "4afbbe14",
   "metadata": {},
   "source": [
    "\n",
    "<!-- #region id=\"c0eef262\" -->\n",
    "**Changer l'angle de vue**\n",
    "<!-- #endregion -->\n",
    "\n",
    "<!-- #region id=\"373dd32c\" -->\n",
    "Nous pouvons changer la perspective d'un tracé 3D en utilisant la méthode `view_init`, qui prend deux arguments : `élévation` et angle `azimut` (en degrés) :\n",
    "<!-- #endregion -->\n",
    "\n"
   ]
  },
  {
   "cell_type": "code",
   "execution_count": null,
   "id": "a91c051c",
   "metadata": {},
   "outputs": [],
   "source": [
    "fig = plt.figure(figsize=(12, 6))\n",
    "\n",
    "ax = fig.add_subplot(1, 2, 1, projection=\"3d\")\n",
    "ax.plot_surface(X, Y, Z, rstride=4, cstride=4, alpha=0.25)\n",
    "ax.view_init(30, 45)\n",
    "\n",
    "ax = fig.add_subplot(1, 2, 2, projection=\"3d\")\n",
    "ax.plot_surface(X, Y, Z, rstride=4, cstride=4, alpha=0.25)\n",
    "ax.view_init(70, 30)\n",
    "\n",
    "fig.tight_layout()\n",
    "show()\n"
   ]
  },
  {
   "cell_type": "markdown",
   "id": "3366472d",
   "metadata": {},
   "source": [
    "\n",
    "<!-- #region id=\"1f928244\" -->\n",
    "# <a id=compléments>Compléments</a>\n",
    "<!-- #endregion -->\n",
    "\n",
    "<!-- #region id=\"2e8a1efa\" -->\n",
    "Les sources d'informations sur Matplotlib foisonnent. En autant que possible, il faut se référer aux\n",
    "plus récentes d'entre elles. En effet, les livres deviennent rapidement périmés et certains vieux\n",
    "sites Web montrent des exemples de code pouvant aujourd'hui être plus concis et plus rapides à exécuter.\n",
    "<!-- #endregion -->\n",
    "\n",
    "<!-- #region id=\"40272550\" -->\n",
    "* La [page Web](http://www.matplotlib.org ) du projet pour Matplotlib.\n",
    "* Un bon [tutoriel](http://www.loria.fr/~rougier/teaching/matplotlib) matplotlib.\n",
    "\n",
    "Finalement, voici une [grande galerie](http://matplotlib.org/gallery.html) présentant différents types de problèmes que Matplotlib peut traiter. Hautement recommandée! Ça vaut la peine de l'explorer afin de voir ce qui peut être fait. Un jour viendra où vous\n",
    "aurez besoin d'afficher des résultats de façon originale. Vous saurez alors où aller pour avoir des idées.\n",
    "<!-- #endregion -->\n",
    "\n",
    "<!-- #region id=\"1f928244\" -->\n",
    "# <a id=aide-mémoires-et-trucs-utiles>Aide-mémoires et trucs utiles</a>\n",
    "<!-- #endregion -->\n",
    "\n",
    "<!-- #region id=\"71502b11\" -->\n",
    "Il y a tellement de façons d'afficher des résultats qu'on tend à les confondre. Voici quelques\n",
    "affiches montrant les principales méthodes et leurs bons usages. Elles ont été créées par le site officiel\n",
    "de Matplotlib.\n",
    "<!-- #endregion -->\n",
    "\n",
    "<!-- #region id=\"2a57fd7e\" -->\n",
    "* https://matplotlib.org/cheatsheets/\n",
    "* https://github.com/matplotlib/cheatsheets/\n",
    "\n",
    "<div align=\"center\">\n",
    "    <img src= \"../images/matplotlib-examples.png\"  width=\"1000\" />\n",
    "    <div>\n",
    "    <font size=\"1.5\">Image Source: https://matplotlib.org/cheatsheets/</font>\n",
    "    </div>\n",
    "</div>\n",
    "<!-- #endregion -->\n"
   ]
  }
 ],
 "metadata": {},
 "nbformat": 4,
 "nbformat_minor": 5
}
