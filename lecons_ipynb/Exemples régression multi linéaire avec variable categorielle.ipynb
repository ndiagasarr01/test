{
 "cells": [
  {
   "cell_type": "markdown",
   "id": "5d1cf976",
   "metadata": {},
   "source": [
    "---\n",
    "jupyter:\n",
    "  jupytext:\n",
    "    text_representation:\n",
    "      extension: .md\n",
    "      format_name: markdown\n",
    "      format_version: '1.3'\n",
    "      jupytext_version: 1.16.0\n",
    "  kernelspec:\n",
    "    display_name: Python 3\n",
    "    language: python\n",
    "    name: python3\n",
    "---\n",
    "\n",
    "<!-- #region id=\"eb0dad00\" -->\n",
    "# Table des matières\n",
    "- [Exemples de régression multilinéaire avec variable catégorielle](#exemples-de-régression-multilinéaire-avec-variable-catégorielle)\n",
    "        - [Une approche par petits pas](#une-approche-par-petits-pas)\n",
    "  - [Lecture des données](#lecture-des-données)\n",
    "      - [Lecture et affichage de la base de données '50_Startups.csv'.](#lecture-et-affichage-de-la-base-de-données-50_startupscsv)\n",
    "  - [Partie I: Recalage linéaire simple n'incluant pas la variable catégorielle State](#partie-i-recalage-linéaire-simple-nincluant-pas-la-variable-catégorielle-state)\n",
    "      - [Séparons les variables X et la réponse y de la base de données.](#séparons-les-variables-x-et-la-réponse-y-de-la-base-de-données)\n",
    "      - [Affichage des premières lignes des variables X.](#affichage-des-premières-lignes-des-variables-x)\n",
    "      - [Séparation des données en un ensemble d'entraînement ($80~\\%$ des données) et de test ($20~\\%$ des données)](#séparation-des-données-en-un-ensemble-dentraînement-80-des-données-et-de-test-20-des-données)\n",
    "      - [Normalisation  des données](#normalisation--des-données)\n",
    "      - [Entrainons le modèle de régression linéaire.](#entrainons-le-modèle-de-régression-linéaire)\n",
    "      - [Calculons la réponse prédite pour les données de test.](#calculons-la-réponse-prédite-pour-les-données-de-test)\n",
    "      - [Calcul de la métrique $R^2$ à partir des vraies valeurs et les valeurs prédites pour les données de test.](#calcul-de-la-métrique-r%5E2-à-partir-des-vraies-valeurs-et-les-valeurs-prédites-pour-les-données-de-test)\n",
    "    - [Affichage des résultats](#affichage-des-résultats)\n",
    "      - [Affichage des coefficients du modèle et de la métrique $R^2$.](#affichage-des-coefficients-du-modèle-et-de-la-métrique-r%5E2)\n",
    "      - [Interprétation des résultats](#interprétation-des-résultats)\n",
    "      - [Comparaison des profits réels et prédits](#comparaison-des-profits-réels-et-prédits)\n",
    "  - [Partie II: Recalage linéaire simple incluant la variable catégorielle State](#partie-ii-recalage-linéaire-simple-incluant-la-variable-catégorielle-state)\n",
    "      - [Séparons les variables X et la réponse y de la base de données.](#séparons-les-variables-x-et-la-réponse-y-de-la-base-de-données-1)\n",
    "      - [Génération des variables nominales](#génération-des-variables-nominales)\n",
    "      - [Affichage des premières lignes des variables X.](#affichage-des-premières-lignes-des-variables-x-1)\n",
    "    - [Affichage des résultats](#affichage-des-résultats-1)\n",
    "      - [Affichage des coefficients du modèle et de la métrique $R^2$.](#affichage-des-coefficients-du-modèle-et-de-la-métrique-r%5E2-1)\n",
    "      - [Interprétation des résultats](#interprétation-des-résultats-1)\n",
    "      - [Comparaison des profits réels et prédits](#comparaison-des-profits-réels-et-prédits-1)\n",
    "        - [Prédiction d'une valeur unique](#prédiction-dune-valeur-unique)\n",
    "<!-- #endregion -->\n",
    "\n",
    "<!-- #region id=\"d6d57a4b\" -->\n",
    "---\n",
    "# Exemples de régression multilinéaire avec variable catégorielle\n",
    "---\n",
    "<!-- #endregion -->\n",
    "\n",
    "<!-- #region id=\"ba55f0f4\" -->\n",
    "<p>&nbsp;</p>\n",
    "<div align=\"center\">\n",
    "    <img src= \"../images/importance-of-crowd-funding.png\"  width=\"600\" />\n",
    "    <div>\n",
    "    <font size=\"0.5\">Image Source: https://www.finsmes.com/2019/06/the-importance-of-crowdfunding.html/</font>\n",
    "    </div>\n",
    "</div>\n",
    "<!-- #endregion -->\n",
    "\n",
    "<!-- #region id=\"7a046863\" -->\n",
    "Dans cette section, nous allons montrer quelques exemples d'applications des modèles de régression décrits\n",
    "dans la section sur la théorie de la régression multilinéaire.\n",
    "\n",
    "Nous allons utiliser la base de données suivante provenant du\n",
    "site de Kaggle:   https://www.kaggle.com/amineoumous/50-startups-data.\n",
    "\n",
    "Elle liste les profits de 50 compagnies jeunes-pousses (*startups*) uniformément réparties dans\n",
    "les états de New York, de la Californie et de la Floride. Elle contient les variables suivantes:\n",
    "\n",
    "\n",
    "- R&D Spend: dépenses investies en recherche et développement,\n",
    "- Administration: frais d'administration,\n",
    "- Marketing Spend: dépenses investies en marketing,\n",
    "- State: localisation géographique (New York, California, Florida).\n",
    "\n",
    "Les trois premières sont continues alors que la quatrième est catégorielle. On voudrait prédire les profits\n",
    "des compagnies en fonction de ces variables.\n",
    "\n",
    "##### Une approche par petits pas\n",
    "\n",
    "Puisqu'il n'existe pas de modèle analytique exact dans ce type de problème, nous allons utiliser\n",
    "des modèles linéaires pour analyser les données. Bien que très simples, ils se sont souvent révélés utiles\n",
    "pour analyser des données financières. De plus, leur simplicité facilite l'interprétation des résultats et\n",
    "l'identification des variables les plus importantes.\n",
    "\n",
    "Dans ce qui suit, nous allons utiliser deux modèles linéaires de complexité croissante. Le premier modèle\n",
    "n'utilise que les variables continues. Le second modèle les inclut toutes. On y verra\n",
    "comment intégrer des variables catégorielles à l'analyse. Il faut savoir qu'une grande part des problèmes en apprentissage automatique\n",
    "utilisent des données de différents types; numériques, ordinales et catégorielles. Il faut apprendre à les utiliser\n",
    "correctement. Ce point important est discuté dans le module sur le prétraitement des données. Nous allons en donner\n",
    "un exemple simple d'utilisation dans ce qui suit.\n",
    "\n",
    "Modèle I: on n'utilise que les variables numériques\n",
    "$$Profit \\approx a_{0} + a_{1}R\\&D + a_{2}Administration + a_{3}Marketing$$\n",
    "\n",
    "Modèle II: On rajoute la variable catégorielle associée à la position géographique\n",
    "$$Profit \\approx a_{0} + a_{1}R\\&D + a_{2}Administration + a_{3}Marketing + a_{4}Florida + a_{5}NewYork$$\n",
    "\n",
    "Puisque la variable State contient trois catégories; elle peut être convertie en deux variables\n",
    "nominales Florida et New York. Les variables nominales étant mutuellement exclusives, nous n'avons pas\n",
    "besoin d'inclure une variable California, car elle est sélectionnée par élimination lorsque\n",
    "Florida=0 et New York=0.\n",
    "\n",
    "<!-- #endregion -->\n",
    "\n"
   ]
  },
  {
   "cell_type": "code",
   "execution_count": null,
   "id": "40244cfb",
   "metadata": {},
   "outputs": [],
   "source": [
    "from sklearn.preprocessing import PolynomialFeatures, StandardScaler\n",
    "from sklearn.model_selection import train_test_split\n",
    "from sklearn.linear_model import LinearRegression\n",
    "from sklearn.metrics import r2_score\n",
    "import numpy as np\n",
    "import pandas as pd\n",
    "import matplotlib.pyplot as plt\n",
    "import seaborn as sns\n",
    "\n",
    "sns.set(color_codes=True)\n",
    "\n",
    "%matplotlib inline\n",
    "\n",
    "# Pour la reproductibilité des résultats\n",
    "np.random.seed(seed)\n"
   ]
  },
  {
   "cell_type": "markdown",
   "id": "ca112fa9",
   "metadata": {},
   "source": [
    "\n",
    "<!-- #region id=\"693e542d\" -->\n",
    "## Lecture des données\n",
    "\n",
    "#### Lecture et affichage de la base de données '50_Startups.csv'.\n",
    "\n",
    "La dernière colonne correspond aux profits des\n",
    "compagnies (en k\\~\\$). C'est la réponse $y$ que l'on veut prédire\n",
    "à partir des variables $X$ dans les colonnes précédentes. Notez que les trois premières variables contiennent des\n",
    "valeurs numériques continues alors que la quatrième (State) est catégorielle et contient les noms d'état.\n",
    "\n",
    "<!-- #endregion -->\n",
    "\n"
   ]
  },
  {
   "cell_type": "code",
   "execution_count": null,
   "id": "48cb324b",
   "metadata": {},
   "outputs": [],
   "source": [
    "# Lecture de la base de données en format CSV.\n",
    "dataset = pd.read_csv('/pax/shared/GIF-U014/50_Startups.csv')\n",
    "\n",
    "# Affichage des cinq premières lignes du fichier.\n",
    "dataset.head()\n"
   ]
  },
  {
   "cell_type": "markdown",
   "id": "ea4cf4c3",
   "metadata": {},
   "source": [
    "\n",
    "<!-- #region id=\"f8143126\" -->\n",
    "## Partie I: Recalage linéaire simple n'incluant pas la variable catégorielle State\n",
    "\n",
    "Dans ce premier exemple, le modèle n'utilise que les variables numériques *R&D Spend*, *Administration*\n",
    "et *Marketing Spend*.\n",
    "\n",
    "Le modèle recalé a ainsi quatre paramètres et est de la forme:\n",
    "\n",
    "$$Profit = a_{0} + a_{1}R\\&D + a_{2}Administration + a_{3}Marketing$$\n",
    "\n",
    "#### Séparons les variables X et la réponse y de la base de données.\n",
    "<!-- #endregion -->\n",
    "\n"
   ]
  },
  {
   "cell_type": "code",
   "execution_count": null,
   "id": "3ad5890b",
   "metadata": {},
   "outputs": [],
   "source": [
    "X = dataset.iloc[:, :-1]\n",
    "y = dataset.iloc[:, 4]\n",
    "\n",
    "# Élimination de l'information géographique\n",
    "X = X.drop('State', axis=1)\n"
   ]
  },
  {
   "cell_type": "markdown",
   "id": "a955a975",
   "metadata": {},
   "source": [
    "\n",
    "<!-- #region id=\"4df2d689\" -->\n",
    "#### Affichage des premières lignes des variables X.\n",
    "<!-- #endregion -->\n",
    "\n"
   ]
  },
  {
   "cell_type": "code",
   "execution_count": null,
   "id": "475e05a2",
   "metadata": {},
   "outputs": [],
   "source": [
    "print('\\nVariables utilisées (cinq premières lignes des données) :\\n')\n",
    "print(X.head())\n"
   ]
  },
  {
   "cell_type": "markdown",
   "id": "f819f8a0",
   "metadata": {},
   "source": [
    "\n",
    "<!-- #region id=\"869ba320\" -->\n",
    "Seules trois colonnes apparaissent puisque les variables nominales ne sont pas utilisées.\n",
    "\n",
    "#### Séparation des données en un ensemble d'entraînement ($80~\\%$ des données) et de test ($20~\\%$ des données)\n",
    "\n",
    "Les données d'entraînement vont servir à entraînement le modèle de régression. C'est-à-dire, à estimer les valeurs des\n",
    "paramètres $a_0, a_1, a_2, a_3$. Les données de test vont ensuite servir à mesurer les performances du modèle entrainé à prédire correctement les profits.\n",
    "<!-- #endregion -->\n",
    "\n"
   ]
  },
  {
   "cell_type": "code",
   "execution_count": null,
   "id": "d03b59b7",
   "metadata": {},
   "outputs": [],
   "source": [
    "X_train, X_test, y_train, y_test = train_test_split(X, y, test_size=0.2, random_state=0)\n"
   ]
  },
  {
   "cell_type": "markdown",
   "id": "ad350cb8",
   "metadata": {},
   "source": [
    "\n",
    "<!-- #region id=\"92ce758f\" -->\n",
    "#### Normalisation  des données\n",
    "\n",
    "La normalisation a pour effet de mettre toutes les variables $x_i$ sur un même pied d'égalité. Les différences d'unités de mesure et d'échelle de grandeur sont éliminées. La normalisation est expliquée plus en détail dans un des modules sur le prétraitement des données.\n",
    "\n",
    "Il faut sélectionner une fonction de normalisation et l'entraînement avec les données d'**entraînement**. On peut ensuite l'appliquer aux données de **test**.\n",
    "\n",
    "Selon la méthode StandardScaler, chaque colonne $x_i$ de la matrice $X$ est transformée de la façon suivante\n",
    "\n",
    "$$x'_i = \\dfrac{x_i-\\mu_i}{\\sigma_i}$$\n",
    "\n",
    "où $\\mu_i$ et $\\sigma_i$ sont la moyenne et l'écart-type des valeurs de $x_i$ calculées avec les données d'**entraînement**.\n",
    "\n",
    "<!-- #endregion -->\n",
    "\n"
   ]
  },
  {
   "cell_type": "code",
   "execution_count": null,
   "id": "31a8d2b4",
   "metadata": {},
   "outputs": [],
   "source": [
    "norm = StandardScaler()\n",
    "X_train = norm.fit_transform(X_train)\n",
    "X_test = norm.transform(X_test)\n"
   ]
  },
  {
   "cell_type": "markdown",
   "id": "943560ed",
   "metadata": {},
   "source": [
    "\n",
    "<!-- #region id=\"b08f4813\" -->\n",
    "#### Entrainons le modèle de régression linéaire.\n",
    "<!-- #endregion -->\n",
    "\n"
   ]
  },
  {
   "cell_type": "code",
   "execution_count": null,
   "id": "16a2f7ff",
   "metadata": {},
   "outputs": [],
   "source": [
    "reg = LinearRegression()\n",
    "reg.fit(X_train, y_train);\n"
   ]
  },
  {
   "cell_type": "markdown",
   "id": "343b12cc",
   "metadata": {},
   "source": [
    "\n",
    "<!-- #region id=\"e4682097\" -->\n",
    "#### Calculons la réponse prédite pour les données de test.\n",
    "<!-- #endregion -->\n",
    "\n"
   ]
  },
  {
   "cell_type": "code",
   "execution_count": null,
   "id": "1e2a63e0",
   "metadata": {},
   "outputs": [],
   "source": [
    "y_pred = reg.predict(X_test)\n"
   ]
  },
  {
   "cell_type": "markdown",
   "id": "5103231f",
   "metadata": {},
   "source": [
    "\n",
    "<!-- #region id=\"f632f7db\" -->\n",
    "#### Calcul de la métrique $R^2$ à partir des vraies valeurs et les valeurs prédites pour les données de test.\n",
    "<!-- #endregion -->\n",
    "\n"
   ]
  },
  {
   "cell_type": "code",
   "execution_count": null,
   "id": "e5567ad0",
   "metadata": {},
   "outputs": [],
   "source": [
    "score = r2_score(y_test, y_pred)\n"
   ]
  },
  {
   "cell_type": "markdown",
   "id": "847e07cb",
   "metadata": {},
   "source": [
    "\n",
    "<!-- #region id=\"401d583a\" -->\n",
    "### Affichage des résultats\n",
    "\n",
    "#### Affichage des coefficients du modèle et de la métrique $R^2$.\n",
    "<!-- #endregion -->\n",
    "\n"
   ]
  },
  {
   "cell_type": "code",
   "execution_count": null,
   "id": "6cba80fc",
   "metadata": {},
   "outputs": [],
   "source": [
    "print(\"Coefficients: \\n\")\n",
    "print(\"\\t a_{0} = %f\\n\" % (reg.intercept_))\n",
    "for i, coeff in enumerate(reg.coef_):\n",
    "    print(\"\\t a_{%d} = %f\\n\" % (i + 1, reg.coef_[i]))\n",
    "print(\"\\nMétrique R2:  %0.1f %%\\n\" % (100 * score))\n"
   ]
  },
  {
   "cell_type": "markdown",
   "id": "17a0dd78",
   "metadata": {},
   "source": [
    "\n",
    "<!-- #region id=\"be2eb45d\" -->\n",
    "#### Interprétation des résultats\n",
    "\n",
    "Selon la métrique $R^2$, ce premier modèle explique $93,9~\\%$ de l'information dans les données.\n",
    "\n",
    "On voit que $a_1 > a_3 > a_2$ et qu'ils sont tous positifs. Ainsi, les variables en ordre d'importance sont\n",
    "\n",
    "\n",
    "- R&D Spend: dépenses investies en recherche et développement,\n",
    "- Marketing Spend: dépenses investies en marketing,\n",
    "- Administration: frais d'administration.\n",
    "\n",
    "\n",
    "Plus les dépenses sont importantes, meilleurs sont les profits. Celles en recherche et développement,\n",
    "suivies de celles en marketing, sont les plus importantes. Celles en administration contribuent aussi, car\n",
    "il faut engager plus de personnel pour faire de la R et D et du marketing.\n",
    "\n",
    "Attention toutefois, on observe des corrélations entre les variables, mais pas nécessairement des liens de causalité! En effet, est-ce qu'une compagnie faisant plus de profits investit plus en R et D ou est-ce que ce sont plutôt les investissements en R et D qui mènent à plus de profits?\n",
    "\n",
    "Autre point important. Il est possible que la base de données ne contienne que des données provenant de\n",
    "compagnies jeunes-pousses ayant survécu à leurs premières années. Il y a donc un effet de sélection et les conclusions qu'on est tentés de tirer peuvent être biaisées. Elles ne s'appliqueraient alors qu'aux compagnies **ayant survécu à leurs premières années!**\n",
    "\n",
    "#### Comparaison des profits réels et prédits\n",
    "\n",
    "<!-- #endregion -->\n",
    "\n"
   ]
  },
  {
   "cell_type": "code",
   "execution_count": null,
   "id": "ba1955d4",
   "metadata": {},
   "outputs": [],
   "source": [
    "# Conversion en k$\n",
    "y_test = y_test / 1000\n",
    "y_pred = y_pred / 1000\n",
    "\n",
    "fig = plt.figure(figsize=(8, 6))\n",
    "plt.plot(y_test, y_pred, 'o')\n",
    "plt.plot(y_test, y_test, '-r', label='Prédiction parfaite')\n",
    "plt.title(\"Modèle n'utilisant pas l'information géographique\", fontsize=16)\n",
    "plt.xlabel('Profit réel (k$)', fontsize=16)\n",
    "plt.ylabel('Profit prédit (k$)', fontsize=16)\n",
    "plt.legend()\n",
    "fig.tight_layout()\n",
    "plt.show()\n"
   ]
  },
  {
   "cell_type": "markdown",
   "id": "44ab0043",
   "metadata": {},
   "source": [
    "\n",
    "<!-- #region id=\"b5934bf3\" -->\n",
    "Bien que le modèle linéaire utilisé soit simple, ses prédictions sont plutôt bonnes comme le montre l'adéquation entre les\n",
    "valeurs prédites et les valeurs réelles de test. Les points sont bien répartis le long de la droite de prédiction parfaite.\n",
    "\n",
    "## Partie II: Recalage linéaire simple incluant la variable catégorielle State\n",
    "\n",
    "Dans ce second exemple, le modèle utilise l'information géographique contenue dans la variable State de la base de données.\n",
    "Il y a maintenant cinq variables utilisées lors du recalage, soient les trois numériques et les deux nominales.\n",
    "\n",
    "Le modèle recalé a six paramètres et est de la forme:\n",
    "\n",
    "$$Profit = a_{0} + a_{1}R\\&D + a_{2}Administration + a_{3}Marketing + a_{4}Florida + a_{5}NewYork$$\n",
    "\n",
    "#### Séparons les variables X et la réponse y de la base de données.\n",
    "<!-- #endregion -->\n",
    "\n"
   ]
  },
  {
   "cell_type": "code",
   "execution_count": null,
   "id": "346bedd8",
   "metadata": {},
   "outputs": [],
   "source": [
    "X = dataset.iloc[:, :-1]\n",
    "y = dataset.iloc[:, 4]\n"
   ]
  },
  {
   "cell_type": "markdown",
   "id": "d2858c96",
   "metadata": {},
   "source": [
    "\n",
    "<!-- #region id=\"ade5ba67\" -->\n",
    "#### Génération des variables nominales\n",
    "\n",
    "Puisqu'on utilise l'information géographique contenue dans la variable State, il faut convertir la variable\n",
    "State={New York, California, Florida} en deux variables nominales Florida et New York. Les variables\n",
    "nominales étant mutuellement exclusives, nous n'avons pas besoin d'inclure une variable California,\n",
    "car elle est sélectionnée par élimination lorsque Florida=0 et New York=0.\n",
    "\n",
    "Si l'on utilisait trois variables nominales au lieu de deux, on aurait un jeu de variables corrélées\n",
    "entre elles puisque la valeur de la variable California se déduit de celles de Floride et New York.\n",
    "Plusieurs méthodes de régressions sont sensibles au problème de covariance entre les données.\n",
    "C'est une leçon importante à retenir.\n",
    "\n",
    "On utilise la fonction\n",
    "[get_dummies](https://pandas.pydata.org/pandas-docs/stable/reference/api/pandas.get_dummies.html) de la librairie Pandas.\n",
    "\n",
    "<!-- #endregion -->\n",
    "\n"
   ]
  },
  {
   "cell_type": "code",
   "execution_count": null,
   "id": "97c8eda2",
   "metadata": {},
   "outputs": [],
   "source": [
    "states = pd.get_dummies(X['State'], drop_first=True)\n",
    "\n",
    "X = X.drop('State', axis=1)\n",
    "X = pd.concat([X, states], axis=1)\n"
   ]
  },
  {
   "cell_type": "markdown",
   "id": "c90efb4f",
   "metadata": {},
   "source": [
    "\n",
    "<!-- #region id=\"384298d3\" -->\n",
    "#### Affichage des premières lignes des variables X.\n",
    "<!-- #endregion -->\n",
    "\n"
   ]
  },
  {
   "cell_type": "code",
   "execution_count": null,
   "id": "c9ff534a",
   "metadata": {},
   "outputs": [],
   "source": [
    "print('\\nVariables utilisées (cinq premières lignes des données) :\\n')\n",
    "print(X.head())\n"
   ]
  },
  {
   "cell_type": "markdown",
   "id": "11e29b50",
   "metadata": {},
   "source": [
    "\n",
    "<!-- #region id=\"aadd8007\" -->\n",
    "Il y a maintenant cinq colonnes puisque les variables nominales sont utilisées. Il y a plusieurs\n",
    "ordres de grandeur entre les différentes variables; raison de plus pour normaliser les données.\n",
    "\n",
    "La section de code suivante traite de l'entraînement et du test du modèle de régression. Elle est identique à celle\n",
    "utilisée pour le premier modèle. Elle est répétée ici sous forme plus condensée.\n",
    "<!-- #endregion -->\n",
    "\n"
   ]
  },
  {
   "cell_type": "code",
   "execution_count": null,
   "id": "7955f42a",
   "metadata": {},
   "outputs": [],
   "source": [
    "# Séparation des données en un ensemble d'entraînement (80 % des données) et\n",
    "# de test (20 % des données)\n",
    "X_train, X_test, y_train, y_test = train_test_split(X, y, test_size=0.2, random_state=0)\n",
    "\n",
    "# Sélectionnons une fonction de normalisation et entrainons-la avec les\n",
    "# données d'entraînement\n",
    "norm = StandardScaler()\n",
    "X_train = norm.fit_transform(X_train)\n",
    "X_test = norm.transform(X_test)\n",
    "\n",
    "# Entraînement du modèle de régression linéaire sans interaction\n",
    "reg = LinearRegression()\n",
    "reg.fit(X_train, y_train)\n",
    "\n",
    "# Calculons la réponse prédite pour les données de test.\n",
    "y_pred = reg.predict(X_test)\n",
    "\n",
    "# Calcul de la métrique R2 à partir des vraies valeurs et les valeurs prédites\n",
    "# pour les données de test.\n",
    "score = r2_score(y_test, y_pred)\n"
   ]
  },
  {
   "cell_type": "markdown",
   "id": "e167d46f",
   "metadata": {},
   "source": [
    "\n",
    "<!-- #region id=\"91d84352\" -->\n",
    "### Affichage des résultats\n",
    "\n",
    "#### Affichage des coefficients du modèle et de la métrique $R^2$.\n",
    "<!-- #endregion -->\n",
    "\n"
   ]
  },
  {
   "cell_type": "code",
   "execution_count": null,
   "id": "444efe34",
   "metadata": {},
   "outputs": [],
   "source": [
    "print(\"Coefficients: \\n\")\n",
    "print(\"\\t a_{0} = %f\\n\" % (reg.intercept_))\n",
    "for i, coeff in enumerate(reg.coef_):\n",
    "    print(\"\\t a_{%d} = %f\\n\" % (i + 1, reg.coef_[i]))\n",
    "print(\"\\nMétrique R2:  %0.1f %%\\n\" % (100 * score))\n"
   ]
  },
  {
   "cell_type": "markdown",
   "id": "8a97fbd3",
   "metadata": {},
   "source": [
    "\n",
    "<!-- #region id=\"a2f9dc03\" -->\n",
    "#### Interprétation des résultats\n",
    "\n",
    "Selon la métrique $R^2$, le second modèle explique $93,5~\\%$ de l'information dans les données. C'est légèrement inférieur\n",
    "au modèle précédent, mais probablement dû à des fluctuations statistiques. Les résultats sont essentiellement comparables.\n",
    "\n",
    "Les principales variables en ordre d'importance n'ont pas changé:\n",
    "\n",
    "\n",
    "- R&D Spend,\n",
    "- Marketing Spend,\n",
    "- Administration.\n",
    "\n",
    "\n",
    "On voit que les valeurs de $\\alpha_{4}$ et $\\alpha_{5}$ sont faibles par rapport aux autres. Ainsi, l'effet\n",
    "géographique est moins important que même les dépenses en administration!\n",
    "\n",
    "Comment interpréter les signes de $\\alpha_{4}$ (Floride) et $\\alpha_{5}$ (New York)? La variable nominale\n",
    "qui n'apparaît pas, la Californie, sert de référence. L'interprétation est la suivante:\n",
    "\n",
    "\n",
    "- $\\alpha_{4}<0$ signifie que les profits diminuent si l'on investit en Floride plutôt qu'en Californie,\n",
    "- $\\alpha_{5}>0$ signifie que les profits augmentent si l'on investit à New York plutôt qu'en Californie.\n",
    "\n",
    "\n",
    "Attention encore une fois; il faut se rappeler que des corrélations entre les variables n'impliquent pas nécessairement des liens de causalité. Peut-être que les taxes sont différentes entre les états. Les différences de profit ne seraient pas expliquées par une meilleure performance des compagnies de New York, mais simplement dues à des taxes plus faibles dans cet état.\n",
    "\n",
    "#### Comparaison des profits réels et prédits\n",
    "<!-- #endregion -->\n",
    "\n"
   ]
  },
  {
   "cell_type": "code",
   "execution_count": null,
   "id": "940c1669",
   "metadata": {},
   "outputs": [],
   "source": [
    "# Conversion en k$\n",
    "y_test = y_test / 1000\n",
    "y_pred = y_pred / 1000\n",
    "\n",
    "fig = plt.figure(figsize=(8, 6))\n",
    "plt.plot(y_test, y_pred, 'o')\n",
    "plt.plot(y_test, y_test, '-r', label='Prédiction parfaite')\n",
    "plt.title(\"Modèle utilisant l'information géographique\", fontsize=16)\n",
    "plt.xlabel('Profit réel (k$)', fontsize=16)\n",
    "plt.ylabel('Profit prédit (k$)', fontsize=16)\n",
    "plt.legend()\n",
    "fig.tight_layout()\n",
    "plt.show()\n"
   ]
  },
  {
   "cell_type": "markdown",
   "id": "a014c574",
   "metadata": {},
   "source": [
    "\n",
    "<!-- #region id=\"4f992627\" -->\n",
    "Les prédictions du second modèle sont aussi bonnes que pour le premier modèle, plus simple.\n",
    "\n",
    "##### Prédiction d'une valeur unique\n",
    "\n",
    "Jusqu'à maintenant, on a effectué des prédictions sur les ensembles d'entraînement et de test\n",
    "qui contenaient les données de plusieurs compagnies. Voici comment le faire pour une compagnie à la fois.\n",
    "\n",
    "Quel serait le profit d'une compagnie californienne ayant investi 50 k\\~\\$ en R et D, 200 k\\~\\$ en marketing\n",
    "et 150 k\\~\\$ en administration?\n",
    "\n",
    "> À noter que le cas de la Californie correspond à Florida=0 et New York=0.\n",
    "<!-- #endregion -->\n",
    "\n"
   ]
  },
  {
   "cell_type": "code",
   "execution_count": null,
   "id": "a075c3e4",
   "metadata": {},
   "outputs": [],
   "source": [
    "X0 = pd.DataFrame(\n",
    "    {\n",
    "        'R&D Spend': 50000,\n",
    "        'Administration': 150000,\n",
    "        'Marketing Spend': 20000,\n",
    "        'Florida': 0,\n",
    "        'New York': 0,\n",
    "    },\n",
    "    index=[0],\n",
    ")\n",
    "\n",
    "# Normalisation des données\n",
    "X0_n = norm.transform(X0)\n",
    "\n",
    "# Prédiction du profit\n",
    "y0 = reg.predict(X0_n)\n",
    "\n",
    "print(\"\\t Profits = %0.1f k$\" % (y0 / 1000))\n"
   ]
  },
  {
   "cell_type": "markdown",
   "id": "aa15aabb",
   "metadata": {},
   "source": [
    "\n"
   ]
  },
  {
   "cell_type": "code",
   "execution_count": null,
   "id": "3601eb08",
   "metadata": {},
   "outputs": [],
   "source": [
    "\n"
   ]
  }
 ],
 "metadata": {},
 "nbformat": 4,
 "nbformat_minor": 5
}
