{
 "cells": [
  {
   "cell_type": "markdown",
   "id": "3c5e0304",
   "metadata": {},
   "source": [
    "---\n",
    "jupyter:\n",
    "  jupytext:\n",
    "    text_representation:\n",
    "      extension: .md\n",
    "      format_name: markdown\n",
    "      format_version: '1.3'\n",
    "      jupytext_version: 1.16.0\n",
    "  kernelspec:\n",
    "    display_name: Python 3 (ipykernel)\n",
    "    language: python\n",
    "    name: python3\n",
    "---\n",
    "\n",
    "<!-- #region id=\"eb0dad00\" -->\n",
    "# Table des matières\n",
    "- [Une approche par petits pas](#une-approche-par-petits-pas)\n",
    "- [Recalage linéaire simple incluant la variable catégorielle](#recalage-linéaire-simple-incluant-la-variable-catégorielle)\n",
    "- [Affichage des résultats](#affichage-des-résultats)\n",
    "- [Interprétation des résultats](#interprétation-des-résultats)\n",
    "- [Comparaison des profits réels et prédits](#comparaison-des-profits-réels-et-prédits)\n",
    "- [Prédiction d'une valeur unique](#prédiction-dune-valeur-unique)\n",
    "<!-- #endregion -->\n",
    "\n"
   ]
  },
  {
   "cell_type": "code",
   "execution_count": null,
   "id": "fe2cbcf8",
   "metadata": {},
   "outputs": [],
   "source": [
    "%matplotlib inline\n",
    "\n",
    "import matplotlib.pyplot as plt\n",
    "import numpy as np\n",
    "import pandas as pd\n",
    "import seaborn as sns\n",
    "from sklearn.linear_model import LinearRegression\n",
    "from sklearn.metrics import r2_score\n",
    "from sklearn.model_selection import train_test_split\n",
    "from sklearn.preprocessing import PolynomialFeatures, StandardScaler\n",
    "\n",
    "sns.set(color_codes=True)\n",
    "\n",
    "\n",
    "seed = 42\n",
    "np.random.seed(seed)\n"
   ]
  },
  {
   "cell_type": "markdown",
   "id": "d8ce4b99",
   "metadata": {},
   "source": [
    "\n",
    "<!-- #region id=\"7a046863\" -->\n",
    "Dans cet exemple, nous allons reprendre le même contexte et jeu de données que dans l'exemple précédent, mais cette fois-ci, nous allons utiliser la variable catégorielle afin de montrer comment traiter ce type de variable.\n",
    "<!-- #endregion -->\n",
    "\n",
    "<!-- #region id=\"ec4dbb9e\" -->\n",
    "# <a id=une-approche-par-petits-pas>Une approche par petits pas</a>\n",
    "<!-- #endregion -->\n",
    "\n",
    "<!-- #region id=\"5d955cd7\" -->\n",
    "Dans ce qui suit, nous allons utiliser un modèle incluant toutes les variables du jeu de données des jeunes pousses. Nous allons voir comment intégrer des variables catégorielles à l'analyse. \n",
    "\n",
    "Notre modèle correspond donc à :\n",
    "$$\\text{Profit} \\approx a_{0} + a_{1}\\text{R&D} + a_{2}\\text{Administration} + a_{3}\\text{Marketing}+ a_{4}\\text{Florida} + a_{5}\\text{New York}$$\n",
    "\n",
    "Puisque la variable `State` contiens trois catégories; elle peut être convertie en deux variables\n",
    "nominales $\\text{Florida}$ et $\\text{New York}$. Les variables nominales étant mutuellement exclusives, nous n'avons pas besoin d'inclure une variable $\\text{California}$, car elle est sélectionnée par élimination lorsque\n",
    "$\\text{Florida}=0$ et $\\text{New York}=0$.\n",
    "<!-- #endregion -->\n",
    "\n",
    "<!-- #region id=\"b5934bf3\" -->\n",
    "# <a id=recalage-linéaire-simple-incluant-la-variable-catégorielle>Recalage linéaire simple incluant la variable catégorielle</a>\n",
    "<!-- #endregion -->\n",
    "\n",
    "<!-- #region id=\"99df0c50\" -->\n",
    "Commençons par importer les données, comme dans l'exemple précédent, en séparant les variables X et la réponse Y du jeu de données. Cette fois, nous allons prendre l'ensemble des colonnes.\n",
    "<!-- #endregion -->\n",
    "\n"
   ]
  },
  {
   "cell_type": "code",
   "execution_count": null,
   "id": "6529c62d",
   "metadata": {},
   "outputs": [],
   "source": [
    "# Lecture du jeu de données en format CSV.\n",
    "dataset = pd.read_csv(\"/pax/shared/GIF-U014/50_Startups.csv\")\n",
    "\n",
    "# Affichage des cinq premières lignes du fichier.\n",
    "dataset.head()\n"
   ]
  },
  {
   "cell_type": "markdown",
   "id": "f0c4db56",
   "metadata": {},
   "source": [
    "\n"
   ]
  },
  {
   "cell_type": "code",
   "execution_count": null,
   "id": "b581c84b",
   "metadata": {},
   "outputs": [],
   "source": [
    "X = dataset.iloc[:, :-1]\n",
    "y = dataset.iloc[:, 4]\n"
   ]
  },
  {
   "cell_type": "markdown",
   "id": "9c4ad5da",
   "metadata": {},
   "source": [
    "\n",
    "<!-- #region id=\"ade5ba67\" -->\n",
    "Puisqu'on utilise l'information géographique contenue dans la variable `State`, il faut convertir la variable\n",
    "$\\text{State}={\\text{New York}, \\text{California}, \\text{Florida}}$ en deux variables nominales $\\text{Florida}$ et $\\text{New York}$. \n",
    "\n",
    "Si l'on utilisait trois variables nominales au lieu de deux, on aurait un jeu de variables corrélées\n",
    "entre elles puisque la valeur de la variable $\\text{California}$ se déduit de celles de $\\text{Florida}$ et $\\text{New York}$.\n",
    "Plusieurs méthodes de régressions sont sensibles au problème de covariance entre les données.\n",
    "C'est une leçon importante à retenir.\n",
    "\n",
    "On utilise la fonction\n",
    "[`get_dummies`](https://pandas.pydata.org/pandas-docs/stable/reference/api/pandas.get_dummies.html) de la librairie Pandas pour générer les variables.\n",
    "\n",
    "<!-- #endregion -->\n",
    "\n"
   ]
  },
  {
   "cell_type": "code",
   "execution_count": null,
   "id": "ac2555ba",
   "metadata": {},
   "outputs": [],
   "source": [
    "states = pd.get_dummies(X[\"State\"], drop_first=True)\n",
    "\n",
    "X = X.drop(\"State\", axis=1)\n",
    "X = pd.concat([X, states], axis=1)\n"
   ]
  },
  {
   "cell_type": "markdown",
   "id": "9112f71b",
   "metadata": {},
   "source": [
    "\n",
    "<!-- #region id=\"384298d3\" -->\n",
    "Affichons les premières lignes des variables X afin de voir nos nouvelles variables.\n",
    "<!-- #endregion -->\n",
    "\n"
   ]
  },
  {
   "cell_type": "code",
   "execution_count": null,
   "id": "65942bdc",
   "metadata": {},
   "outputs": [],
   "source": [
    "print(\"\\nVariables utilisées (cinq premières lignes des données) :\\n\")\n",
    "print(X.head())\n"
   ]
  },
  {
   "cell_type": "markdown",
   "id": "2d8640fa",
   "metadata": {},
   "source": [
    "\n",
    "<!-- #region id=\"aadd8007\" -->\n",
    "Il y a maintenant cinq colonnes puisque les variables nominales sont utilisées. Il y a plusieurs\n",
    "ordres de grandeur entre les différentes variables; raison de plus pour normaliser les données.\n",
    "\n",
    "La section de code suivante traite de l'entraînement et du test du modèle de régression. Elle est identique à celle\n",
    "utilisée pour le premier modèle. Elle est répétée ici sous forme plus condensée.\n",
    "<!-- #endregion -->\n",
    "\n"
   ]
  },
  {
   "cell_type": "code",
   "execution_count": null,
   "id": "145e1d8f",
   "metadata": {},
   "outputs": [],
   "source": [
    "# Séparation des données en un ensemble d'entraînement (80 % des données) et\n",
    "# de test (20 % des données)\n",
    "X_train, X_test, y_train, y_test = train_test_split(X, y, test_size=0.2, random_state=0)\n",
    "\n",
    "# Sélectionnons une fonction de normalisation et entrainons-la avec les\n",
    "# données d'entraînement\n",
    "norm = StandardScaler()\n",
    "X_train = norm.fit_transform(X_train)\n",
    "X_test = norm.transform(X_test)\n",
    "\n",
    "# Entraînement du modèle de régression linéaire sans interaction\n",
    "reg = LinearRegression()\n",
    "reg.fit(X_train, y_train)\n",
    "\n",
    "# Calculons la réponse prédite pour les données de test.\n",
    "y_pred = reg.predict(X_test)\n",
    "\n",
    "# Calcul de la métrique R2 à partir des vraies valeurs et les valeurs prédites\n",
    "# pour les données de test.\n",
    "score = r2_score(y_test, y_pred)\n"
   ]
  },
  {
   "cell_type": "markdown",
   "id": "aa870c50",
   "metadata": {},
   "source": [
    "\n",
    "<!-- #region id=\"91d84352\" -->\n",
    "# <a id=affichage-des-résultats>Affichage des résultats</a>\n",
    "<!-- #endregion -->\n",
    "\n"
   ]
  },
  {
   "cell_type": "code",
   "execution_count": null,
   "id": "79057dba",
   "metadata": {},
   "outputs": [],
   "source": [
    "print(\"Coefficients: \\n\")\n",
    "print(\"\\t a_{0} = %f\\n\" % (reg.intercept_))\n",
    "for i, coeff in enumerate(reg.coef_):\n",
    "    print(\"\\t a_{%d} = %f\\n\" % (i + 1, reg.coef_[i]))\n",
    "print(\"\\nMétrique R2:  %0.1f %%\\n\" % (100 * score))\n"
   ]
  },
  {
   "cell_type": "markdown",
   "id": "c219fc2c",
   "metadata": {},
   "source": [
    "\n",
    "<!-- #region id=\"a2f9dc03\" -->\n",
    "# <a id=interprétation-des-résultats>Interprétation des résultats</a>\n",
    "<!-- #endregion -->\n",
    "\n",
    "<!-- #region id=\"2d25c36b\" -->\n",
    "Selon la métrique $R^2$, le second modèle explique $93,5~\\%$ de l'information dans les données. C'est légèrement inférieur au modèle précédent, mais probablement dû à des fluctuations statistiques. Les résultats sont essentiellement comparables.\n",
    "\n",
    "Les principales variables en ordre d'importance n'ont pas changé, soit `R&D Spend`, `Marketing Spend` et `Administration`.\n",
    "\n",
    "On voit que les valeurs de $\\alpha_{4}$ et $\\alpha_{5}$ sont faibles par rapport aux autres. Ainsi, l'effet\n",
    "géographique est moins important que les dépenses en administration!\n",
    "\n",
    "Comment interpréter les signes de $\\alpha_{4}$ ($\\text{Florida}$) et $\\alpha_{5}$ ($\\text{New York}$)? \n",
    "La variable nominale qui n'apparaît pas, $\\text{California}$, sert de référence. L'interprétation est la suivante:\n",
    "\n",
    "- $\\alpha_{4}<0$ signifie que les profits diminuent si l'on investit en $\\text{Floride}$ plutôt qu'en $\\text{Californie}$,\n",
    "- $\\alpha_{5}>0$ signifie que les profits augmentent si l'on investit à $\\text{New York}$ plutôt qu'en $\\text{Californie}$.\n",
    "\n",
    "Attention encore une fois; il faut se rappeler que des corrélations entre les variables n'impliquent pas nécessairement des liens de causalité. Peut-être que les taxes sont différentes entre les états. Les différences de profit ne seraient pas expliquées par une meilleure performance des compagnies de New York, mais simplement dues à des taxes plus faibles dans cet état.\n",
    "<!-- #endregion -->\n",
    "\n",
    "<!-- #region id=\"266950f4\" -->\n",
    "# <a id=comparaison-des-profits-réels-et-prédits>Comparaison des profits réels et prédits</a>\n",
    "<!-- #endregion -->\n",
    "\n"
   ]
  },
  {
   "cell_type": "code",
   "execution_count": null,
   "id": "a663328f",
   "metadata": {},
   "outputs": [],
   "source": [
    "# Conversion en k$\n",
    "y_test = y_test / 1000\n",
    "y_pred = y_pred / 1000\n",
    "\n",
    "fig = plt.figure(figsize=(8, 6))\n",
    "plt.plot(y_test, y_pred, \"o\")\n",
    "plt.plot(y_test, y_test, \"-r\", label=\"Prédiction parfaite\")\n",
    "plt.title(\"Modèle utilisant l'information géographique\", fontsize=16)\n",
    "plt.xlabel(\"Profit réel (k$)\", fontsize=16)\n",
    "plt.ylabel(\"Profit prédit (k$)\", fontsize=16)\n",
    "plt.legend()\n",
    "fig.tight_layout()\n",
    "plt.show()\n"
   ]
  },
  {
   "cell_type": "markdown",
   "id": "14b27085",
   "metadata": {},
   "source": [
    "\n",
    "<!-- #region id=\"4f992627\" -->\n",
    "Les prédictions du second modèle sont aussi bonnes que pour le premier modèle, plus simple.\n",
    "<!-- #endregion -->\n",
    "\n",
    "<!-- #region id=\"d2ce007b\" -->\n",
    "# <a id=prédiction-dune-valeur-unique>Prédiction d'une valeur unique</a>\n",
    "<!-- #endregion -->\n",
    "\n",
    "<!-- #region id=\"68758757\" -->\n",
    "Jusqu'à maintenant, on a effectué des prédictions sur les ensembles d'entraînement et de test\n",
    "qui contenaient les données de plusieurs compagnies. Voici comment le faire pour une compagnie à la fois.\n",
    "\n",
    "Quel serait le profit d'une compagnie californienne ayant investi $50 \\text{k}~\\$$ en R et D, $\\text{200} \\text{k}~\\$$ en marketing\n",
    "et $\\text{150} \\text{k}~\\$$ en administration?\n",
    "<!-- #endregion -->\n",
    "\n"
   ]
  },
  {
   "cell_type": "code",
   "execution_count": null,
   "id": "6d92d970",
   "metadata": {},
   "outputs": [],
   "source": [
    "X0 = pd.DataFrame(\n",
    "    {\n",
    "        \"R&D Spend\": 50000,\n",
    "        \"Administration\": 150000,\n",
    "        \"Marketing Spend\": 20000,\n",
    "        \"Florida\": 0,\n",
    "        \"New York\": 0,\n",
    "    },\n",
    "    index=[0],\n",
    ")\n",
    "\n",
    "# Normalisation des données\n",
    "X0_n = norm.transform(X0)\n",
    "\n",
    "# Prédiction du profit\n",
    "y0 = reg.predict(X0_n)\n",
    "\n",
    "print(\"\\t Profits = %0.1f k$\" % (y0 / 1000))\n"
   ]
  }
 ],
 "metadata": {},
 "nbformat": 4,
 "nbformat_minor": 5
}
