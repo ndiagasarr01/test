{
 "cells": [
  {
   "cell_type": "markdown",
   "id": "38bf4360",
   "metadata": {},
   "source": [
    "---\n",
    "jupyter:\n",
    "  jupytext:\n",
    "    text_representation:\n",
    "      extension: .md\n",
    "      format_name: markdown\n",
    "      format_version: '1.3'\n",
    "      jupytext_version: 1.16.0\n",
    "  kernelspec:\n",
    "    display_name: Python 3 (ipykernel)\n",
    "    language: python\n",
    "    name: python3\n",
    "---\n",
    "\n",
    "<!-- #region id=\"6e93f194\" -->\n",
    "# Table des matières\n",
    "1. [Préparation des données](#préparation-des-données)\n",
    "1. [Entraînement d'un régresseur par forêt aléatoire](#entraînement-dun-régresseur-par-forêt-aléatoire)\n",
    "1. [Sélection du type de régresseur](#sélection-du-type-de-régresseur)\n",
    "1. [Affichage des résultats](#affichage-des-résultats)\n",
    "1. [Identification des variables les plus importantes déterminant le prix d'une maison](#identification-des-variables-les-plus-importantes-déterminant-le-prix-dune-maison)\n",
    "1. [Affichage du diagramme d'importance des variables du jeu de données](#affichage-du-diagramme-dimportance-des-variables-du-jeu-de-données)\n",
    "1. [Comment varie le prix des maisons en fonction des deux variables les plus importantes?](#comment-varie-le-prix-des-maisons-en-fonction-des-deux-variables-les-plus-importantes)\n",
    "1. [Sélection des variables d'intérêt](#sélection-des-variables-dintérêt)\n",
    "1. [Affichage de l'effet de chaque variable sur le prix des maisons](#affichage-de-leffet-de-chaque-variable-sur-le-prix-des-maisons)\n",
    "\n",
    "# Attention!\n",
    "Ne lancez pas l'exécution automatique du notebook en entier en cliquant sur le bouton **Tout exécuter**. L'exécution serait interrompue, car certaines cellules exigent une entrée de votre part!\n",
    "\n",
    "Il faut simplement exécuter le notebook, une cellule à la fois, et entrer quelques lignes de code lorsque demandées. Il est inutile de sauter ces cellules pour aller aux suivantes car celles-ci ont justement besoin de votre input!\n",
    "\n",
    "Importons d'abord les librairies nécessaires.\n",
    "<!-- #endregion -->\n",
    "\n"
   ]
  },
  {
   "cell_type": "code",
   "execution_count": null,
   "id": "4adf8b34",
   "metadata": {},
   "outputs": [],
   "source": [
    "%matplotlib inline\n",
    "\n",
    "import matplotlib.pyplot as plt\n",
    "import numpy as np\n",
    "import pandas as pd\n",
    "import seaborn as sns\n",
    "import sklearn\n",
    "from sklearn import preprocessing\n",
    "from sklearn.ensemble import RandomForestRegressor\n",
    "from sklearn.metrics import r2_score\n",
    "from sklearn.model_selection import train_test_split\n",
    "from sklearn.preprocessing import StandardScaler\n",
    "\n",
    "sns.set(color_codes=True)\n",
    "\n",
    "\n",
    "seed = 42\n",
    "np.random.seed(seed)\n"
   ]
  },
  {
   "cell_type": "markdown",
   "id": "bcd5dfa1",
   "metadata": {},
   "source": [
    "\n",
    "<!-- #region id=\"f2ea64bc\" -->\n",
    "Dans cet exemple, nous allons appliquer la régression par forêt aléatoire afin de prédire le prix, dans\n",
    "les années 70, des maisons dans la région de Boston au Massachusetts (États-Unis).\n",
    "\n",
    "Le  jeu de données contient 13 variables. Les données sont toutes numériques. Voici la liste des facteurs mesurés. Le but est de déterminer comment varie le prix des maisons en fonction de ces facteurs:\n",
    "\n",
    "- `CRIM`:  taux de criminalité.\n",
    "- `ZN`:  proportion de terrain résidentiel zoné pour les lots de plus de 25 000 pi2.\n",
    "- `INDUS`:  proportion d'acres commerciales non commerciales par ville.\n",
    "- `CHAS`:  indicateur de proximité avec la Charles River (= 1 si près la rivière ; 0 sinon).\n",
    "- `NOX`:  concentration d'oxydes nitriques (parties par 10 millions).\n",
    "- `RM`:  nombre moyen de pièces par logement.\n",
    "- `AGE`:  proportion d'unités construites avant 1940 occupées par leur propriétaire.\n",
    "- `DIS`:  distances pondérées à cinq centres d'emploi de Boston.\n",
    "- `RAD`:  indice d'accessibilité aux autoroutes radiales.\n",
    "- `TAX`:  taux d'impôt foncier sur la valeur totale par tranche de ~\\$10 000.\n",
    "- `PTRATIO`:  ratio élèves enseignants par ville.\n",
    "- `B`:  $1000(Bk - 0.63)^2$ où $Bk$ est la proportion de personnes d'ascendance afro-américaine.\n",
    "- `LSTAT`:  pourcentage des classes défavorisées dans la population.\n",
    "- `MEDV`:  valeur médiane des logements occupés par leur propriétaire en k~\\$. \n",
    "\n",
    "> À noter que ces variables ont été collectées dans les années 1970. Une variable telle que « B » serait aujourd'hui considérée comme discriminatoire et ne serait plus collectée.\n",
    "<!-- #endregion -->\n",
    "\n",
    "<!-- #region id=\"72520c76\" -->\n",
    "C'est un excellent exemple de régression basée sur des données hétéroclites qui varient de façon discontinue.\n",
    "\n",
    "Comme on l'a vu dans les précédentes sections, la régression sert à prédire une réponse $y$, qui est\n",
    "une variable numérique continue, en fonction de plusieurs facteurs/variables $x_{i}$. Soit l'équation suivante\n",
    "\n",
    "$$y=f(x_{1}, \\cdots, x_{N}, \\Theta)$$\n",
    "\n",
    "où $\\Theta$ représente l'ensemble des paramètres de la fonction $f$. Dans plusieurs domaines, comme en physique, on peut\n",
    "dériver analytiquement une telle formule basée sur les lois de la nature. Dans les sciences de la vie et les sciences\n",
    "sociales, c'est généralement impossible dû au grand nombre de phénomènes impliqués lors de la prise de données. La\n",
    "modélisation par forêt aléatoire permet de se libérer de cette contrainte irréaliste en modélisation analytique. De\n",
    "par sa nature, la forêt aléatoire permet d'explorer naturellement un très grand nombre d'interactions entre les\n",
    "différentes variables sans avoir à les spécifier explicitement dans un modèle mathématique. C'est une des\n",
    "multiples raisons pour lesquelles elles performent souvent mieux que d'autres méthodes non linéaires.\n",
    "<!-- #endregion -->\n",
    "\n",
    "<!-- #region id=\"ac779785\" -->\n",
    "# <a id=préparation-des-données>Préparation des données</a>\n",
    "<!-- #endregion -->\n",
    "\n",
    "<!-- #region id=\"b0307464\" -->\n",
    "Nous allons débuter par lire les données, pour cela nous utilisons Pandas qui permet de télécharger automatiquement un jeu de données via un lien URL. Par la suite, nous séparons les étiquettes des données (`y`).\n",
    "<!-- #endregion -->\n",
    "\n"
   ]
  },
  {
   "cell_type": "code",
   "execution_count": null,
   "id": "edd2c2bd",
   "metadata": {},
   "outputs": [],
   "source": [
    "data_url = \"http://lib.stat.cmu.edu/datasets/boston\"\n",
    "raw_df = pd.read_csv(data_url, sep=\"\\s+\", skiprows=22, header=None)\n",
    "data = np.hstack([raw_df.values[::2, :], raw_df.values[1::2, :2]])\n",
    "y = raw_df.values[1::2, 2]\n"
   ]
  },
  {
   "cell_type": "markdown",
   "id": "52327219",
   "metadata": {},
   "source": [
    "\n",
    "<!-- #region id=\"8205cb8e\" -->\n",
    "Par la suite, nous sélectionnons les attributs pouvant servir pour la tâche de régression.\n",
    "<!-- #endregion -->\n",
    "\n"
   ]
  },
  {
   "cell_type": "code",
   "execution_count": null,
   "id": "39240938",
   "metadata": {},
   "outputs": [],
   "source": [
    "X = pd.DataFrame(\n",
    "    data,\n",
    "    columns=[\n",
    "        \"CRIM\",\n",
    "        \"ZN\",\n",
    "        \"INDUS\",\n",
    "        \"CHAS\",\n",
    "        \"NOX\",\n",
    "        \"RM\",\n",
    "        \"AGE\",\n",
    "        \"DIS\",\n",
    "        \"RAD\",\n",
    "        \"TAX\",\n",
    "        \"PTRATIO\",\n",
    "        \"B\",\n",
    "        \"LSTAT\",\n",
    "    ],\n",
    ")\n",
    "\n",
    "# Liste des facteurs utilisés\n",
    "feature_list = list(X.columns)\n"
   ]
  },
  {
   "cell_type": "markdown",
   "id": "7f16abdf",
   "metadata": {},
   "source": [
    "\n",
    "<!-- #region id=\"f3c9e153\" -->\n",
    "Nous visualisons ensuite la distribution des prix des maisons.\n",
    "<!-- #endregion -->\n",
    "\n"
   ]
  },
  {
   "cell_type": "code",
   "execution_count": null,
   "id": "451ccf06",
   "metadata": {},
   "outputs": [],
   "source": [
    "plt.figure(figsize=(5, 4))\n",
    "plt.hist(y, 20)\n",
    "plt.title(\"Histogramme du prix des maisons\")\n",
    "plt.xlabel(\"price (k$)\")\n",
    "plt.ylabel(\"N\")\n",
    "plt.show()\n"
   ]
  },
  {
   "cell_type": "markdown",
   "id": "83c87d3f",
   "metadata": {},
   "source": [
    "\n",
    "<!-- #region id=\"df7a36bc\" -->\n",
    "C'est la quantité que l'on désire prédire en fonction des variables $x_{i}$ précédents. Le prix maximum des\n",
    "maisons est de $50\\ 000~\\$$.\n",
    "<!-- #endregion -->\n",
    "\n",
    "<!-- #region id=\"822e9f01\" -->\n",
    "Visualisons maintenant nos variables à l'aide de la méthode `.head()` de Pandas.\n",
    "<!-- #endregion -->\n",
    "\n"
   ]
  },
  {
   "cell_type": "code",
   "execution_count": null,
   "id": "fb282959",
   "metadata": {},
   "outputs": [],
   "source": [
    "X.head()\n"
   ]
  },
  {
   "cell_type": "markdown",
   "id": "54aa2ead",
   "metadata": {},
   "source": [
    "\n",
    "<!-- #region id=\"618d5126\" -->\n",
    "On voit que les valeurs couvrent différents ordres de grandeur. Il faudra les normaliser pour cette raison. Il faut toutefois mentionner que les arbres décisionnels et les forêts aléatoires ne sont pas affectés par la normalisation. Néanmoins, c'est une bonne habitude de normaliser ses données; autant commencer à prendre cette habitude maintenant!\n",
    "\n",
    "Débutons donc par séparer nos données en deux ensembles de données selon un ratio $80~\\%$ pour l'entraînement et $20~\\%$ pour le test.\n",
    "\n",
    "Les données d'entraînement vont servir à entraînement le modèle de régression. C'est-à-dire, à estimer la valeur du seuil $\\tau$ de chaque noeud, dans chaque arbre décisionnel de la forêt. Les données de test vont ensuite servir à mesurer les performances du modèle entraîné à prédire correctement le prix des maisons.\n",
    "\n",
    "Remplissez les `# À remplir` dans la prochaine cellule.\n",
    "<!-- #endregion -->\n",
    "\n"
   ]
  },
  {
   "cell_type": "code",
   "execution_count": null,
   "id": "6aa99a1c",
   "metadata": {},
   "outputs": [],
   "source": [
    "X_train, X_test, y_train, y_test = train_test_split(\n",
    "    # À remplir\n",
    "    # À remplir\n",
    "    # À remplir\n",
    "    random_state=seed\n",
    ")\n"
   ]
  },
  {
   "cell_type": "markdown",
   "id": "035d9529",
   "metadata": {},
   "source": [
    "\n",
    "<!-- #region id=\"e2fe1a4c\" -->\n",
    "Par la suite, nous allons normaliser nos données. Remplissez les `# À remplir` pour effectuer une normalisation centrée réduite avec Scikit-learn.\n",
    "<!-- #endregion -->\n",
    "\n"
   ]
  },
  {
   "cell_type": "code",
   "execution_count": null,
   "id": "d6f9d812",
   "metadata": {},
   "outputs": [],
   "source": [
    "scaler = # À remplir\n",
    "X_train_s = # À remplir\n",
    "X_test_s = # À remplir\n"
   ]
  },
  {
   "cell_type": "markdown",
   "id": "d787794f",
   "metadata": {},
   "source": [
    "\n",
    "<!-- #region id=\"eba93605\" -->\n",
    "# <a id=entraînement-dun-régresseur-par-forêt-aléatoire>Entraînement d'un régresseur par forêt aléatoire</a>\n",
    "<!-- #endregion -->\n",
    "\n",
    "<!-- #region id=\"2eb96959\" -->\n",
    "## <a id=sélection-du-type-de-régresseur>Sélection du type de régresseur</a>\n",
    "<!-- #endregion -->\n",
    "\n",
    "<!-- #region id=\"77febcf6\" -->\n",
    "Définissons maintenant notre régresseur en utilisant la classe [`RandomForestRegressor`](https://scikit-learn.org/stable/modules/generated/sklearn.ensemble.RandomForestRegressor.html) de Scikit-learn.\n",
    "Remplissez le `# À remplir` en utilisant les valeurs de paramètres suivants en utilisant la documentation pour trouver les bons arguments:\n",
    "\n",
    "- une forêt aléatoire de `100` estimateurs (*estimators*),\n",
    "- une profondeur des arbres maximales de `6`, et\n",
    "- un nombre minimal d'exemples (*samples*) de `3` pour diviser une feuille (*internal node*).\n",
    "<!-- #endregion -->\n",
    "\n"
   ]
  },
  {
   "cell_type": "code",
   "execution_count": null,
   "id": "383fb414",
   "metadata": {},
   "outputs": [],
   "source": [
    "reg = # À remplir\n"
   ]
  },
  {
   "cell_type": "markdown",
   "id": "6cb83af9",
   "metadata": {},
   "source": [
    "\n",
    "<!-- #region id=\"eba93605\" -->\n",
    "Maintenant, entraînez le régresseur et effectuez les prédictions sur les données d'entraînement et de test.\n",
    "<!-- #endregion -->\n",
    "\n"
   ]
  },
  {
   "cell_type": "code",
   "execution_count": null,
   "id": "848c4c84",
   "metadata": {},
   "outputs": [],
   "source": [
    "# À remplir\n",
    "y_train_pred = # À remplir\n",
    "y_test_pred = # À remplir\n"
   ]
  },
  {
   "cell_type": "markdown",
   "id": "cb8f7f07",
   "metadata": {},
   "source": [
    "\n",
    "<!-- #region id=\"e9d9263a\" -->\n",
    "# <a id=affichage-des-résultats>Affichage des résultats</a>\n",
    "<!-- #endregion -->\n",
    "\n",
    "<!-- #region id=\"5bccd345\" -->\n",
    "Calculez maintenant les scores $R^2$ sur l'entraînement et le test.\n",
    "<!-- #endregion -->\n",
    "\n"
   ]
  },
  {
   "cell_type": "code",
   "execution_count": null,
   "id": "d87d60ae",
   "metadata": {},
   "outputs": [],
   "source": [
    "score = # À remplir\n",
    "print('Valeur de R2 en entraînement:', round(100 * score, 1), '%')\n",
    "\n",
    "score = # À remplir\n",
    "print('Valeur de R2 en test:', round(100 * score, 1), '%')\n"
   ]
  },
  {
   "cell_type": "markdown",
   "id": "a7dd16d5",
   "metadata": {},
   "source": [
    "\n",
    "<!-- #region id=\"97c90eef\" -->\n",
    "La valeur du $R^2$ correspond à la fraction de la variance des données qui est expliquée par le modèle utilisé.\n",
    "\n",
    "Le modèle explique environ $95~\\%$ de la variabilité des données en entraînement et $87~\\%$ de celles en test.\n",
    "<!-- #endregion -->\n",
    "\n",
    "<!-- #region id=\"b0df6bba\" -->\n",
    "Nous allons maintenant afficher des valeurs prédites et réelles des maisons pour l'ensemble de test.\n",
    "<!-- #endregion -->\n",
    "\n"
   ]
  },
  {
   "cell_type": "code",
   "execution_count": null,
   "id": "2cadd165",
   "metadata": {},
   "outputs": [],
   "source": [
    "fig = plt.figure(figsize=(8, 6))\n",
    "plt.plot(y_test, y_test_pred, 'o')\n",
    "plt.plot(y_test, y_test, '-r', label='Prédiction parfaite')\n",
    "\n",
    "plt.xlabel('Prix réels (k$)', fontsize=16)\n",
    "plt.ylabel('Prix prédits (k$)', fontsize=16)\n",
    "plt.legend()\n",
    "fig.tight_layout()\n",
    "plt.show()\n"
   ]
  },
  {
   "cell_type": "markdown",
   "id": "62ece42a",
   "metadata": {},
   "source": [
    "\n",
    "<!-- #region id=\"8c1592f9\" -->\n",
    "La droite rouge correspond à une prédiction parfaite. Mises à part quelques données\n",
    "aberrantes (*outliers*), il y a une bonne adéquation entre les résultats réels et prédits.\n",
    "<!-- #endregion -->\n",
    "\n",
    "<!-- #region id=\"d844b56c\" -->\n",
    "# <a id=identification-des-variables-les-plus-importantes-déterminant-le-prix-dune-maison>Identification des variables les plus importantes déterminant le prix d'une maison</a>\n",
    "<!-- #endregion -->\n",
    "\n",
    "<!-- #region id=\"c19b36a9\" -->\n",
    "<p>&nbsp;</p>\n",
    "<div align=\"center\">\n",
    "    <img src= \"../images/inspector-with-magnifying-glass.jpeg\"  width=\"200\" />\n",
    "    <div>\n",
    "    <font size=\"0.5\">Image Source: http://clipart-library.com/clipart/1416328.htm</font>\n",
    "    </div>\n",
    "</div>\n",
    "<!-- #endregion -->\n",
    "\n",
    "<!-- #region id=\"8f7b5f5e\" -->\n",
    "Il est utile de faire de bonnes prédictions, mais il est aussi intéressant de savoir quelles sont les variables qui affectent le plus le prix des maisons. Les courtiers immobiliers aiment prédire le prix d'une maison qu'ils ont à vendre. Les sociologues, eux, sont curieux de savoir comment les différentes variables socio-économiques affectent l'immobilier, et donc les conditions de vie, dans les différents quartiers d'une ville.\n",
    "\n",
    "Les variables $x_{i}$ les plus importantes sont les plus utilisées pour prendre\n",
    "des décisions à travers les arbres décisionnels constituant la forêt.\n",
    "\n",
    "Le régresseur utilisé, `RandomForestRegressor`, permet de calculer l'importance de chaque variable. Celle-ci prend\n",
    "une valeur entre 0 et 1, où 0 indique qu'elle n'est jamais utilisée et où 1 indique qu'elle est la seule utilisée\n",
    "parmi toutes. Dans ce dernier cas, la variable permet de prédire parfaitement la réponse.\n",
    "La somme des importances sur l'ensemble des variables vaut 1.\n",
    "<!-- #endregion -->\n",
    "\n"
   ]
  },
  {
   "cell_type": "code",
   "execution_count": null,
   "id": "6e919b6c",
   "metadata": {},
   "outputs": [],
   "source": [
    "# Importance de chaque variable\n",
    "importances = list(reg.feature_importances_)\n",
    "\n",
    "# Associe le nom de chaque variable avec son importance\n",
    "feature_importances = [\n",
    "    (feature, round(importance, 2))\n",
    "    for feature, importance in zip(feature_list, importances)\n",
    "]\n",
    "\n",
    "# Ordonne les valeurs d'importance en ordre décroissant\n",
    "feature_importances = sorted(feature_importances, key=lambda x: x[1], reverse=True)\n"
   ]
  },
  {
   "cell_type": "markdown",
   "id": "59fb5cdd",
   "metadata": {},
   "source": [
    "\n",
    "<!-- #region id=\"1d44429a\" -->\n",
    "## <a id=affichage-du-diagramme-dimportance-des-variables-du-jeu-de-données>Affichage du diagramme d'importance des variables du jeu de données</a>\n",
    "<!-- #endregion -->\n",
    "\n",
    "<!-- #region id=\"a2120376\" -->\n",
    "On veut déterminer lesquelles sont les plus importantes et combien il y en a.\n",
    "<!-- #endregion -->\n",
    "\n"
   ]
  },
  {
   "cell_type": "code",
   "execution_count": null,
   "id": "268a2441",
   "metadata": {},
   "outputs": [],
   "source": [
    "indices = np.argsort(importances)[::-1]\n",
    "\n",
    "plt.style.use('fivethirtyeight')\n",
    "\n",
    "var = list(range(len(importances)))\n",
    "plt.bar(var, np.array(importances)[indices.astype(int)], orientation='vertical')\n",
    "plt.xticks(var, np.array(feature_list)[indices.astype(int)], rotation='vertical')\n",
    "plt.ylabel('Importance', fontsize=16)\n",
    "plt.xlabel('Variable', fontsize=16)\n",
    "plt.title('Importance des variables', fontsize=16)\n"
   ]
  },
  {
   "cell_type": "markdown",
   "id": "c0279129",
   "metadata": {},
   "source": [
    "\n",
    "<!-- #region id=\"f289b88c\" -->\n",
    "On voit que les variables RM (le nombre moyen de pièces par logement) et LSTAT (le pourcentage des classes défavorisées dans la population) sont de loin les plus importantes. Elles contribuent à $83~\\%$ de l'importance totale; elles sont utilisées dans $83~\\%$ des décisions des arbres de la forêt.\n",
    "<!-- #endregion -->\n",
    "\n",
    "<!-- #region id=\"66382c4d\" -->\n",
    "## <a id=comment-varie-le-prix-des-maisons-en-fonction-des-deux-variables-les-plus-importantes>Comment varie le prix des maisons en fonction des deux variables les plus importantes?</a>\n",
    "<!-- #endregion -->\n",
    "\n",
    "<!-- #region id=\"2307104b\" -->\n",
    "C'est bien de savoir quelles variables sont les plus déterminantes, c'est encore mieux de savoir comment chacune influence le prix des maisons. C'est ce que nous allons voir avec les deux variables principales.\n",
    "<!-- #endregion -->\n",
    "\n",
    "<!-- #region id=\"3292a1ce\" -->\n",
    "### <a id=sélection-des-variables-dintérêt>Sélection des variables d'intérêt</a>\n",
    "<!-- #endregion -->\n",
    "\n"
   ]
  },
  {
   "cell_type": "code",
   "execution_count": null,
   "id": "f8e344e3",
   "metadata": {},
   "outputs": [],
   "source": [
    "var_int = ['RM', 'LSTAT']\n",
    "x = X.loc[:, var_int]\n",
    "x = pd.DataFrame(data=x, columns=var_int)\n"
   ]
  },
  {
   "cell_type": "markdown",
   "id": "0f873448",
   "metadata": {},
   "source": [
    "\n",
    "<!-- #region id=\"d6a5ccea\" -->\n",
    "### <a id=affichage-de-leffet-de-chaque-variable-sur-le-prix-des-maisons>Affichage de l'effet de chaque variable sur le prix des maisons</a>\n",
    "<!-- #endregion -->\n",
    "\n",
    "<!-- #region id=\"ac6e62ac\" -->\n",
    "Dans chaque panneau, la droite des moindres carrés est affichée ainsi que l'intervalle de confiance à $95~\\%$.\n",
    "<!-- #endregion -->\n",
    "\n"
   ]
  },
  {
   "cell_type": "code",
   "execution_count": null,
   "id": "dc158b47",
   "metadata": {},
   "outputs": [],
   "source": [
    "fig, axs = plt.subplots(ncols=2, nrows=1, figsize=(10, 5))\n",
    "index = 0\n",
    "axs = axs.flatten()\n",
    "for i, k in enumerate(var_int):\n",
    "    u = pd.Series(x[k], name=\"x_var\")\n",
    "    v = pd.Series(y, name=\"Prix des maisons (k$)\")\n",
    "    sns.regplot(y=v, x=x[k], ax=axs[i])\n",
    "plt.tight_layout(pad=0.4, w_pad=0.5, h_pad=5.0)\n"
   ]
  },
  {
   "cell_type": "markdown",
   "id": "fe0d3a71",
   "metadata": {},
   "source": [
    "\n",
    "<!-- #region id=\"6a003dc0\" -->\n",
    "On voit que le prix d'une maison augmente avec le nombre de chambres (RM) et diminue avec le\n",
    "le pourcentage des classes défavorisées dans la population (LSAT). Une conclusion similaire\n",
    "pourrait être tirée de bases de données contemporaines pour un très grand nombre de villes dans le monde.\n",
    "<!-- #endregion -->\n",
    "\n",
    "<!-- #region id=\"65bc2627\" -->\n",
    "Quelles seraient l'effet des performances (la valeur du $R^2$) si la forêt aléatoire n'utilisait que\n",
    "les deux variables les plus importantes, soit `RM` et `LSAT`? \n",
    "<!-- #endregion -->\n",
    "\n",
    "<!-- #region id=\"4a2875f3\" -->\n",
    "Testez cet effet en effectuant l'entraînement de votre redresseur à nouveau, mais en utilisant cette fois uniquement les variables `RM` et `LSAT` et en utilisant le régresseur ayant les caractéristiques suivantes:\n",
    "\n",
    "- une forêt aléatoire de `100` estimateurs (*estimators*),\n",
    "- une profondeur des arbres maximales de `4`, et\n",
    "- un nombre minimal d'exemples (*samples*) de `5` pour diviser une feuille (*internal node*).\n",
    "<!-- #endregion -->\n",
    "\n"
   ]
  },
  {
   "cell_type": "code",
   "execution_count": null,
   "id": "c426a939",
   "metadata": {},
   "outputs": [],
   "source": [
    "# 1. Extraire les deux variables seulement des données\n",
    "# 2. Refaire la séparation des données\n",
    "# 3. Normalisation\n",
    "# 4. Entraînement du régresseur\n",
    "# 5. Prédiction et évaluation\n"
   ]
  },
  {
   "cell_type": "markdown",
   "id": "8033a9d7",
   "metadata": {},
   "source": [
    "\n",
    "<!-- #region id=\"dd080c7f\" -->\n",
    "Affichez à nouveau les valeurs prédites et réelles du prix des maisons pour l'ensemble de test. En quoi la figure\n",
    "est-elle différente de la version précédente?\n",
    "<!-- #endregion -->\n",
    "\n"
   ]
  },
  {
   "cell_type": "code",
   "execution_count": null,
   "id": "2cfe5d19",
   "metadata": {},
   "outputs": [],
   "source": [
    "\n"
   ]
  }
 ],
 "metadata": {},
 "nbformat": 4,
 "nbformat_minor": 5
}
