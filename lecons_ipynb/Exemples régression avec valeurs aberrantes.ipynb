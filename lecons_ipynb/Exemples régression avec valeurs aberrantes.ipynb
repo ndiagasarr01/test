{
 "cells": [
  {
   "cell_type": "markdown",
   "id": "8179ebd0",
   "metadata": {},
   "source": [
    "---\n",
    "jupyter:\n",
    "  jupytext:\n",
    "    text_representation:\n",
    "      extension: .md\n",
    "      format_name: markdown\n",
    "      format_version: '1.3'\n",
    "      jupytext_version: 1.16.0\n",
    "  kernelspec:\n",
    "    display_name: Python 3\n",
    "    language: python\n",
    "    name: python3\n",
    "---\n",
    "\n",
    "<!-- #region id=\"d0838da2\" -->\n",
    "# Table des matières\n",
    "- [Exemples de régressions avec données aberrantes](#exemples-de-régressions-avec-données-aberrantes)\n",
    "  - [Que sont les valeurs aberrantes?](#que-sont-les-valeurs-aberrantes)\n",
    "  - [Initialisations](#initialisations)\n",
    "  - [Exemple I: recalage linéaire avec donnée aberrante](#exemple-i-recalage-linéaire-avec-donnée-aberrante)\n",
    "      - [Génération des données bruitées](#génération-des-données-bruitées)\n",
    "      - [Recalage linéaire des moindres carrés sans valeur aberrante](#recalage-linéaire-des-moindres-carrés-sans-valeur-aberrante)\n",
    "      - [Ajout d'une valeur aberrante à la position (9, 2)](#ajout-dune-valeur-aberrante-à-la-position-9-2)\n",
    "      - [Recalage linéaire des moindres carrés avec valeur aberrante](#recalage-linéaire-des-moindres-carrés-avec-valeur-aberrante)\n",
    "      - [Calcul des signaux vrais et recalés en utilisant les coefficients vrais et estimés](#calcul-des-signaux-vrais-et-recalés-en-utilisant-les-coefficients-vrais-et-estimés)\n",
    "      - [Affichage des résultats du recalage avec et sans la valeur aberrante](#affichage-des-résultats-du-recalage-avec-et-sans-la-valeur-aberrante)\n",
    "  - [Exemple II: recalage quadratique avec donnée aberrante](#exemple-ii-recalage-quadratique-avec-donnée-aberrante)\n",
    "      - [Génération des données bruitées](#génération-des-données-bruitées-1)\n",
    "      - [Recalage quadratique des moindres carrés sans valeur aberrante](#recalage-quadratique-des-moindres-carrés-sans-valeur-aberrante)\n",
    "      - [Ajout d'une valeur aberrante à la position (9, -1)](#ajout-dune-valeur-aberrante-à-la-position-9--1)\n",
    "      - [Recalage quadratique des moindres carrés avec valeur aberrante](#recalage-quadratique-des-moindres-carrés-avec-valeur-aberrante)\n",
    "      - [Calcul des signaux vrais et recalés en utilisant les coefficients vrais et estimés](#calcul-des-signaux-vrais-et-recalés-en-utilisant-les-coefficients-vrais-et-estimés-1)\n",
    "      - [Affichage des résultats du recalage avec et sans la valeur aberrante](#affichage-des-résultats-du-recalage-avec-et-sans-la-valeur-aberrante-1)\n",
    "      - [En résumé](#en-résumé)\n",
    "  - [Exercice](#exercice)\n",
    "<!-- #endregion -->\n",
    "\n",
    "<!-- #region id=\"7cc01bb5\" -->\n",
    "---\n",
    "# Exemples de régressions avec données aberrantes\n",
    "---\n",
    "<!-- #endregion -->\n",
    "\n",
    "<!-- #region id=\"56e9763d\" -->\n",
    "<div align=\"center\">\n",
    "    <img src= \"../images/professor-in-green.jpeg\"  width=\"300\" />\n",
    "    <div>\n",
    "    <font size=\"0.5\">Image Source: https://freesvg.org/professor-in-green-suit/</font>\n",
    "    </div>\n",
    "</div>\n",
    "<!-- #endregion -->\n",
    "\n",
    "<!-- #region id=\"ea28f1cf\" -->\n",
    "Dans ce module, on montre l'effet des valeurs aberrantes (*outliers*) sur les performances\n",
    "de régressions basées sur la **méthode des moindres carrés**.\n",
    "\n",
    "On applique les principes de la régression 1-D à des modèles linéaires dans les coefficients, où la réponse y\n",
    "est une fonction de la variable x et des coefficients $\\Theta$\n",
    "\n",
    "$$y=f(x, \\Theta)$$\n",
    "\n",
    "Supposons que l'on ait un jeu de données $(x^{(i)},y^{(i)},\\sigma^{(i)})$ où les $\\sigma^{(i)}$ sont les erreurs de mesures associées aux $y^{(i)}$. L'indice $i$ représente le numéro d'une donnée tel que $1\\le i \\le n$, où $n$ est le nombre de données. Dans la majorité des cas, les erreurs de mesures sont similaires et on peut les ignorer dans l'analyse.\n",
    "\n",
    "Selon la méthode des moindres carrés, on peut estimer les valeurs des coefficients $\\Theta$ en minimisant la fonction suivante\n",
    "\n",
    "$$S(\\Theta) = \\sum\\limits_{i=1}^{n}(y^{(i)}-f(x^{(i)},\\Theta))^{2}$$\n",
    "\n",
    "Comme on l'a vu dans un module précédent, son minimum se calcule par différenciation : $\\nabla S(\\Theta) = 0$. La solution de cette équation différentielle constitue l'ensemble des coefficients $\\Theta$ recherchés.\n",
    "\n",
    "La fonction [Polynomial.fit](https://numpy.org/doc/stable/reference/generated/numpy.polynomial.polynomial.Polynomial.fit.html#numpy.polynomial.polynomial.Polynomial.fit) de la librairie Numpy calcule pour nous les coefficients $\\Theta$ pour des polynômes de degrés arbitraires. Nous allons l'utiliser dans ce module.\n",
    "\n",
    "Nous allons découvrir à quel point les valeurs aberrantes sont le talon d'Achille de l'approche par les moindres carrés. Les principes expliqués dans ce module se généralisent en plusieurs dimensions,\n",
    "il est donc intéressant de les présenter dans la situation la plus simple.\n",
    "\n",
    "<!-- #endregion -->\n",
    "\n",
    "<!-- #region id=\"5fadba4e\" -->\n",
    "## Que sont les valeurs aberrantes?\n",
    "<!-- #endregion -->\n",
    "\n",
    "<!-- #region id=\"f85add68\" -->\n",
    "<div align=\"center\">\n",
    "    <img src= \"../images/men-in-black-orange.png\"  width=\"300\" />\n",
    "    <div>\n",
    "    <font size=\"0.5\">Image Source: https://freesvg.org/radacina-men-in-black-orange/</font>\n",
    "    </div>\n",
    "</div>\n",
    "<!-- #endregion -->\n",
    "\n",
    "<!-- #region id=\"cf91cfe6\" -->\n",
    "Comme leur nom l'indique, les valeurs aberrantes ont une distribution qui se démarque de l'ensemble des\n",
    "données que l'on veut analyser. En fait, l'observation des données est une étape essentielle à\n",
    "l'analyse exploratoire des données (*exporatory data analysis*). Il ne faut pas s'en tenir à des\n",
    "mesures statistiques de la distribution des données; il faut aussi regarder celles-ci. C'est une erreur courante.\n",
    "\n",
    "Il arrive régulièrement que l'on utilise des bases de données avec des valeurs manquantes; elles sont généralement\n",
    "identifiées par des NaN (*not a number*) ou simplement remplacées par des zéros. Le dernier cas est\n",
    "plus problématique si les données sont utilisées telles quelles dans l'analyse. Elles deviennent alors\n",
    "des valeurs aberrantes, par rapport aux autres du même jeu de données. C'est une des raisons pour lesquelles\n",
    "le prétraitement des données est une étape essentielle dans la préparation des données. On en discute dans\n",
    "un des modules portant sur le sujet.\n",
    "\n",
    "Les valeurs aberrantes proviennent de plusieurs sources dont en voici quelques unes:\n",
    "\n",
    "\n",
    "- erreurs de lecture lors de la prise de données,\n",
    "- valeurs mal entrées lors de l'enregistrement des données,\n",
    "- valeurs utilisant des échelles différentes (mm, cm, m, km),\n",
    "- mesures perturbées par un bruit instrumental important,\n",
    "- valeurs non attendues, mais bien réelles (découvertes potentielles!)\n",
    "\n",
    "\n",
    "La figure suivante montre un exemple typique de valeur aberrante, en rouge, superposée à une\n",
    "courbe de décroissance exponentielle en fonction du temps.\n",
    "<!-- #endregion -->\n",
    "\n",
    "<!-- #region id=\"e66ee85a\" -->\n",
    "<p>&nbsp;</p>\n",
    "<div align=\"center\">\n",
    "    <img src= \"../images/regression-outlier.png\"  width=\"350\" />\n",
    "    <div>\n",
    "    <font size=\"0.5\">Image Source: https://www.graphpad.com/guides/prism/8/curve-fitting/reg_graphing_outliers.htm</font>\n",
    "    </div>\n",
    "</div>\n",
    "<!-- #endregion -->\n",
    "\n",
    "<!-- #region id=\"36048a79\" -->\n",
    "Attention toutefois, les valeurs aberrantes ne sont pas toujours ce que l'on croit. Le panneau de gauche\n",
    "dans la figure suivante montre deux valeurs aberrantes en rouge. Le point rouge dans le panneau de droite n'est\n",
    "pas une valeur aberrante, mais plutôt un point de bascule (*leverage point*). Ce type de point,\n",
    "souvent valide, peut avoir un effet disproportionné sur le recalage des données, mais nous n'aborderons pas ce sujet.\n",
    "<!-- #endregion -->\n",
    "\n",
    "<!-- #region id=\"1df218cf\" -->\n",
    "<p>&nbsp;</p>\n",
    "<div align=\"center\">\n",
    "    <img src= \"../images/outliers-leverage-point.png\"  width=\"500\" />\n",
    "    <div>\n",
    "    <font size=\"0.5\">Image Source: https://marcellovictorino.github.io/post/Linear-Regression-Part2/</font>\n",
    "    </div>\n",
    "</div>\n",
    "<!-- #endregion -->\n",
    "\n",
    "<!-- #region id=\"d5bbde81\" -->\n",
    "Dans ce module, nous allons voir comment varient les résultats de régressions\n",
    "basées sur la **méthode des moindres carrés** lorsqu'on introduit une valeur aberrante. L'effet est d'autant plus\n",
    "prononcé que le nombre d'anomalies est grand.\n",
    "\n",
    "<!-- #endregion -->\n",
    "\n",
    "<!-- #region id=\"dee8d061\" -->\n",
    "## Initialisations\n",
    "<!-- #endregion -->\n",
    "\n"
   ]
  },
  {
   "cell_type": "code",
   "execution_count": null,
   "id": "6d48296d",
   "metadata": {},
   "outputs": [],
   "source": [
    "%matplotlib inline\n",
    "\n",
    "import numpy as np\n",
    "from numpy.polynomial.polynomial import polyfit, polyval\n",
    "import pandas as pd\n",
    "import matplotlib.pyplot as plt\n",
    "import seaborn as sns\n",
    "\n",
    "sns.set(color_codes=True)\n",
    "\n",
    "# Pour la reproductibilité des résultats\n",
    "seed = 42\n",
    "np.random.seed(seed)\n"
   ]
  },
  {
   "cell_type": "markdown",
   "id": "12939632",
   "metadata": {},
   "source": [
    "\n",
    "<!-- #region id=\"234bea14\" -->\n",
    "Définissons deux fonctions utiles pour les exemples qui suivent.\n",
    "La première fonction génère des données sous la forme d'un polynôme additionné de bruit.\n",
    "La seconde fonction affiche les résultats de régressions avec et sans valeur aberrante\n",
    "afin de comparer leurs performances.\n",
    "<!-- #endregion -->\n",
    "\n"
   ]
  },
  {
   "cell_type": "code",
   "execution_count": null,
   "id": "df559fa3",
   "metadata": {},
   "outputs": [],
   "source": [
    "def genere_donnees(coeffs, sigma, x_min, x_max, n):\n",
    "\n",
    "    # Génération de n positions x aléatoires\n",
    "    x = np.random.uniform(x_min, x_max, n)\n",
    "    x = np.sort(x)\n",
    "\n",
    "    # Génération d'un polynôme de coefficients donnés et ajout de\n",
    "    # bruit gaussien d'écart-type (ou niveau de bruit) sigma\n",
    "    y = np.polyval(coeffs, x) + np.random.normal(0.0, sigma, n)\n",
    "\n",
    "    return x, y\n",
    "\n",
    "\n",
    "def affiche_resultats():\n",
    "    fig, (ax1, ax2) = plt.subplots(1, 2, sharey=True, figsize=(12, 5))\n",
    "\n",
    "    # Cas sans valeur aberrante\n",
    "    ax1.plot(x, y_vrai, color='yellow', linewidth=2)\n",
    "    ax1.plot(x, y1_pred, color='red', linewidth=2)\n",
    "    ax1.plot(x1, y1, 'o', color='black', markersize=5)\n",
    "    ax1.set_ylabel('y', rotation=0, fontsize=18)\n",
    "    ax1.set_xlabel('x', fontsize=18)\n",
    "    ax1.set_title('Sans valeur aberrante', fontsize=18)\n",
    "    ax1.legend(['Vrai modèle', 'Modèle recalé'], loc='upper left')\n",
    "    ax1.set_facecolor('#BBBBFF')\n",
    "\n",
    "    # Cas avec valeur aberrante\n",
    "    ax2.plot(x, y_vrai, color='yellow', linewidth=2)\n",
    "    ax2.plot(x, y2_pred, color='red', linewidth=2)\n",
    "    ax2.plot(x2[:-1], y2[:-1], 'o', color='black', markersize=5)\n",
    "    ax2.plot(x2[-1], y2[-1], '*', color='green', markersize=10)\n",
    "    ax2.set_ylabel('y', rotation=0, fontsize=18)\n",
    "    ax2.set_xlabel('x', fontsize=18)\n",
    "    ax2.set_title('Avec valeur aberrante', fontsize=18)\n",
    "    ax2.legend(['Vrai modèle', 'Modèle recalé'], loc='upper left')\n",
    "    props = dict(boxstyle='round', facecolor='wheat', alpha=0.99)\n",
    "    ax2.set_facecolor('#BBBBFF')\n"
   ]
  },
  {
   "cell_type": "markdown",
   "id": "cd9622a2",
   "metadata": {},
   "source": [
    "\n",
    "<!-- #region id=\"4c2cb94d\" -->\n",
    "## Exemple I: recalage linéaire avec donnée aberrante\n",
    "\n",
    "Dans cet exemple, nous générons une droite et ajoutons du bruit aux données en y. Nous\n",
    "effectuons ensuite un recalage linéaire aux données $(x,y)$ et comparons avec la droite originale.\n",
    "\n",
    "Puis, nous ajoutons une valeur aberrante à l'ensemble de données original et refaisons\n",
    "l'analyse afin de voir l'effet de cette valeur sur la qualité des résultats.\n",
    "\n",
    "<!-- #endregion -->\n",
    "\n",
    "<!-- #region id=\"c7706e6a\" -->\n",
    "#### Génération des données bruitées\n",
    "<!-- #endregion -->\n",
    "\n"
   ]
  },
  {
   "cell_type": "code",
   "execution_count": null,
   "id": "afd98332",
   "metadata": {},
   "outputs": [],
   "source": [
    "# Coefficients de la droite\n",
    "coeffs = [1, 2]\n",
    "degre = len(coeffs) - 1\n",
    "\n",
    "# Génération des données\n",
    "npts = 20\n",
    "sigma = 1.0\n",
    "x_min = -2.5\n",
    "x_max = 10.0\n",
    "x1, y1 = genere_donnees(coeffs, sigma, x_min, x_max, npts)\n"
   ]
  },
  {
   "cell_type": "markdown",
   "id": "f04544c4",
   "metadata": {},
   "source": [
    "\n",
    "<!-- #region id=\"01a4eb44\" -->\n",
    "#### Recalage linéaire des moindres carrés sans valeur aberrante\n",
    "<!-- #endregion -->\n",
    "\n"
   ]
  },
  {
   "cell_type": "code",
   "execution_count": null,
   "id": "c08fe13a",
   "metadata": {},
   "outputs": [],
   "source": [
    "c1 = np.polyfit(x1, y1, degre)\n"
   ]
  },
  {
   "cell_type": "markdown",
   "id": "aece7a69",
   "metadata": {},
   "source": [
    "\n",
    "<!-- #region id=\"00b703d2\" -->\n",
    "#### Ajout d'une valeur aberrante à la position (9, 2)\n",
    "<!-- #endregion -->\n",
    "\n"
   ]
  },
  {
   "cell_type": "code",
   "execution_count": null,
   "id": "0d9e1e2a",
   "metadata": {},
   "outputs": [],
   "source": [
    "x2 = np.append(x1, [9], axis=0)\n",
    "y2 = np.append(y1, [2], axis=0)\n"
   ]
  },
  {
   "cell_type": "markdown",
   "id": "62f31fc4",
   "metadata": {},
   "source": [
    "\n",
    "<!-- #region id=\"c566b956\" -->\n",
    "#### Recalage linéaire des moindres carrés avec valeur aberrante\n",
    "<!-- #endregion -->\n",
    "\n"
   ]
  },
  {
   "cell_type": "code",
   "execution_count": null,
   "id": "3dca2ca2",
   "metadata": {},
   "outputs": [],
   "source": [
    "c2 = np.polyfit(x2, y2, degre)\n"
   ]
  },
  {
   "cell_type": "markdown",
   "id": "389f08c8",
   "metadata": {},
   "source": [
    "\n",
    "<!-- #region id=\"88ecd7fb\" -->\n",
    "#### Calcul des signaux vrais et recalés en utilisant les coefficients vrais et estimés\n",
    "<!-- #endregion -->\n",
    "\n"
   ]
  },
  {
   "cell_type": "code",
   "execution_count": null,
   "id": "3377c632",
   "metadata": {},
   "outputs": [],
   "source": [
    "x = np.linspace(x_min, x_max, 100)\n",
    "\n",
    "y_vrai = np.polyval(coeffs, x)\n",
    "y1_pred = np.polyval(c1, x)\n",
    "y2_pred = np.polyval(c2, x)\n"
   ]
  },
  {
   "cell_type": "markdown",
   "id": "6edcf1c8",
   "metadata": {},
   "source": [
    "\n",
    "<!-- #region id=\"61f6ad49\" -->\n",
    "#### Affichage des résultats du recalage avec et sans la valeur aberrante\n",
    "<!-- #endregion -->\n",
    "\n"
   ]
  },
  {
   "cell_type": "code",
   "execution_count": null,
   "id": "ad4e3810",
   "metadata": {},
   "outputs": [],
   "source": [
    "affiche_resultats()\n"
   ]
  },
  {
   "cell_type": "markdown",
   "id": "e34d6b8f",
   "metadata": {},
   "source": [
    "\n",
    "<!-- #region id=\"ccf22990\" -->\n",
    "Dans chaque panneau, la courbe en jaune montre les prédictions du modèle original et en rouge\n",
    "les prédictions du modèle recalé à partir des données bruitées.\n",
    "\n",
    "Dans le panneau de gauche, les droites originale et recalée sont presque identiques. Ce n'est pas\n",
    "le cas du panneau de droite contenant une valeur aberrante identifiée par l'étoile verte en bas à droite.\n",
    "\n",
    "L'effet de la valeur aberrante est clairement visible. La droite recalée est 'attirée' par la\n",
    "valeur aberrante. L'effet est d'autant plus important que le point problématique est situé\n",
    "loin de la courbe idéale et près des valeurs extrèmes en x.\n",
    "\n",
    "<!-- #endregion -->\n",
    "\n",
    "<!-- #region id=\"a9486008\" -->\n",
    "## Exemple II: recalage quadratique avec donnée aberrante\n",
    "\n",
    "On reprend l'exemple précédent, mais avec un modèle quadratique, c'est-à-dire, un polynôme de degré 2.\n",
    "\n",
    "#### Génération des données bruitées\n",
    "<!-- #endregion -->\n",
    "\n"
   ]
  },
  {
   "cell_type": "code",
   "execution_count": null,
   "id": "20aed994",
   "metadata": {},
   "outputs": [],
   "source": [
    "# Coefficients de la quadratique\n",
    "coeffs = [0.03, 0.2, -2]\n",
    "degre = len(coeffs) - 1\n",
    "\n",
    "# Génération des données\n",
    "npts = 20\n",
    "sigma = 0.3\n",
    "x1, y1 = genere_donnees(coeffs, sigma, x_min, x_max, npts)\n"
   ]
  },
  {
   "cell_type": "markdown",
   "id": "d98b7aed",
   "metadata": {},
   "source": [
    "\n",
    "<!-- #region id=\"f87c90af\" -->\n",
    "#### Recalage quadratique des moindres carrés sans valeur aberrante\n",
    "<!-- #endregion -->\n",
    "\n"
   ]
  },
  {
   "cell_type": "code",
   "execution_count": null,
   "id": "cbb6269b",
   "metadata": {},
   "outputs": [],
   "source": [
    "c1 = np.polyfit(x1, y1, degre)\n"
   ]
  },
  {
   "cell_type": "markdown",
   "id": "2a0a0734",
   "metadata": {},
   "source": [
    "\n",
    "<!-- #region id=\"e9819423\" -->\n",
    "#### Ajout d'une valeur aberrante à la position (9, -1)\n",
    "<!-- #endregion -->\n",
    "\n"
   ]
  },
  {
   "cell_type": "code",
   "execution_count": null,
   "id": "bc4c8d92",
   "metadata": {},
   "outputs": [],
   "source": [
    "x2 = np.append(x1, [9], axis=0)\n",
    "y2 = np.append(y1, [-1], axis=0)\n"
   ]
  },
  {
   "cell_type": "markdown",
   "id": "88592f3d",
   "metadata": {},
   "source": [
    "\n",
    "<!-- #region id=\"70f2d6d4\" -->\n",
    "#### Recalage quadratique des moindres carrés avec valeur aberrante\n",
    "<!-- #endregion -->\n",
    "\n"
   ]
  },
  {
   "cell_type": "code",
   "execution_count": null,
   "id": "828d7bf6",
   "metadata": {},
   "outputs": [],
   "source": [
    "c2 = np.polyfit(x2, y2, degre)\n"
   ]
  },
  {
   "cell_type": "markdown",
   "id": "5c4b41c4",
   "metadata": {},
   "source": [
    "\n",
    "<!-- #region id=\"eababa62\" -->\n",
    "#### Calcul des signaux vrais et recalés en utilisant les coefficients vrais et estimés\n",
    "<!-- #endregion -->\n",
    "\n"
   ]
  },
  {
   "cell_type": "code",
   "execution_count": null,
   "id": "827688a2",
   "metadata": {},
   "outputs": [],
   "source": [
    "x = np.linspace(x_min, x_max, 100)\n",
    "y_vrai = np.polyval(coeffs, x)\n",
    "y1_pred = np.polyval(c1, x)\n",
    "y2_pred = np.polyval(c2, x)\n"
   ]
  },
  {
   "cell_type": "markdown",
   "id": "9d36d1e5",
   "metadata": {},
   "source": [
    "\n",
    "<!-- #region id=\"e82bd077\" -->\n",
    "#### Affichage des résultats du recalage avec et sans la valeur aberrante\n",
    "<!-- #endregion -->\n",
    "\n"
   ]
  },
  {
   "cell_type": "code",
   "execution_count": null,
   "id": "11a8e859",
   "metadata": {},
   "outputs": [],
   "source": [
    "affiche_resultats()\n"
   ]
  },
  {
   "cell_type": "markdown",
   "id": "9e74f923",
   "metadata": {},
   "source": [
    "\n",
    "<!-- #region id=\"6e0fa99f\" -->\n",
    "Dans le panneau de gauche, les quadratiques originale et recalée sont presque identiques. Dans le\n",
    "panneau de droite, la quadratique recalée est à nouveau 'attirée' par la valeur aberrante et déformée\n",
    "au point de ressembler à une droite de régression.\n",
    "\n",
    "#### En résumé\n",
    "\n",
    "\n",
    "- Les régressions basées sur la méthode des moindres carrés sont sensibles aux valeurs aberrantes.\n",
    "- L'effet est d'autant plus important que l'ordre d'un polynôme est élevé.\n",
    "- Les valeurs aberrantes ont comme effet d'attirer la courbe recalée vers eux.\n",
    "\n",
    "\n",
    "La présence de valeurs aberrantes dans les données est toujours une chose à vérifier avant d'aller\n",
    "plus loin dans l'analyse. C'est généralement effectué lors de l'étape de prétraitement des données\n",
    "qui sera abordée dans un prochain module.\n",
    "<!-- #endregion -->\n",
    "\n",
    "<!-- #region id=\"963f0eb9\" -->\n",
    "## Exercice\n",
    "\n",
    "Augmentez le nombre de données, p. ex. de 20 à 75 et exécutez à nouveau le code de la partie II. Que remarquez-vous\n",
    "par rapport à l'effet de la valeur aberrante? **Réponse: l'effet de la valeur aberrante diminue lorsque le nombre de données augmente. Il est toujours préférable d'éliminer les valeurs aberrantes dans nos données, mais si le nombre de données est très grand, les valeurs aberrantes ont peu d'effet.**\n",
    "<!-- #endregion -->\n",
    "\n"
   ]
  },
  {
   "cell_type": "code",
   "execution_count": null,
   "id": "9c6153da",
   "metadata": {},
   "outputs": [],
   "source": [
    "# SOLUTION\n",
    "\n",
    "npts = 75\n",
    "# Génération des données bruitées\n",
    "sigma = 0.3\n",
    "\n",
    "# Coefficients de la quadratique\n",
    "coeffs = [0.03, 0.2, -2]\n",
    "degre = len(coeffs) - 1\n",
    "\n",
    "# Génération des données\n",
    "x1, y1 = genere_donnees(coeffs, sigma, x_min, x_max, npts)\n",
    "\n",
    "# Recalage quadratique des moindres carrés sans valeur aberrante\n",
    "c1 = np.polyfit(x1, y1, degre)\n",
    "\n",
    "# Ajout d'une valeur aberrante à la position (9, -1)\n",
    "x2 = np.append(x1, [9], axis=0)\n",
    "y2 = np.append(y1, [-1], axis=0)\n",
    "\n",
    "# Recalage quadratique des moindres carrés avec valeur aberrante\n",
    "c2 = np.polyfit(x2, y2, degre)\n",
    "\n",
    "# Calcul des signaux vrais et recalés en utilisant les coefficients vrais et estimés\n",
    "x = np.linspace(x_min, x_max, 100)\n",
    "y_vrai = np.polyval(coeffs, x)\n",
    "y1_pred = np.polyval(c1, x)\n",
    "y2_pred = np.polyval(c2, x)\n",
    "\n",
    "# Affichage des résultats du recalage avec et sans la valeur aberrante\n",
    "affiche_resultats()\n"
   ]
  },
  {
   "cell_type": "markdown",
   "id": "576718b6",
   "metadata": {},
   "source": [
    "\n"
   ]
  },
  {
   "cell_type": "code",
   "execution_count": null,
   "id": "3b607f55",
   "metadata": {},
   "outputs": [],
   "source": [
    "\n"
   ]
  }
 ],
 "metadata": {},
 "nbformat": 4,
 "nbformat_minor": 5
}
