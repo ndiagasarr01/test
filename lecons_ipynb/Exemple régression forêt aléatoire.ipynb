{
 "cells": [
  {
   "cell_type": "markdown",
   "id": "1f4f9fd8",
   "metadata": {},
   "source": [
    "---\n",
    "jupyter:\n",
    "  jupytext:\n",
    "    text_representation:\n",
    "      extension: .md\n",
    "      format_name: markdown\n",
    "      format_version: '1.3'\n",
    "      jupytext_version: 1.16.0\n",
    "  kernelspec:\n",
    "    display_name: Python 3\n",
    "    language: python\n",
    "    name: python3\n",
    "---\n",
    "\n",
    "<!-- #region id=\"6e93f194\" -->\n",
    "# Table des matières\n",
    "- [Exemple de régression par forêt aléatoire](#exemple-de-régression-par-forêt-aléatoire)\n",
    "      - [Ce que nous allons voir dans cette section](#ce-que-nous-allons-voir-dans-cette-section)\n",
    "  - [Lecture, affichage et préparation des données](#lecture-affichage-et-préparation-des-données)\n",
    "      - [Lecture des données originales de l'étude.](#lecture-des-données-originales-de-létude)\n",
    "      - [Génération d'un DataFrame et identification des noms de variables.](#génération-dun-dataframe-et-identification-des-noms-de-variables)\n",
    "      - [Affichage de la distribution des prix des maisons.](#affichage-de-la-distribution-des-prix-des-maisons)\n",
    "      - [Affichage des cinq premières lignes des variables](#affichage-des-cinq-premières-lignes-des-variables)\n",
    "      - [Génération des ensembles d'entraînement ($80~\\%$) et de test ($20~\\%$)](#génération-des-ensembles-dentraînement-80%25-et-de-test-20%25)\n",
    "      - [Normalisation des données](#normalisation-des-données)\n",
    "  - [Entraînement d'un régresseur par forêt aléatoire](#entraînement-dun-régresseur-par-forêt-aléatoire)\n",
    "      - [Sélection du type de régresseur.](#sélection-du-type-de-régresseur)\n",
    "      - [Entraînement du régresseur avec les données d'entraînement](#entraînement-du-régresseur-avec-les-données-dentraînement)\n",
    "      - [Prédiction du prix des maisons pour les deux ensembles de données](#prédiction-du-prix-des-maisons-pour-les-deux-ensembles-de-données)\n",
    "  - [Affichage des résultats](#affichage-des-résultats)\n",
    "      - [Affichage de la valeur du R2](#affichage-de-la-valeur-du-r2)\n",
    "      - [Affichage des valeurs prédites et réelles des maisons pour l'ensemble de test.](#affichage-des-valeurs-prédites-et-réelles-des-maisons-pour-lensemble-de-test)\n",
    "  - [Identification des variables les plus importantes déterminant le prix d'une maison](#identification-des-variables-les-plus-importantes-déterminant-le-prix-dune-maison)\n",
    "    - [Affichage du diagrame d'importance des variables du jeu de données](#affichage-du-diagrame-dimportance-des-variables-de-la-base-de-données)\n",
    "    - [Comment varie le prix des maisons en fonction des deux variables les plus importantes?](#comment-varie-le-prix-des-maisons-en-fonction-des-deux-variables-les-plus-importantes)\n",
    "      - [Sélection des variables d'intérêt](#sélection-des-variables-dintérêt)\n",
    "      - [Affichage de l'effet de chaque variable sur le prix des maisons.](#affichage-de-leffet-de-chaque-variable-sur-le-prix-des-maisons)\n",
    "  - [Exercice](#exercice)\n",
    "  - [Exercice](#exercice-1)\n",
    "<!-- #endregion -->\n",
    "\n",
    "<!-- #region id=\"20d14f24\" -->\n",
    "---\n",
    "# Exemple de régression par forêt aléatoire\n",
    "---\n",
    "<!-- #endregion -->\n",
    "\n",
    "<!-- #region id=\"0a9aa7ed\" -->\n",
    "<p>&nbsp;</p>\n",
    "<div align=\"center\">\n",
    "    <img src= \"../images/boston-houses.jpeg\"  width=\"500\" />\n",
    "    <div>\n",
    "    <font size=\"0.5\">Image Source: https://www.flickr.com/photos/romanboed/49365609358/</font>\n",
    "    </div>\n",
    "</div>\n",
    "<!-- #endregion -->\n",
    "\n",
    "<!-- #region id=\"f2ea64bc\" -->\n",
    "Dans cette section, nous allons appliquer la régression par forêt aléatoire afin de prédire le prix, dans\n",
    "les années 70, des maisons dans la région de Boston au Massachusetts (États-Unis).\n",
    "\n",
    "C'est un excellent exemple souvent utilisé, en apprentissage automatique, pour se familiariser avec la difficulté\n",
    "de faire de la prédiction en se basant sur des données hétéroclites variant de façon discontinue.\n",
    "\n",
    "Comme on l'a vu dans les précédentes sections, la régression sert à prédire une *réponse* $y$, qui est\n",
    "une variable **numérique continue**, en fonction de plusieurs facteurs/variables $x_{i}$\n",
    "\n",
    "$$y=f(x_{1}, \\cdots, x_{N}, \\Theta)$$\n",
    "\n",
    "où $\\Theta$ représente l'ensemble des paramètres de la fonction $f$. Dans plusieurs domaines, comme en physique, on peut\n",
    "dériver analytiquement une telle formule basée sur les lois de la nature. Dans les sciences de la vie et les sciences\n",
    "sociales, c'est généralement impossible dû au grand nombre de phénomènes impliqués lors de la prise de données. La\n",
    "modélisation par forêt aléatoire permet de se libérer de cette contrainte irréaliste en modélisation analytique. De\n",
    "par sa nature, la forêt aléatoire permet d'explorer naturellement un très grand nombre d'interactions entre les\n",
    "différentes variables sans avoir à les spécifier explicitement dans un modèle mathématique. C'est une des\n",
    "multiples raisons pour lesquelles elles performent souvent mieux que d'autres méthodes non-linéaires.\n",
    "\n",
    "#### Ce que nous allons voir dans cette section\n",
    "\n",
    "Nous allons initialement modéliser le prix des maisons en fonction des variables du jeu de données utilisée. Le\n",
    "but étant de pouvoir faire des prédictions de prix pour d'autres maisons de Boston, à la même époque.\n",
    "\n",
    "Nous allons ensuite déterminer lesquelles, parmi ces variables, sont les plus utiles pour faire des\n",
    "prédictions. Nous allons enfin examiner leur effet sur le prix des maisons.\n",
    "<!-- #endregion -->\n",
    "\n"
   ]
  },
  {
   "cell_type": "code",
   "execution_count": null,
   "id": "e1a3185f",
   "metadata": {},
   "outputs": [],
   "source": [
    "import numpy as np\n",
    "import pandas as pd\n",
    "import matplotlib.pyplot as plt\n",
    "import sklearn\n",
    "from sklearn.model_selection import train_test_split\n",
    "from sklearn import preprocessing\n",
    "from sklearn.preprocessing import StandardScaler\n",
    "from sklearn.ensemble import RandomForestRegressor\n",
    "from sklearn.metrics import r2_score\n",
    "import seaborn as sns\n",
    "\n",
    "sns.set(color_codes=True)\n",
    "\n",
    "%matplotlib inline\n",
    "\n",
    "# Pour la reproductibilité des résultats\n",
    "np.random.seed(seed)\n"
   ]
  },
  {
   "cell_type": "markdown",
   "id": "764b235b",
   "metadata": {},
   "source": [
    "\n",
    "<!-- #region id=\"72520c76\" -->\n",
    "## Lecture, affichage et préparation des données\n",
    "\n",
    "Le  jeu de données contient 13 variables/facteurs. Les données sont toutes numériques. Elles ont été collectées\n",
    "dans les années 70 par le recensement des États-Unis dans la région de Boston au Massachusetts.\n",
    "\n",
    "Voici la liste des facteurs mesurés. Le but est de déterminer comment varie le prix des maisons (dans les années 70!)\n",
    "en fonction de ces facteurs:\n",
    "\n",
    "\n",
    "- CRIM:  taux de criminalité, \n",
    "- ZN:  proportion de terrain résidentiel zoné pour les lots de plus de 25 000 pi2, \n",
    "- INDUS:  proportion d'acres commerciales non commerciales par ville, \n",
    "- CHAS:  indicateur de proximité avec la Charles River (= 1 si près la rivière ; 0 sinon), \n",
    "- NOX:  concentration d'oxydes nitriques (parties par 10 millions), \n",
    "- RM:  nombre moyen de pièces par logement, \n",
    "- AGE:  proportion d'unités construites avant 1940 occupées par leur propriétaire, \n",
    "- DIS:  distances pondérées à cinq centres d'emploi de Boston, \n",
    "- RAD:  indice d'accessibilité aux autoroutes radiales, \n",
    "- TAX:  taux d'impôt foncier sur la valeur totale par tranche de ~\\$10 000, \n",
    "- PTRATIO:  ratio élèves-enseignant par ville, \n",
    "- B:  $1000(Bk - 0.63)^2$ où Bk est la proportion de personnes d'ascendance afro-américaine, \n",
    "- LSTAT:  pourcentage des classes défavorisées dans la population, \n",
    "- MEDV:  valeur médiane des logements occupés par leur propriétaire en k~\\$. \n",
    "\n",
    "\n",
    "\n",
    "#### Lecture des données originales de l'étude\n",
    "<!-- #endregion -->\n",
    "\n"
   ]
  },
  {
   "cell_type": "code",
   "execution_count": null,
   "id": "4ac807f7",
   "metadata": {},
   "outputs": [],
   "source": [
    "data_url = \"http://lib.stat.cmu.edu/datasets/boston\"\n",
    "raw_df = pd.read_csv(data_url, sep=\"\\s+\", skiprows=22, header=None)\n",
    "data = np.hstack([raw_df.values[::2, :], raw_df.values[1::2, :2]])\n",
    "y = raw_df.values[1::2, 2]\n"
   ]
  },
  {
   "cell_type": "markdown",
   "id": "b1ccc102",
   "metadata": {},
   "source": [
    "\n",
    "<!-- #region id=\"8205cb8e\" -->\n",
    "#### Génération d'un DataFrame et identification des noms de variables\n",
    "<!-- #endregion -->\n",
    "\n"
   ]
  },
  {
   "cell_type": "code",
   "execution_count": null,
   "id": "0a933a86",
   "metadata": {},
   "outputs": [],
   "source": [
    "X = pd.DataFrame(\n",
    "    data,\n",
    "    columns=[\n",
    "        'CRIM',\n",
    "        'ZN',\n",
    "        'INDUS',\n",
    "        'CHAS',\n",
    "        'NOX',\n",
    "        'RM',\n",
    "        'AGE',\n",
    "        'DIS',\n",
    "        'RAD',\n",
    "        'TAX',\n",
    "        'PTRATIO',\n",
    "        'B',\n",
    "        'LSTAT',\n",
    "    ],\n",
    ")\n",
    "\n",
    "# Liste des facteurs utilisés\n",
    "feature_list = list(X.columns)\n"
   ]
  },
  {
   "cell_type": "markdown",
   "id": "a21e23a5",
   "metadata": {},
   "source": [
    "\n",
    "<!-- #region id=\"f3c9e153\" -->\n",
    "#### Affichage de la distribution des prix des maisons\n",
    "<!-- #endregion -->\n",
    "\n"
   ]
  },
  {
   "cell_type": "code",
   "execution_count": null,
   "id": "e4e882ea",
   "metadata": {},
   "outputs": [],
   "source": [
    "plt.figure(figsize=(5, 4))\n",
    "plt.hist(y, 20)\n",
    "plt.title('Histogramme du prix des maisons')\n",
    "plt.xlabel('price (k$)')\n",
    "plt.ylabel('N')\n",
    "plt.show()\n"
   ]
  },
  {
   "cell_type": "markdown",
   "id": "0b6b8d64",
   "metadata": {},
   "source": [
    "\n",
    "<!-- #region id=\"df7a36bc\" -->\n",
    "C'est la quantité que l'on désire prédire en fonction des variables $x_{i}$ précédents. Le prix maximum des\n",
    "maisons est de 50k$! C'était dans les années 70..\n",
    "\n",
    "#### Affichage des cinq premières lignes des variables\n",
    "<!-- #endregion -->\n",
    "\n"
   ]
  },
  {
   "cell_type": "code",
   "execution_count": null,
   "id": "f86cc323",
   "metadata": {},
   "outputs": [],
   "source": [
    "X.head()\n"
   ]
  },
  {
   "cell_type": "markdown",
   "id": "c2362358",
   "metadata": {},
   "source": [
    "\n",
    "<!-- #region id=\"618d5126\" -->\n",
    "On voit que les valeurs couvrent différents ordres de grandeur. Il faudra les normaliser pour cette raison. Il faut toutefois mentionner que les arbres décisionnels et les forêts aléatoires ne sont pas affectés par la normalisation. Néanmoins, c'est une bonne habitude de normaliser ses données; autant commencer à prendre cette habitude maintenant!\n",
    "\n",
    "#### Génération des ensembles d'entraînement ($80~\\%$) et de test ($20~\\%$)\n",
    "\n",
    "Les données d'entraînement vont servir à entraînement le modèle de régression. C'est-à-dire, à estimer la valeur du seuil $\\tau$ de chaque noeud, dans chaque arbre décisionnel de la forêt. Les données de test vont ensuite servir à mesurer les performances du modèle entrainé à prédire correctement le prix des maisons.\n",
    "\n",
    "<!-- #endregion -->\n",
    "\n"
   ]
  },
  {
   "cell_type": "code",
   "execution_count": null,
   "id": "5bbb3de9",
   "metadata": {},
   "outputs": [],
   "source": [
    "X_train, X_test, y_train, y_test = train_test_split(\n",
    "    X, y, test_size=0.2, random_state=42\n",
    ")\n"
   ]
  },
  {
   "cell_type": "markdown",
   "id": "b156448e",
   "metadata": {},
   "source": [
    "\n",
    "<!-- #region id=\"e2fe1a4c\" -->\n",
    "#### Normalisation des données\n",
    "\n",
    "Les paramètres de la fonction de normalisation sont calculés à partir des données d'**entraînement** uniquement! Elle est ensuite appliquée aux données d'entraînement et de test.\n",
    "<!-- #endregion -->\n",
    "\n"
   ]
  },
  {
   "cell_type": "code",
   "execution_count": null,
   "id": "e14e6d18",
   "metadata": {},
   "outputs": [],
   "source": [
    "scaler = StandardScaler()\n",
    "X_train_s = scaler.fit_transform(X_train)\n",
    "X_test_s = scaler.transform(X_test)\n"
   ]
  },
  {
   "cell_type": "markdown",
   "id": "f8ce7c8f",
   "metadata": {},
   "source": [
    "\n",
    "<!-- #region id=\"eba93605\" -->\n",
    "## Entraînement d'un régresseur par forêt aléatoire\n",
    "#### Sélection du type de régresseur. \n",
    "Les valeurs des paramètres sont différentes de celles par défaut. Elles ont été optimisées afin \n",
    "de maximiser les performances du modèle. La méthode d'optimisation \n",
    "utilisée est expliquée dans le module sur la validation croisée.\n",
    "<!-- #endregion -->\n",
    "\n"
   ]
  },
  {
   "cell_type": "code",
   "execution_count": null,
   "id": "802ea579",
   "metadata": {},
   "outputs": [],
   "source": [
    "reg = RandomForestRegressor(max_depth=6, min_samples_split=3, n_estimators=100)\n"
   ]
  },
  {
   "cell_type": "markdown",
   "id": "2cae4a04",
   "metadata": {},
   "source": [
    "\n",
    "<!-- #region id=\"eba93605\" -->\n",
    "#### Entraînement du régresseur avec les données d'entraînement\n",
    "<!-- #endregion -->\n",
    "\n"
   ]
  },
  {
   "cell_type": "code",
   "execution_count": null,
   "id": "a1b4a6c7",
   "metadata": {},
   "outputs": [],
   "source": [
    "reg.fit(X_train_s, y_train);\n"
   ]
  },
  {
   "cell_type": "markdown",
   "id": "7e3e8de7",
   "metadata": {},
   "source": [
    "\n",
    "<!-- #region id=\"cd54d0af\" -->\n",
    "#### Prédiction du prix des maisons pour les deux ensembles de données\n",
    "<!-- #endregion -->\n",
    "\n"
   ]
  },
  {
   "cell_type": "code",
   "execution_count": null,
   "id": "83057546",
   "metadata": {},
   "outputs": [],
   "source": [
    "y_train_pred = reg.predict(X_train_s)\n",
    "y_test_pred = reg.predict(X_test_s)\n"
   ]
  },
  {
   "cell_type": "markdown",
   "id": "206ce35e",
   "metadata": {},
   "source": [
    "\n",
    "<!-- #region id=\"e9d9263a\" -->\n",
    "## Affichage des résultats\n",
    "\n",
    "#### Affichage de la valeur du R2\n",
    "\n",
    "<!-- #endregion -->\n",
    "\n"
   ]
  },
  {
   "cell_type": "code",
   "execution_count": null,
   "id": "71904bfc",
   "metadata": {},
   "outputs": [],
   "source": [
    "score = r2_score(y_train, y_train_pred)\n",
    "print('Valeur de R2 en entraînement:', round(100 * score, 1), '%')\n",
    "\n",
    "score = r2_score(y_test, y_test_pred)\n",
    "print('Valeur de R2 en test:', round(100 * score, 1), '%')\n"
   ]
  },
  {
   "cell_type": "markdown",
   "id": "857123af",
   "metadata": {},
   "source": [
    "\n",
    "<!-- #region id=\"97c90eef\" -->\n",
    "La valeur du $R^2$ correspond à la fraction de la variance des données qui est expliquée par le modèle utilisé.\n",
    "\n",
    "Le modèle explique environ $95~\\%$ de la variabilité des données en entraînement et $87~\\%$ de celles en test.\n",
    "\n",
    "#### Affichage des valeurs prédites et réelles des maisons pour l'ensemble de test\n",
    "\n",
    "<!-- #endregion -->\n",
    "\n"
   ]
  },
  {
   "cell_type": "code",
   "execution_count": null,
   "id": "ed863dae",
   "metadata": {},
   "outputs": [],
   "source": [
    "fig = plt.figure(figsize=(8, 6))\n",
    "plt.plot(y_test, y_test_pred, 'o')\n",
    "plt.plot(y_test, y_test, '-r', label='Prédiction parfaite')\n",
    "\n",
    "plt.xlabel('Prix réels (k$)', fontsize=16)\n",
    "plt.ylabel('Prix prédits (k$)', fontsize=16)\n",
    "plt.legend()\n",
    "fig.tight_layout()\n",
    "plt.show()\n"
   ]
  },
  {
   "cell_type": "markdown",
   "id": "2f7eafa2",
   "metadata": {},
   "source": [
    "\n",
    "<!-- #region id=\"8c1592f9\" -->\n",
    "La droite rouge correspond à une prédiction parfaite. Mises à part quelques données\n",
    "aberrantes (*outliers*), il y a une bonne adéquation entre les résultats réels et prédits.\n",
    "\n",
    "## Identification des variables les plus importantes déterminant le prix d'une maison\n",
    "\n",
    "<!-- #endregion -->\n",
    "\n",
    "<!-- #region id=\"c19b36a9\" -->\n",
    "<p>&nbsp;</p>\n",
    "<div align=\"center\">\n",
    "    <img src= \"../images/inspector-with-magnifying-glass.jpeg\"  width=\"200\" />\n",
    "    <div>\n",
    "    <font size=\"0.5\">Image Source: http://clipart-library.com/clipart/1416328.htm</font>\n",
    "    </div>\n",
    "</div>\n",
    "<!-- #endregion -->\n",
    "\n",
    "<!-- #region id=\"8f7b5f5e\" -->\n",
    "Il est utile de faire de bonnes prédictions, mais il est aussi intéressant de savoir quelles sont les variables qui affectent le plus le prix des maisons. Les courtiers immobiliers aime prédire le prix d'une maison qu'ils ont à vendre. Les sociologues, eux, sont curieux de savoir comment les différentes variables socio-économiques affectent l'immobilier, et donc les conditions de vie, dans les différents quartiers d'une ville.\n",
    "\n",
    "Les variables $x_{i}$ les plus importantes sont les plus utilisées pour prendre\n",
    "des décisions à travers les arbres décisionnels constituant la forêt.\n",
    "\n",
    "Le régresseur utilisé, RandomForestRegressor, permet de calculer l'importance de chaque variable. Celle-ci prend\n",
    "une valeur entre 0 et 1, où 0 indique qu'elle n'est jamais utilisée et où 1 indique qu'elle est la seule utilisée\n",
    "parmi toutes. Dans ce dernier cas, la variable permet de prédire parfaitement la réponse.\n",
    "La somme des importances sur l'ensemble des variables vaut 1.\n",
    "\n",
    "<!-- #endregion -->\n",
    "\n"
   ]
  },
  {
   "cell_type": "code",
   "execution_count": null,
   "id": "82513a54",
   "metadata": {},
   "outputs": [],
   "source": [
    "# Importance de chaque variable\n",
    "importances = list(reg.feature_importances_)\n",
    "\n",
    "# Associe le nom de chaque variable avec son importance\n",
    "feature_importances = [\n",
    "    (feature, round(importance, 2))\n",
    "    for feature, importance in zip(feature_list, importances)\n",
    "]\n",
    "\n",
    "# Ordonne les valeurs d'importance en ordre décroissant\n",
    "feature_importances = sorted(feature_importances, key=lambda x: x[1], reverse=True)\n"
   ]
  },
  {
   "cell_type": "markdown",
   "id": "a72b50cb",
   "metadata": {},
   "source": [
    "\n",
    "<!-- #region id=\"1d44429a\" -->\n",
    "### Affichage du diagrame d'importance des variables du jeu de données\n",
    "\n",
    "On veut déterminer lesquelles sont les plus importantes et combien il y en a.\n",
    "<!-- #endregion -->\n",
    "\n"
   ]
  },
  {
   "cell_type": "code",
   "execution_count": null,
   "id": "e45e9203",
   "metadata": {},
   "outputs": [],
   "source": [
    "indices = np.argsort(importances)[::-1]\n",
    "\n",
    "plt.style.use('fivethirtyeight')\n",
    "\n",
    "var = list(range(len(importances)))\n",
    "plt.bar(var, np.array(importances)[indices.astype(int)], orientation='vertical')\n",
    "plt.xticks(var, np.array(feature_list)[indices.astype(int)], rotation='vertical')\n",
    "plt.ylabel('Importance', fontsize=16)\n",
    "plt.xlabel('Variable', fontsize=16)\n",
    "plt.title('Importance des variables', fontsize=16)\n"
   ]
  },
  {
   "cell_type": "markdown",
   "id": "645a48bf",
   "metadata": {},
   "source": [
    "\n",
    "<!-- #region id=\"f289b88c\" -->\n",
    "On voit que les variables RM (le nombre moyen de pièces par logement) et LSTAT (le pourcentage des classes défavorisées dans la population) sont de loin les plus importantes. Elles contribuent à $83~\\%$ de l'importance totale; elles sont utilisées dans $83~\\%$ des décisions des arbres de la forêt.\n",
    "\n",
    "### Comment varie le prix des maisons en fonction des deux variables les plus importantes?\n",
    "\n",
    "C'est bien de savoir quelles variables sont les plus déterminantes, c'est encore mieux de savoir comment chacune influence le prix des maisons. C'est ce que nous allons voir avec les deux variables principales.\n",
    "\n",
    "#### Sélection des variables d'intérêt\n",
    "<!-- #endregion -->\n",
    "\n"
   ]
  },
  {
   "cell_type": "code",
   "execution_count": null,
   "id": "4b3a3d4d",
   "metadata": {},
   "outputs": [],
   "source": [
    "var_int = ['RM', 'LSTAT']\n",
    "x = X.loc[:, var_int]\n",
    "x = pd.DataFrame(data=x, columns=var_int)\n"
   ]
  },
  {
   "cell_type": "markdown",
   "id": "2a56b4be",
   "metadata": {},
   "source": [
    "\n",
    "<!-- #region id=\"d6a5ccea\" -->\n",
    "#### Affichage de l'effet de chaque variable sur le prix des maisons\n",
    "\n",
    "Dans chaque panneau, la droite des moindres carrés est affichée ainsi que son intervalle de confiance à $95~\\%$.\n",
    "<!-- #endregion -->\n",
    "\n"
   ]
  },
  {
   "cell_type": "code",
   "execution_count": null,
   "id": "5e79777e",
   "metadata": {},
   "outputs": [],
   "source": [
    "fig, axs = plt.subplots(ncols=2, nrows=1, figsize=(10, 5))\n",
    "index = 0\n",
    "axs = axs.flatten()\n",
    "for i, k in enumerate(var_int):\n",
    "    u = pd.Series(x[k], name=\"x_var\")\n",
    "    v = pd.Series(y, name=\"Prix des maisons (k$)\")\n",
    "    sns.regplot(y=v, x=x[k], ax=axs[i])\n",
    "plt.tight_layout(pad=0.4, w_pad=0.5, h_pad=5.0)\n"
   ]
  },
  {
   "cell_type": "markdown",
   "id": "175ef745",
   "metadata": {},
   "source": [
    "\n",
    "<!-- #region id=\"6a003dc0\" -->\n",
    "On voit que le prix d'une maison augmente avec le nombre de chambres (RM) et diminue avec le\n",
    "le pourcentage des classes défavorisées dans la population (LSAT). Une conclusion similaire\n",
    "pourrait être tirée de bases de données contemporaines pour un très grand nombre de villes dans le monde.\n",
    "\n",
    "<!-- #endregion -->\n",
    "\n",
    "<!-- #region id=\"65bc2627\" -->\n",
    "## Exercice\n",
    "\n",
    "Quelles seraient les performances en régression (la valeur du $R^2$) si la forêt aléatoire n'utilisait que\n",
    "les deux variables les plus importantes RM et LSAT? \n",
    "\n",
    "Refaites l'exercice précédent avec les modifications suivantes:\n",
    "\n",
    "\n",
    "- variables: RM et LSAT, \n",
    "- reg = RandomForestRegressor(max_depth=4, min_samples_split=5, n_estimators=100) \n",
    "\n",
    "\n",
    "\n",
    "Comment interprétez-vous les résultats?\n",
    "\n",
    "**Réponse: Les deux valeurs de $R^2$ ont chuté. Il y a moins d'information disponible dans 2 variables que dans 13. \n",
    "Selon le diagramme de l'importance des variables, les deux variables les plus importantes permettent de prendre \n",
    "$83~\\%$ des décisions dans une forêt. Les $17~\\%$ restantes sont prises par les autres variables. En éliminant celles-ci de l'analyse, les performances en test ont chuté de $14~\\%$. Ça montre à quel point les variables éliminées contribuaient initialement. Bien que les variables RM et LSAT soient les plus importantes, elles n'expliquent pas tout.**\n",
    "\n",
    "<!-- #endregion -->\n",
    "\n"
   ]
  },
  {
   "cell_type": "code",
   "execution_count": null,
   "id": "cad741a6",
   "metadata": {},
   "outputs": [],
   "source": [
    "# SOLUTION\n",
    "\n",
    "# Génération des ensembles d'entraînement\n",
    "X_train, X_test, y_train, y_test = train_test_split(\n",
    "    x, y, test_size=0.2, random_state=42\n",
    ")\n",
    "\n",
    "# Normalisation des données\n",
    "scaler = StandardScaler()\n",
    "X_train_s = scaler.fit_transform(X_train)\n",
    "X_test_s = scaler.transform(X_test)\n",
    "\n",
    "# Sélection du type de régresseur\n",
    "reg = RandomForestRegressor(max_depth=4, min_samples_split=5, n_estimators=100)\n",
    "\n",
    "# Entraînement du régresseur avec les données d'entraînement\n",
    "reg.fit(X_train_s, y_train)\n",
    "\n",
    "# Prédiction du prix des maisons pour les deux ensembles de données\n",
    "y_train_pred = reg.predict(X_train_s)\n",
    "y_test_pred = reg.predict(X_test_s)\n",
    "\n",
    "# Affichage de la valeur du R2\n",
    "score = r2_score(y_train, y_train_pred)\n",
    "print('Valeur de R2 en entraînement:', round(100 * score, 1), '%')\n",
    "\n",
    "score = r2_score(y_test, y_test_pred)\n",
    "print('Valeur de R2 en test:', round(100 * score, 1), '%')\n"
   ]
  },
  {
   "cell_type": "markdown",
   "id": "d684185c",
   "metadata": {},
   "source": [
    "\n",
    "<!-- #region id=\"dd080c7f\" -->\n",
    "## Exercice\n",
    "\n",
    "Affichez à nouveau les valeurs prédites et réelles du prix des maisons pour l'ensemble de test. En quoi la figure\n",
    "est-elle différente de la version précédente?\n",
    "\n",
    "**Réponse: les données sont maintenant plus dispersées autour de la droite unité. Si les 11 variables éliminées n'avaient aucun effet sur le prix des maisons, la dispersion des données aurait été comparable à celle dans la version précédente de la figure. Cela montre que les variables éliminées permettent d'affiner les prédictions du prix de vente des maisons.**\n",
    "\n",
    "<!-- #endregion -->\n",
    "\n"
   ]
  },
  {
   "cell_type": "code",
   "execution_count": null,
   "id": "d3b6d4d9",
   "metadata": {},
   "outputs": [],
   "source": [
    "# SOLUTION\n",
    "\n",
    "fig = plt.figure(figsize=(8, 6))\n",
    "plt.plot(y_test, y_test_pred, 'o')\n",
    "plt.plot(y_test, y_test, '-r', label='Prédiction parfaite')\n",
    "\n",
    "plt.xlabel('Prix réels (k$)', fontsize=16)\n",
    "plt.ylabel('Prix prédits (k$)', fontsize=16)\n",
    "plt.legend()\n",
    "fig.tight_layout()\n",
    "plt.show()\n"
   ]
  },
  {
   "cell_type": "markdown",
   "id": "48f01bba",
   "metadata": {},
   "source": [
    "\n"
   ]
  },
  {
   "cell_type": "code",
   "execution_count": null,
   "id": "384782f0",
   "metadata": {},
   "outputs": [],
   "source": [
    "\n"
   ]
  }
 ],
 "metadata": {},
 "nbformat": 4,
 "nbformat_minor": 5
}
