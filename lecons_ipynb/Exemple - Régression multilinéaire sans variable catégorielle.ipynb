{
 "cells": [
  {
   "cell_type": "markdown",
   "id": "5d3de2b1",
   "metadata": {},
   "source": [
    "---\n",
    "jupyter:\n",
    "  jupytext:\n",
    "    text_representation:\n",
    "      extension: .md\n",
    "      format_name: markdown\n",
    "      format_version: '1.3'\n",
    "      jupytext_version: 1.16.0\n",
    "  kernelspec:\n",
    "    display_name: Python 3\n",
    "    language: python\n",
    "    name: python3\n",
    "---\n",
    "\n",
    "<!-- #region id=\"eb0dad00\" -->\n",
    "# Table des matières\n",
    "1. [Une approche par petits pas](#une-approche-par-petits-pas)\n",
    "1. [Lecture des données](#lecture-des-données)\n",
    "1. [Recalage linéaire simple](#recalage-linéaire-simple)\n",
    "1. [Affichage des résultats](#affichage-des-résultats)\n",
    "1. [Interprétation des résultats](#interprétation-des-résultats)\n",
    "1. [Comparaison des profits réels et prédits](#comparaison-des-profits-réels-et-prédits)\n",
    "\n",
    "# Attention!\n",
    "Ne lancez pas l'exécution automatique du notebook en entier en cliquant sur le bouton **Tout exécuter**. L'exécution serait interrompue, car certaines cellules exigent une entrée de votre part!\n",
    "\n",
    "Il faut simplement exécuter le notebook, une cellule à la fois, et entrer quelques lignes de code lorsque demandées. Il est inutile de sauter ces cellules pour aller aux suivantes car celles-ci ont justement besoin de votre input!\n",
    "\n",
    "Importons d'abord les librairies nécessaires.\n",
    "<!-- #endregion -->\n",
    "\n"
   ]
  },
  {
   "cell_type": "code",
   "execution_count": null,
   "id": "c9e723d3",
   "metadata": {},
   "outputs": [],
   "source": [
    "%matplotlib inline\n",
    "\n",
    "import matplotlib.pyplot as plt\n",
    "import numpy as np\n",
    "import pandas as pd\n",
    "import seaborn as sns\n",
    "from sklearn.linear_model import LinearRegression\n",
    "from sklearn.metrics import r2_score\n",
    "from sklearn.model_selection import train_test_split\n",
    "from sklearn.preprocessing import PolynomialFeatures, StandardScaler\n",
    "\n",
    "# semence pour le générateur de nombres pseudo-aléatoires\n",
    "# permet d'assurer la reproductibilité des résultats\n",
    "seed = 42\n",
    "\n",
    "# initialisation du générateur à partir de la semence\n",
    "np.random.seed(seed)\n"
   ]
  },
  {
   "cell_type": "markdown",
   "id": "3bd3fc4a",
   "metadata": {},
   "source": [
    "\n",
    "<!-- #region id=\"7a046863\" -->\n",
    "Dans cet exemple, nous allons montrer un autre exemple d'application des modèles de régression décrits\n",
    "dans la section sur la théorie de la régression.\n",
    "\n",
    "Nous allons utiliser le jeu de données [*startups data*](https://www.kaggle.com/amineoumous/50-startups-data) provenant du site de Kaggle.\n",
    "\n",
    "Elle liste les profits de 50 compagnies jeunes-pousses (*startups*) uniformément réparties dans\n",
    "les états de New York, de la Californie et de la Floride. Elle contient les variables suivantes:\n",
    "\n",
    "- `R&D Spend`: dépenses investies en recherche et développement.\n",
    "- `Administration`: frais d'administration.\n",
    "- `Marketing Spend`: dépenses investies en marketing.\n",
    "- `State`: localisation géographique (New York, California, Florida).\n",
    "\n",
    "Les trois premières sont continues alors que la quatrième est catégorielle. On voudrait prédire les profits\n",
    "des compagnies en fonction de ces variables.\n",
    "<!-- #endregion -->\n",
    "\n",
    "<!-- #region id=\"89a352e8\" -->\n",
    "## <span id=une-approche-par-petits-pas>Une approche par petits pas</span>\n",
    "\n",
    "<!-- #endregion -->\n",
    "\n",
    "<!-- #region id=\"a82f52a6\" -->\n",
    "Puisqu'il n'existe pas de modèle analytique exact dans ce type de problème, nous allons utiliser\n",
    "des modèles linéaires pour analyser les données. Bien que très simples, ils se sont souvent révélés utiles\n",
    "pour analyser des données financières. De plus, leur simplicité facilite l'interprétation des résultats et\n",
    "l'identification des variables les plus importantes.\n",
    "\n",
    "Dans cet exemple, nous allons utiliser un modèle linéaire sans variable catégorique, soit uniquement les variables continues.\n",
    "\n",
    "Il faut savoir qu'une grande part des problèmes en apprentissage automatique utilisent des données de différents types; numériques, ordinales et catégorielles. Il faut apprendre à les utiliser correctement. Ce point important est discuté dans le module sur le prétraitement des données. Nous allons en donner un exemple simple d'utilisation dans ce qui suit.\n",
    "\n",
    "Notre modèle correspond donc à :\n",
    "$$\\text{Profit} \\approx a_{0} + a_{1}\\text{R&D} + a_{2}\\text{Administration} + a_{3}\\text{Marketing}.$$\n",
    "<!-- #endregion -->\n",
    "\n",
    "<!-- #region id=\"da134e55\" -->\n",
    "## <span id=lecture-des-données>Lecture des données</span>\n",
    "<!-- #endregion -->\n",
    "\n",
    "<!-- #region id=\"6ba7b8ab\" -->\n",
    "La dernière colonne correspond aux profits des compagnies (en $\\text{k}~\\$$). C'est la réponse $y$ que l'on veut prédire à partir des variables $X$ dans les colonnes précédentes.\n",
    "<!-- #endregion -->\n",
    "\n"
   ]
  },
  {
   "cell_type": "code",
   "execution_count": null,
   "id": "383398ba",
   "metadata": {},
   "outputs": [],
   "source": [
    "# Lecture du jeu de données en format CSV.\n",
    "dataset = pd.read_csv(\"/pax/shared/GIF-U014/50_Startups.csv\")\n",
    "\n",
    "# Affichage des cinq premières lignes du fichier.\n",
    "dataset.head()\n"
   ]
  },
  {
   "cell_type": "markdown",
   "id": "ee449a35",
   "metadata": {},
   "source": [
    "\n",
    "<!-- #region id=\"f8143126\" -->\n",
    "## <span id=recalage-linéaire-simple>Recalage linéaire simple</span>\n",
    "<!-- #endregion -->\n",
    "\n",
    "<!-- #region id=\"900ef68e\" -->\n",
    "Débutons par séparer les variables X et la réponse y du jeu de données en gardant seulement les trois premières colonnes.\n",
    "<!-- #endregion -->\n",
    "\n"
   ]
  },
  {
   "cell_type": "code",
   "execution_count": null,
   "id": "b08a45dd",
   "metadata": {},
   "outputs": [],
   "source": [
    "X = dataset.iloc[:, :-1]\n",
    "y = dataset.iloc[:, 4]\n",
    "\n",
    "# Élimination de l'information géographique\n",
    "X = X.drop(\"State\", axis=1)\n"
   ]
  },
  {
   "cell_type": "markdown",
   "id": "2d622d9b",
   "metadata": {},
   "source": [
    "\n",
    "<!-- #region id=\"0828cc7e\" -->\n",
    "Par la suite, séparons les données en un ensemble d'entraînement ($80~\\%$ des données) et de test ($20~\\%$ des données).\n",
    "\n",
    "Les données d'entraînement vont servir à entraîner le modèle de régression. C'est-à-dire, à estimer les valeurs des paramètres $a_0, a_1, a_2, a_3$. Les données de test vont ensuite servir à mesurer les performances du modèle sur des données jamais utilisées.\n",
    "<!-- #endregion -->\n",
    "\n"
   ]
  },
  {
   "cell_type": "code",
   "execution_count": null,
   "id": "9673bc73",
   "metadata": {},
   "outputs": [],
   "source": [
    "X_train, X_test, y_train, y_test = train_test_split(X, y, test_size=0.2, random_state=seed)\n"
   ]
  },
  {
   "cell_type": "markdown",
   "id": "43aaa25e",
   "metadata": {},
   "source": [
    "\n",
    "<!-- #region id=\"4d859e5c\" -->\n",
    "Par la suite, nous allons normaliser les données.\n",
    "\n",
    "La normalisation a pour effet de mettre toutes les variables $x_i$ sur un même pied d'égalité. Les différences d'unités de mesure et d'échelle de grandeur sont éliminées. La normalisation est expliquée plus en détail dans un des modules sur le prétraitement des données.\n",
    "\n",
    "Il faut sélectionner une fonction de normalisation et l'entraînement avec les données d'entraînement. On peut ensuite l'appliquer aux données de test.\n",
    "\n",
    "Nous allons utiliser la normalisation centrée réduire en utilisant le [`StandardScaler`](https://scikit-learn.org/stable/modules/generated/sklearn.preprocessing.StandardScaler.html) de Scikit-learn, chaque colonne $x_i$ de la matrice $X$ est transformée de la façon suivante\n",
    "\n",
    "$$x'_i = \\dfrac{x_i-\\mu_i}{\\sigma_i}$$\n",
    "\n",
    "où $\\mu_i$ et $\\sigma_i$ sont la moyenne et l'écart-type des valeurs de $x_i$ calculées avec les données d'entraînement.\n",
    "\n",
    "Dans la cellule ci-dessous, complétez les énoncés pour créer l'objet de normalisation (type `StandardScaler`), pour ajuster ses paramètres (`fit`) sur les données d'entraînement et pour appliquer (`transform`) cette transformation sur les données de test.\n",
    "<!-- #endregion -->\n",
    "\n"
   ]
  },
  {
   "cell_type": "code",
   "execution_count": null,
   "id": "ba07e43f",
   "metadata": {},
   "outputs": [],
   "source": [
    "# créer un outil de transformation\n",
    "norm = # à compléter\n",
    "\n",
    "# ajuster les paramètres de l'outil sur les données d'entraînement\n",
    "X_train = # à compléter\n",
    "\n",
    "# appliquer l'outil sur les données de test\n",
    "X_test = # à compléter\n"
   ]
  },
  {
   "cell_type": "markdown",
   "id": "67d52782",
   "metadata": {},
   "source": [
    "\n",
    "<!-- #region id=\"b08f4813\" -->\n",
    "Finalement, entrainons le modèle de [régression linéaire](https://scikit-learn.org/stable/modules/generated/sklearn.linear_model.LinearRegression.html) par défaut de Scikit-learn et calculons la métrique $R^2$ à partir des vraies valeurs et les valeurs prédites pour les données de test. Pour cela, complétez le code ci-dessous&puncsp;:\n",
    "<!-- #endregion -->\n",
    "\n"
   ]
  },
  {
   "cell_type": "code",
   "execution_count": null,
   "id": "9524dfe4",
   "metadata": {},
   "outputs": [],
   "source": [
    "# créer le modèle de regression\n",
    "reg = # à compléter\n",
    "\n",
    "# ajuster le modèle sur les données d'entraînement\n",
    "reg # à compléter\n",
    "\n",
    "# prédire sur les données de test\n",
    "y_pred = # à compléter\n",
    "\n",
    "# calculer la métrique R2\n",
    "score = # à compléter\n"
   ]
  },
  {
   "cell_type": "markdown",
   "id": "0e27ea36",
   "metadata": {},
   "source": [
    "\n",
    "<!-- #region id=\"401d583a\" -->\n",
    "## <span id=affichage-des-résultats>Affichage des résultats</span>\n",
    "\n",
    "Ci-dessous le code qui permet d'afficher les paramètres de modélisation&puncsp;:\n",
    "<!-- #endregion -->\n",
    "\n"
   ]
  },
  {
   "cell_type": "code",
   "execution_count": null,
   "id": "284bd82e",
   "metadata": {},
   "outputs": [],
   "source": [
    "print(\"Coefficients:\\n\")\n",
    "print(f\"\\t a_{0} = {reg.intercept_}\")\n",
    "for i, coeff in enumerate(reg.coef_):\n",
    "    print(f\"\\t a_{i+1} = {reg.coef_[i]}\")\n",
    "\n",
    "print(f\"\\nMétrique R2: {100*score:0.1f} %\")\n"
   ]
  },
  {
   "cell_type": "markdown",
   "id": "e6a9b57d",
   "metadata": {},
   "source": [
    "\n",
    "<!-- #region id=\"be2eb45d\" -->\n",
    "### <span id=interprétation-des-résultats>Interprétation des résultats</span>\n",
    "<!-- #endregion -->\n",
    "\n",
    "<!-- #region id=\"6a975318\" -->\n",
    "Selon la métrique $R^2$, vous devriez obtenir que ce premier modèle explique $90,0~\\%$ de l'information dans les données.\n",
    "\n",
    "Vous devriez observer que $|a_1| > |a_3| > |a_2|$, que $a_1$ et $a_3$ sont positifs et que $a_2$ est négatif.\n",
    "\n",
    "Ainsi, les variables en ordre d'importance sont `R&D Spend`, `Marketing Spend` et `Administration`.\n",
    "\n",
    "Plus les dépenses en R&D et marketing seront importantes, meilleurs seront les profits. Celles en R&D sont les plus importantes. Celles en administration contribuent négativement, même s'il importe sans doute d'engager aussi des personnes pour gérer le personnel en R&D et marketing.\n",
    "\n",
    "Attention toutefois, on observe des corrélations entre les variables, pas nécessairement des liens de causalité! En effet, est-ce qu'une compagnie faisant plus de profits investit plus en R&D ou est-ce que ce sont plutôt les investissements en R&D qui mènent à plus de profits? Ce modèle ne peut pas répondre à cette question.\n",
    "\n",
    "Autre point important. Il est possible que le jeu de données ne contienne que des données provenant de compagnies ayant survécu à leurs premières années d'existence. Il y a donc un effet de sélection et les conclusions qu'on pourrait être tenté de tirer peuvent être biaisées. Elles ne s'appliqueraient alors qu'aux compagnies ayant survécu à ces premières années d'existence!\n",
    "<!-- #endregion -->\n",
    "\n",
    "<!-- #region id=\"b5dbdb99\" -->\n",
    "### <span id=comparaison-des-profits-réels-et-prédits>Comparaison des profits réels et prédits</span>\n",
    "<!-- #endregion -->\n",
    "\n"
   ]
  },
  {
   "cell_type": "code",
   "execution_count": null,
   "id": "b1488665",
   "metadata": {},
   "outputs": [],
   "source": [
    "# Conversion en k$\n",
    "y_test = y_test / 1000\n",
    "y_pred = y_pred / 1000\n",
    "\n",
    "# utiliser les couleurs par défaut de seaborn\n",
    "sns.set(color_codes=True)\n",
    "\n",
    "# tracer le graphique des profits prédits versus les réels\n",
    "fig = plt.figure(figsize=(8, 6))\n",
    "plt.plot(y_test, y_pred, \"o\")\n",
    "plt.plot(y_test, y_test, \"-r\", label=\"Prédiction parfaite\")\n",
    "plt.title(\"Modèle n'utilisant pas l'information géographique\", fontsize=16)\n",
    "plt.xlabel(\"Profit réel (k$)\", fontsize=16)\n",
    "plt.ylabel(\"Profit prédit (k$)\", fontsize=16)\n",
    "plt.legend()\n",
    "fig.tight_layout()\n",
    "plt.show()\n"
   ]
  },
  {
   "cell_type": "markdown",
   "id": "257b3620",
   "metadata": {},
   "source": [
    "\n",
    "<!-- #region id=\"b5934bf3\" -->\n",
    "Bien que le modèle linéaire utilisé soit simple, ses prédictions sont plutôt bonnes comme le montre l'adéquation entre les\n",
    "valeurs prédites et les valeurs réelles de test. Les points sont bien répartis le long de la droite de prédiction parfaite.\n",
    "<!-- #endregion -->\n"
   ]
  }
 ],
 "metadata": {},
 "nbformat": 4,
 "nbformat_minor": 5
}
