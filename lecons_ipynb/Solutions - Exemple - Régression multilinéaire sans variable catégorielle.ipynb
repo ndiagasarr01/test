{
 "cells": [
  {
   "cell_type": "markdown",
   "id": "2d7edfde",
   "metadata": {},
   "source": [
    "---\n",
    "jupyter:\n",
    "  jupytext:\n",
    "    text_representation:\n",
    "      extension: .md\n",
    "      format_name: markdown\n",
    "      format_version: '1.3'\n",
    "      jupytext_version: 1.16.0\n",
    "---\n"
   ]
  }
 ],
 "metadata": {},
 "nbformat": 4,
 "nbformat_minor": 5
}
