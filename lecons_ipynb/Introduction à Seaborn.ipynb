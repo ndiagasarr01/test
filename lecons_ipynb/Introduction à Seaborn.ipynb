{
 "cells": [
  {
   "cell_type": "markdown",
   "id": "5aa3fc31",
   "metadata": {},
   "source": [
    "---\n",
    "jupyter:\n",
    "  jupytext:\n",
    "    text_representation:\n",
    "      extension: .md\n",
    "      format_name: markdown\n",
    "      format_version: '1.3'\n",
    "      jupytext_version: 1.16.0\n",
    "  kernelspec:\n",
    "    display_name: Python 3 (ipykernel)\n",
    "    language: python\n",
    "    name: python3\n",
    "---\n",
    "\n",
    "<!-- #region id=\"adf8bbc3\" -->\n",
    "# Table des matières\n",
    "1. [Qu'est-ce que Seaborn?](#quest-ce-que-seaborn)\n",
    "   1. [Principales différences entre Matplotlib et Seaborn](#principales-différences-entre-matplotlib-et-seaborn)\n",
    "2. [Un exemple d'analyse de données avec Seaborn](#un-exemple-danalyse-de-données-avec-seaborn)\n",
    "   2. [Lecture des données](#lecture-des-données)\n",
    "   3. [Visualisation univariée](#visualisation-univariée)\n",
    "       1. [Caractéristiques quantitatives](#caractéristiques-quantitatives)\n",
    "          1. [Histogrammes et diagrammes de densité](#histogrammes-et-diagrammes-de-densité)\n",
    "          2. [Box plot](#box-plot)\n",
    "          3. [Diagramme en violon](#diagramme-en-violon)\n",
    "          4. [describe()](#describe)\n",
    "       2. [Caractéristiques catégorielles et binaires](#caractéristiques-catégorielles-et-binaires)\n",
    "          1. [Table de fréquences](#table-de-fréquences)\n",
    "          2. [Diagramme en bâtons](#diagramme-en-bâtons)\n",
    "   4. [Visualisation de données multivariées](#visualisation-de-données-multivariées)\n",
    "       1. [Quantitative versus quantitative](#quantitative-versus-quantitative)\n",
    "          1. [Matrice de corrélation](#matrice-de-corrélation)\n",
    "          2. [Nuages de points ou diagramme de dispersion](#nuages-de-points-ou-diagramme-de-dispersion)\n",
    "       2. [Quantitative versus catégorielle](#quantitative-versus-catégorielle)\n",
    "       3. [Catégorielle versus catégorielle](#catégorielle-versus-catégorielle)\n",
    "          1. [Tableau de contingence](#tableau-de-contingence)\n",
    "3. [Conclusion](#conclusion)\n",
    "<!-- #endregion -->\n",
    "\n"
   ]
  },
  {
   "cell_type": "code",
   "execution_count": null,
   "id": "e8f60681",
   "metadata": {},
   "outputs": [],
   "source": [
    "import warnings\n",
    "\n",
    "warnings.filterwarnings(\"ignore\")\n",
    "\n",
    "import matplotlib.pyplot as plt\n",
    "import numpy as np\n",
    "import pandas as pd\n",
    "import seaborn as sns\n",
    "import wget\n",
    "\n",
    "sns.set()\n"
   ]
  },
  {
   "cell_type": "markdown",
   "id": "edfdd1bd",
   "metadata": {},
   "source": [
    "\n",
    "<!-- #region id=\"88dd6249\" -->\n",
    "<div align=\"center\">\n",
    "    <img src= \"../images/seaborn-logo.png\"  width=\"300\" />\n",
    "    <div>\n",
    "    <font size=\"1.5\">Image Source: https://seaborn.pydata.org//</font>\n",
    "    </div>\n",
    "</div>\n",
    "<!-- #endregion -->\n",
    "\n",
    "<!-- #region colab_type=\"text\" id=\"790fd68a\" -->\n",
    "# <a id=quest-ce-que-seaborn>Qu'est-ce que Seaborn?</a>\n",
    "<!-- #endregion -->\n",
    "\n",
    "<!-- #region id=\"65991d32\" -->\n",
    "Seaborn est une librairie de visualisation de données Python basée sur Matplotlib. Elle a\n",
    "une interface de haut niveau par rapport au bas niveau de Matplotlib. Ça permet\n",
    "de générer des graphiques statistiques attrayants et informatifs. Il serait ardu de\n",
    "générer l'équivalent avec Matplotlib, car il n'est pas aisé de\n",
    "comprendre les paramètres qui rendent les tracés attrayants. Seaborn a été\n",
    "conçu avec cet esthétisme fonctionnel et pédagogique dès le début.\n",
    "\n",
    "Seaborn nous donne ainsi la possibilité de créer des données visuelles amplifiées. Cela nous aide\n",
    "à comprendre les données en les affichant dans un contexte visuel mettant en évidence\n",
    "les corrélations cachées entre les variables ou les tendances qui pourraient ne\n",
    "pas être évidentes *a priori*.\n",
    "<!-- #endregion -->\n",
    "\n",
    "<!-- #region id=\"f1864143\" -->\n",
    "## <a id=principales-différences-entre-matplotlib-et-seaborn>Principales différences entre Matplotlib et Seaborn</a>\n",
    "<!-- #endregion -->\n",
    "\n",
    "<!-- #region id=\"0c0cf0e5\" -->\n",
    "Fonctionnalité :\n",
    "\n",
    "- Matplotlib est principalement déployé pour le traçage de base.\n",
    "- Seaborn fournit une variété de modèles de visualisation. Il utilise moins de syntaxe et a des fonctionnalités optimisées pour l'aspect visuel et pédagogique.\n",
    "    \n",
    "\n",
    "Visualisation :\n",
    "    \n",
    "- Matplotlib est une librairie graphique pour la visualisation de données en Python. Il est bien intégré à NumPy et Pandas. Le module pyplot reflète étroitement les fonctions d'affichage de MATLAB.\n",
    "- Seaborn tire parti des fonctionnalités des tableaux de données Pandas. Ça permet de créer de superbes graphiques à l'aide d'un ensemble de méthodes plus simples. Il est spécialisé dans la visualisation statistique des données.\n",
    "    \n",
    "Flexibilité :\n",
    "    \n",
    "- Matplotlib est hautement personnalisable et puissant. C'est une qualité, mais aussi un défaut. Il arrive souvent dans un script que la section de code allouée à l'affichage des résultats occupe plus d'espace que celle allouée à la fonction d'analyse des données. C'est pourtant elle le centre d'intérêt du script!\n",
    "- Seaborn évite cette prolifération de code standard, mais non trivial (*Boilerplate Code*) en fournissant des fonctions spécialisées au rendu esthétique.\n",
    "\n",
    "Dernier point, mais non le moindre; l'ajout de la librairie Seaborn dans un script rehausse la\n",
    "qualité des graphiques même si les fonctions de Seaborn ne sont pas utilisées explicitement!\n",
    "<!-- #endregion -->\n",
    "\n",
    "<!-- #region colab_type=\"text\" id=\"790fd68a\" -->\n",
    "# <a id=un-exemple-danalyse-de-données-avec-seaborn>Un exemple d'analyse de données avec Seaborn</a>\n",
    "<!-- #endregion -->\n",
    "\n",
    "<!-- #region id=\"ebe6ed3f\" -->\n",
    "## <a id=lecture-des-données>Lecture des données</a>\n",
    "<!-- #endregion -->\n",
    "\n",
    "<!-- #region id=\"1c743fae\" -->\n",
    "Dans cet exemple, nous allons utiliser un ensemble de données public pour apprivoiser les différentes manières\n",
    "d'afficher des données en Python en utilisant les librairies [`Matplotlib`](https://matplotlib.org/) et [`Seaborn`](https://seaborn.pydata.org/). Observez à quel point les tableaux de données Pandas sont bien intégrés avec les fonctions de Seaborn.\n",
    "\n",
    "Pour cela nous allons utiliser le jeu de données de rétention de client d'une compagnie de télécommunications disponible sur [Kaggle](https://www.kaggle.com/datasets/mnassrib/telecom-churn-datasets).\n",
    "\n",
    "Le jeu de données contient 3 333 points de données avec chacune 20 attributs et une variable réponse (`Churn`).\n",
    "<!-- #endregion -->\n",
    "\n",
    "<!-- #region colab_type=\"text\" id=\"f66f1ec8\" -->\n",
    "Nous allons examiner les données relatives au désabonnement de la clientèle pour un opérateur de télécommunications. Nous allons charger cet ensemble de données dans un `DataFrame`:\n",
    "<!-- #endregion -->\n",
    "\n"
   ]
  },
  {
   "cell_type": "code",
   "execution_count": null,
   "id": "74ceb547",
   "metadata": {},
   "outputs": [],
   "source": [
    "df = pd.read_csv(\"/pax/shared/GIF-U014/telecom_churn.csv\")\n"
   ]
  },
  {
   "cell_type": "markdown",
   "id": "71a2c5fc",
   "metadata": {},
   "source": [
    "\n",
    "<!-- #region colab_type=\"text\" id=\"184c6a13\" -->\n",
    "Pour se familiariser avec nos données, regardons les 5 premières entrées en utilisant `head()`:\n",
    "<!-- #endregion -->\n",
    "\n"
   ]
  },
  {
   "cell_type": "code",
   "execution_count": null,
   "id": "fbf818b2",
   "metadata": {},
   "outputs": [],
   "source": [
    "df.head()\n"
   ]
  },
  {
   "cell_type": "markdown",
   "id": "848e6227",
   "metadata": {},
   "source": [
    "\n",
    "<!-- #region colab_type=\"text\" id=\"3b30576e\" -->\n",
    "On peut déjà se débarrasser de la colonne du numéro de téléphone qui ne donnera pas plus d'information que l'ID unique.\n",
    "\n",
    "Regardons également combien de données manquantes sont dans le jeu de données.\n",
    "\n",
    "<!-- #endregion -->\n",
    "\n"
   ]
  },
  {
   "cell_type": "code",
   "execution_count": null,
   "id": "d3da9c89",
   "metadata": {},
   "outputs": [],
   "source": [
    "df = df.drop(\"Phone number\", axis=1)\n",
    "df.isna().sum()\n"
   ]
  },
  {
   "cell_type": "markdown",
   "id": "e20c0170",
   "metadata": {},
   "source": [
    "\n",
    "<!-- #region colab_type=\"text\" id=\"c1690792\" -->\n",
    "Il n'en manque aucune. Regardons à nouveau quelques données tirées au hasard:\n",
    "<!-- #endregion -->\n",
    "\n"
   ]
  },
  {
   "cell_type": "code",
   "execution_count": null,
   "id": "ac096040",
   "metadata": {},
   "outputs": [],
   "source": [
    "df.sample(10)\n"
   ]
  },
  {
   "cell_type": "markdown",
   "id": "2817915c",
   "metadata": {},
   "source": [
    "\n",
    "<!-- #region colab_type=\"text\" id=\"0609e051\" -->\n",
    "Voici une description des caractéristiques des colonnes du jeu de données de Kaggle:\n",
    "\n",
    "|  Name  | Description | Value Type | Statistical Type |\n",
    "|---         |---       |---     |---\n",
    "| **State** | State abbreviation (like KS = Kansas) | String | Categorical |\n",
    "| **Account length** | How long the client has been with the company | Numerical | Quantitative |\n",
    "| **Area code** | Phone number prefix | Numerical | Categorical |\n",
    "| **International plan** | International plan (on/off) | String, \"Yes\"/\"No\" | Categorical/Binary |\n",
    "| **Voice mail plan** | Voicemail (on/off) | String, \"Yes\"/\"No\" | Categorical/Binary |\n",
    "| **Number vmail messages** | Number of voicemail messages | Numerical | Quantitative |\n",
    "| **Total day minutes** |  Total duration of daytime calls | Numerical | Quantitative |\n",
    "| **Total day calls** | Total number of daytime calls  | Numerical | Quantitative |\n",
    "| **Total day charge** | Total charge for daytime services | Numerical | Quantitative |\n",
    "| **Total eve minutes** | Total duration of evening calls | Numerical | Quantitative |\n",
    "| **Total eve calls** | Total number of evening calls | Numerical | Quantitative |\n",
    "| **Total eve charge** | Total charge for evening services | Numerical | Quantitative |\n",
    "| **Total night minutes** | Total duration of nighttime calls | Numerical | Quantitative |\n",
    "| **Total night calls** | Total number of nighttime calls | Numerical | Quantitative |\n",
    "| **Total night charge** | Total charge for nighttime services | Numerical | Quantitative |\n",
    "| **Total intl minutes** | Total duration of international calls  | Numerical | Quantitative |\n",
    "| **Total intl calls** | Total number of international calls | Numerical | Quantitative |\n",
    "| **Total intl charge** | Total charge for international calls | Numerical | Quantitative |\n",
    "| **Customer service calls** | Number of calls to customer service | Numerical | Categorical/Ordinal |\n",
    "| **Churn**| The response variable | Bool | Bool|\n",
    "\n",
    "La dernière colonne de données ci-dessus, **Churn**, représente la variable cible (c.-à-d. la réponse). Elle est binaire: `True` indique que l'entreprise a perdu un client, et `False` indique que le client a été conservé.\n",
    "<!-- #endregion -->\n",
    "\n",
    "<!-- #region colab_type=\"text\" id=\"d1c5eeb5\" -->\n",
    "## <a id=visualisation-univariée>Visualisation univariée</a>\n",
    "<!-- #endregion -->\n",
    "\n",
    "<!-- #region id=\"3bb8888d\" -->\n",
    "L'analyse univariée examine une caractéristique à la fois. Lorsque nous analysons une entité de manière indépendante, nous nous intéressons généralement à la distribution de ses valeurs et ignorons les autres caractéristiques.\n",
    "\n",
    "Ci-dessous, nous examinerons différents types statistiques d’entités et les outils correspondants pour leur analyse visuelle individuelle.\n",
    "<!-- #endregion -->\n",
    "\n",
    "<!-- #region id=\"3a6e7b41\" -->\n",
    "### <a id=caractéristiques-quantitatives>Caractéristiques quantitatives</a>\n",
    "<!-- #endregion -->\n",
    "\n",
    "<!-- #region id=\"9bb2f875\" -->\n",
    "Les caractéristiques quantitatives prennent des valeurs numériques ordonnées. Ces valeurs peuvent être discrètes, comme des nombres entiers, ou continues, comme des nombres réels, et expriment généralement un compte ou une mesure.\n",
    "<!-- #endregion -->\n",
    "\n",
    "<!-- #region id=\"69f8c7fd\" -->\n",
    "#### <a id=histogrammes-et-diagrammes-de-densité>Histogrammes et diagrammes de densité</a>\n",
    "<!-- #endregion -->\n",
    "\n",
    "<!-- #region id=\"327e9441\" -->\n",
    "Le moyen le plus simple d'examiner la distribution d'une variable numérique consiste à tracer son histogramme à l'aide de la méthode [`hist()`](https://pandas.pydata.org/pandas-docs/stable/generated/pandas.DataFrame.hist.html) de la classe `DataFrame`.\n",
    "<!-- #endregion -->\n",
    "\n"
   ]
  },
  {
   "cell_type": "code",
   "execution_count": null,
   "id": "ac23bfc1",
   "metadata": {},
   "outputs": [],
   "source": [
    "features = [\"Total day minutes\", \"Total intl calls\"]\n",
    "df[features].hist(figsize=(10, 4))\n"
   ]
  },
  {
   "cell_type": "markdown",
   "id": "e6683e2b",
   "metadata": {},
   "source": [
    "\n",
    "<!-- #region colab_type=\"text\" id=\"f9941d9f\" -->\n",
    "Un histogramme regroupe les valeurs dans des groupes de même plage de valeurs. La forme d'un histogramme donne souvent des indices sur le type de distribution sous-jacente: gaussienne, exponentielle, etc. Vous pouvez également repérer toute asymétrie dans sa forme lorsque la distribution est presque régulière, mais présente quelques anomalies. Il est important de connaître la distribution des valeurs des caractéristiques lorsque vous utilisez des méthodes d’apprentissage automatique qui en supposent un type particulier, le plus souvent gaussien.\n",
    "\n",
    "Dans le graphique ci-dessus, nous voyons que la variable « *Total day minutes* » est distribuée plus normalement, c.-à-d. ressemble plus à une distribution selon la loi normale. Alors que « *Total intl calls* »  est asymétrique vers la gauche (ce qui signifie qu'il y a plus de petites données que de grandes données).\n",
    "\n",
    "Bien qu'ils soient faciles à utiliser, il est bon de savoir que la qualité visuelle des histogrammes dépend de la taille (ou du nombre) des bacs (*bins*) utilisés. Le nombre par défaut n'est pas toujours optimal.\n",
    "Il existe heureusement une autre façon, souvent plus claire et visuelle, de saisir une distribution: celle des diagrammes de densité ou, plus formellement, des diagrammes de densité du noyau. Ils peuvent être considérés comme une version [lissée](https://en.wikipedia.org/wiki/Kernel_smoother) de l'histogramme. Leur principal avantage par rapport à ces derniers est qu’ils ne dépendent pas de la taille des bacs. Créons des diagrammes de densité pour les deux mêmes variables:\n",
    "<!-- #endregion -->\n",
    "\n"
   ]
  },
  {
   "cell_type": "code",
   "execution_count": null,
   "id": "90e9cf39",
   "metadata": {},
   "outputs": [],
   "source": [
    "df[features].plot(\n",
    "    kind=\"density\", subplots=True, layout=(1, 2), sharex=False, figsize=(10, 4)\n",
    ")\n"
   ]
  },
  {
   "cell_type": "markdown",
   "id": "f0478b33",
   "metadata": {},
   "source": [
    "\n",
    "<!-- #region colab_type=\"text\" id=\"2744f1ec\" -->\n",
    "Il est également possible de tracer une distribution d'observations avec le\n",
    "[`distplot()`](https://seaborn.pydata.org/generated/seaborn.distplot.html) de `Seaborn`. Par exemple,\n",
    "regardons la distribution de *Total de minutes par jour*. Par défaut, le tracé affiche à la fois l'histogramme avec\n",
    "l'[estimation de la densité du noyau](https://en.wikipedia.org/wiki/Kernel_density_estimation) en haut.\n",
    "<!-- #endregion -->\n",
    "\n"
   ]
  },
  {
   "cell_type": "code",
   "execution_count": null,
   "id": "69e8beb1",
   "metadata": {},
   "outputs": [],
   "source": [
    "sns.distplot(df[\"Total intl calls\"])\n"
   ]
  },
  {
   "cell_type": "markdown",
   "id": "19de39f0",
   "metadata": {},
   "source": [
    "\n",
    "<!-- #region colab_type=\"text\" id=\"479f79b8\" -->\n",
    "La hauteur des barres de l'histogramme ici est normée et indique la densité plutôt que le nombre d'exemples dans chaque bac.\n",
    "<!-- #endregion -->\n",
    "\n",
    "<!-- #region id=\"4a6753b5\" -->\n",
    "#### <a id=box-plot>Box plot</a>\n",
    "<!-- #endregion -->\n",
    "\n",
    "<!-- #region id=\"f64dc4bd\" -->\n",
    "Une autre méthode de visualisation utile est la boîte à moustaches (*Box Plot*). `Seaborn` fait du bon travail ici:\n",
    "<!-- #endregion -->\n",
    "\n"
   ]
  },
  {
   "cell_type": "code",
   "execution_count": null,
   "id": "accd719e",
   "metadata": {},
   "outputs": [],
   "source": [
    "sns.boxplot(y=\"Total intl calls\", data=df)\n"
   ]
  },
  {
   "cell_type": "markdown",
   "id": "aebda9d0",
   "metadata": {},
   "source": [
    "\n",
    "<!-- #region colab_type=\"text\" id=\"7311f047\" -->\n",
    "Voyons comment interpréter une boîte à moustaches. Ses composants sont une boîte, les moustaches au-dessus et en dessous et un certain nombre de points individuels (des points aberrants) au-delà de celles-ci.\n",
    "\n",
    "La boîte illustre la dispersion interquartile de la distribution; son épaisseur est déterminée par les centiles $25\\% \\, (\\text{Q1})$ and $75\\% \\, (\\text{Q3})$. La ligne horizontale à l'intérieur de la boîte marque la médiane ($50\\%$) de la distribution.\n",
    "\n",
    "Les moustaches sont les lignes qui sortent de la boîte. Elles représentent la dispersion des données, en particulier les points compris dans l'intervalle $(\\text{Q1} - 1.5 \\cdot \\text{IQR}, \\text{Q3} + 1.5 \\cdot \\text{IQR})$, où $\\text{IQR} = \\text{Q3} - \\text{Q1}$ est la [plage interquartile](https://en.wikipedia.org/wiki/Interquartile_range).\n",
    "\n",
    "Les valeurs aberrantes, affichées au-delà des moustaches, sont tracées individuellement sous forme de points noirs le long de l'axe central.\n",
    "\n",
    "Nous pouvons voir qu'un grand nombre d'appels internationaux est assez rare dans nos données.\n",
    "<!-- #endregion -->\n",
    "\n",
    "<!-- #region id=\"d967b27a\" -->\n",
    "#### <a id=diagramme-en-violon>Diagramme en violon</a>\n",
    "<!-- #endregion -->\n",
    "\n",
    "<!-- #region id=\"25e7ca45\" -->\n",
    "Un dernier type de tracé de distribution que nous allons considérer est le tracé en violon.\n",
    "\n",
    "Regardez les chiffres ci-dessous. Sur la gauche, nous voyons la boîte à moustaches déjà familière. À droite, un tracé en violon avec l'estimation de la densité du noyau des deux côtés.\n",
    "\n",
    "<!-- #endregion -->\n",
    "\n"
   ]
  },
  {
   "cell_type": "code",
   "execution_count": null,
   "id": "ee6340be",
   "metadata": {},
   "outputs": [],
   "source": [
    "_, axes = plt.subplots(1, 2, sharey=True, figsize=(6, 4))\n",
    "sns.boxplot(data=df[\"Total intl calls\"], ax=axes[0])\n",
    "sns.violinplot(data=df[\"Total intl calls\"], ax=axes[1])\n"
   ]
  },
  {
   "cell_type": "markdown",
   "id": "8be3333e",
   "metadata": {},
   "source": [
    "\n",
    "<!-- #region colab_type=\"text\" id=\"adc270e9\" -->\n",
    "La différence entre un diagramme de boîte et un en violon est que le premier illustre certaines statistiques concernant des exemples individuels dans un jeu de données, alors que le second se concentre davantage sur la distribution lissée dans son ensemble.\n",
    "\n",
    "Dans notre cas, le tracé en violon ne fournit aucune information supplémentaire sur les données, car tout est clair à partir du tracé de boîte.\n",
    "<!-- #endregion -->\n",
    "\n",
    "<!-- #region id=\"31cd2a6d\" -->\n",
    "#### <a id=describe>`describe()`</a>\n",
    "<!-- #endregion -->\n",
    "\n",
    "<!-- #region id=\"e0361ff4\" -->\n",
    "En plus des outils graphiques, pour obtenir les statistiques numériques exactes de la distribution, nous pouvons utiliser la méthode [`describe()`](https://pandas.pydata.org/pandas-docs/stable/generated/pandas.DataFrame.describe.html) de la classe `DataFrame`:\n",
    "<!-- #endregion -->\n",
    "\n"
   ]
  },
  {
   "cell_type": "code",
   "execution_count": null,
   "id": "c8755f27",
   "metadata": {},
   "outputs": [],
   "source": [
    "df[features].describe()\n"
   ]
  },
  {
   "cell_type": "markdown",
   "id": "62726889",
   "metadata": {},
   "source": [
    "\n",
    "<!-- #region colab_type=\"text\" id=\"d0e174cc\" -->\n",
    "Sa sortie est la plupart du temps explicite. Les valeurs $25~\\%$, $50~\\%$ et $75~\\%$ sont les [centiles](https://en.wikipedia.org/wiki/Percentile) correspondants. \n",
    "> À noter que la médiane correspond à $50~\\%$.\n",
    "<!-- #endregion -->\n",
    "\n",
    "<!-- #region colab_type=\"text\" id=\"c9c597ec\" -->\n",
    "### <a id=caractéristiques-catégorielles-et-binaires>Caractéristiques catégorielles et binaires</a>\n",
    "<!-- #endregion -->\n",
    "\n",
    "<!-- #region id=\"7eecd71d\" -->\n",
    "Les caractéristiques catégorielles prennent un nombre fixe de valeurs. Chacune de ces valeurs attribue une observation à un groupe correspondant, appelé catégorie, qui reflète une propriété qualitative de cet exemple. Les variables binaires constituent un cas particulier important de variables catégorielles lorsque le nombre de valeurs possibles est de 2. Si les valeurs d'une variable catégorielle sont ordonnées, on l'appelle ordinale.\n",
    "Un exemple bien connu de variable ordinale est le niveau d'appréciation souvent utilisé dans les questionnaires; il prend les valeurs [0, 1, 2, 3, 4, 5], allant de mauvais (0) à excellent (5).\n",
    "<!-- #endregion -->\n",
    "\n",
    "<!-- #region id=\"b0e33e5b\" -->\n",
    "#### <a id=table-de-fréquences>Table de fréquences</a>\n",
    "<!-- #endregion -->\n",
    "\n",
    "<!-- #region id=\"198d9537\" -->\n",
    "Voyons l’équilibre des classes dans notre jeu de données en regardant la distribution de la variable cible: le taux de désabonnement. Tout d’abord, nous obtiendrons un tableau de fréquences indiquant la fréquence de chaque valeur de la variable catégorielle. Pour cela, nous allons utiliser la méthode [`value_counts()`](https://pandas.pydata.org/pandas-docs/stable/generated/pandas.Series.value_counts.html):\n",
    "\n",
    "<!-- #endregion -->\n",
    "\n"
   ]
  },
  {
   "cell_type": "code",
   "execution_count": null,
   "id": "afad0010",
   "metadata": {},
   "outputs": [],
   "source": [
    "df[\"Churn\"].value_counts()\n"
   ]
  },
  {
   "cell_type": "markdown",
   "id": "6800c261",
   "metadata": {},
   "source": [
    "\n",
    "<!-- #region colab_type=\"text\" id=\"4ee4d7bf\" -->\n",
    "Par défaut, les valeurs sont affichées en ordre décroissant de fréquence.\n",
    "\n",
    "Dans cet exemple, les données ne sont pas équilibrées; c'est-à-dire que les deux classes cibles, les clients fidèles et déloyaux, ne sont pas représentées de manière égale dans le jeu de données. Seule une petite partie des clients a annulé son abonnement au service de télécommunication.\n",
    "\n",
    "Le débalancement des classes peut impliquer certaines restrictions quant à la mesure des performances en classification. Nous avons vu dans le module sur les données d'entraînement déséquilibrées comment éliminer le problème du débalancement.\n",
    "<!-- #endregion -->\n",
    "\n",
    "<!-- #region colab_type=\"text\" id=\"c3ff1001\" -->\n",
    "#### <a id=diagramme-en-bâtons>Diagramme en bâtons</a>\n",
    "<!-- #endregion -->\n",
    "\n",
    "<!-- #region id=\"6a7609bb\" -->\n",
    "Le diagramme en bâtons est une représentation graphique de la table de fréquences. Le moyen le plus simple de le créer\n",
    "consiste à utiliser la fonction [`countplot()`](https://seaborn.pydata.org/generated/seaborn.countplot.html) de `Seaborn`.\n",
    "Il existe une autre fonction dans `Seaborn`, [`barplot()`](https://seaborn.pydata.org/generated/seaborn.barplot.html), qui est principalement utilisée pour la représentation de certaines statistiques de base sur une variable numérique regroupée par une caractéristique catégorielle.\n",
    "\n",
    "Traçons les distributions de deux variables qualitatives:\n",
    "<!-- #endregion -->\n",
    "\n"
   ]
  },
  {
   "cell_type": "code",
   "execution_count": null,
   "id": "1e9167d1",
   "metadata": {},
   "outputs": [],
   "source": [
    "_, axes = plt.subplots(nrows=1, ncols=2, figsize=(12, 4))\n",
    "\n",
    "sns.countplot(x=\"Churn\", data=df, ax=axes[0])\n",
    "sns.countplot(x=\"Customer service calls\", data=df, ax=axes[1])\n"
   ]
  },
  {
   "cell_type": "markdown",
   "id": "e3898728",
   "metadata": {},
   "source": [
    "\n",
    "<!-- #region colab_type=\"text\" id=\"3f09ecc1\" -->\n",
    "Bien que les histogrammes, décrits ci-dessus, et les diagrammes en bâtons puissent sembler similaires, il existe plusieurs différences entre eux:\n",
    "1. Les histogrammes conviennent le mieux pour examiner la distribution des variables numériques, tandis que les diagrammes en bâtons sont utilisés pour les caractéristiques catégorielles.\n",
    "2. Les valeurs sur l'axe des X dans l'histogramme sont numériques; un diagramme en bâtons peut avoir n'importe quel type de valeur sur l'axe des X: nombres, chaînes, booléens.\n",
    "3. L'axe X de l'histogramme est un axe de coordonnées cartésiennes le long duquel les valeurs ne peuvent pas être modifiées; l'ordre des bâtons n'est pas prédéfini. Néanmoins, il est utile de noter que les bâtons sont souvent triés par hauteur, c'est-à-dire par la fréquence des valeurs. De plus, lorsque nous considérons des variables ordinales (comme « *Customer service calls* » dans nos données), les barres sont généralement classées par valeur de variable.\n",
    "\n",
    "Le graphique de gauche ci-dessus illustre clairement le déséquilibre de notre variable cible. Le diagramme en bâtons pour les appels de service clientèle à droite indique que la majorité des clients résolvent leurs problèmes en 2 à 3 appels maximum.\n",
    "<!-- #endregion -->\n",
    "\n",
    "<!-- #region colab_type=\"text\" id=\"b8f0b56e\" -->\n",
    "## <a id=visualisation-de-données-multivariées>Visualisation de données multivariées</a>\n",
    "<!-- #endregion -->\n",
    "\n",
    "<!-- #region id=\"ac0b2219\" -->\n",
    "Les graphiques multivariés nous permettent de voir les relations entre deux variables différentes ou plus, le tout dans une seule figure. Tout comme dans le cas des graphiques univariés, le type spécifique de visualisation dépend des types de variables analysées.\n",
    "<!-- #endregion -->\n",
    "\n",
    "<!-- #region id=\"d18330f2\" -->\n",
    "### <a id=quantitative-versus-quantitative>Quantitative versus quantitative</a>\n",
    "<!-- #endregion -->\n",
    "\n",
    "<!-- #region id=\"87abde30\" -->\n",
    "#### <a id=matrice-de-corrélation>Matrice de corrélation</a>\n",
    "<!-- #endregion -->\n",
    "\n",
    "<!-- #region id=\"e8adb5f9\" -->\n",
    "Examinons les corrélations entre les variables numériques de notre ensemble de données. Il est important de connaître ces informations, car il existe des algorithmes d'apprentissage automatique (par exemple, la régression linéaire et logistique) qui gèrent difficilement les variables d'entrée hautement corrélées.\n",
    "\n",
    "Premièrement, nous allons utiliser la méthode [`corr()`](https://pandas.pydata.org/pandas-docs/stable/generated/pandas.DataFrame.corr.html) sur un `DataFrame` qui calcule la corrélation entre chaque paire de caractéristiques. Ensuite, nous passons la matrice de corrélation résultante à [`heatmap()`](https://seaborn.pydata.org/generated/seaborn.heatmap.html) de `Seaborn`, qui affiche une matrice de couleur pour les valeurs fournies:\n",
    "\n",
    "<!-- #endregion -->\n",
    "\n"
   ]
  },
  {
   "cell_type": "code",
   "execution_count": null,
   "id": "f6fcb09d",
   "metadata": {},
   "outputs": [],
   "source": [
    "# On ne prend que les variables numériques. La commande suivante le fait de façon soignée.\n",
    "numerical = list(\n",
    "    set(df.columns)\n",
    "    - set(\n",
    "        [\n",
    "            \"State\",\n",
    "            \"International plan\",\n",
    "            \"Voice mail plan\",\n",
    "            \"Area code\",\n",
    "            \"Churn\",\n",
    "            \"Customer service calls\",\n",
    "        ]\n",
    "    )\n",
    ")\n",
    "\n",
    "# Voyez l'effet de la commande suivante et expliquez-la :\n",
    "# numerical.sort()\n",
    "\n",
    "# Calcul et affichage\n",
    "corr_matrix = df[numerical].corr()\n",
    "sns.heatmap(corr_matrix)\n"
   ]
  },
  {
   "cell_type": "markdown",
   "id": "79f5a97b",
   "metadata": {},
   "source": [
    "\n",
    "<!-- #region colab_type=\"text\" id=\"84f2a486\" -->\n",
    "À partir de la matrice de corrélation colorée générée ci-dessus, nous pouvons voir qu'il existe 4 variables telles que « *Total day charge* » qui ont été calculées directement à partir du nombre de minutes passées en appels téléphoniques (« *Total day minutes* »). Celles-ci sont appelées variables dépendantes et peuvent donc être omises puisqu'elles ne fournissent aucune information supplémentaire. Débarrassons-nous d'elles:\n",
    "<!-- #endregion -->\n",
    "\n"
   ]
  },
  {
   "cell_type": "code",
   "execution_count": null,
   "id": "384fae51",
   "metadata": {},
   "outputs": [],
   "source": [
    "numerical = list(\n",
    "    set(numerical)\n",
    "    - set(\n",
    "        [\n",
    "            \"Total day charge\",\n",
    "            \"Total eve charge\",\n",
    "            \"Total night charge\",\n",
    "            \"Total intl charge\",\n",
    "        ]\n",
    "    )\n",
    ")\n"
   ]
  },
  {
   "cell_type": "markdown",
   "id": "e613cad4",
   "metadata": {},
   "source": [
    "<!-- #region colab_type=\"text\" id=\"d15901af\" -->\n",
    "#### <a id=nuages-de-points-ou-diagramme-de-dispersion>Nuages de points ou diagramme de dispersion</a>\n",
    "<!-- #endregion -->\n",
    "\n",
    "<!-- #region id=\"c5d1ffb3\" -->\n",
    "Le nuage de points affiche les valeurs de deux variables numériques sous forme de coordonnées cartésiennes (X-Y) dans un espace 2-D. Les nuages de points en 3-D sont également possibles.\n",
    "\n",
    "Essayons la fonction [`scatter ()`](https://matplotlib.org/devdocs/api/_as_gen/matplotlib.pyplot.scatter.html) de la bibliothèque `matplotlib`:\n",
    "<!-- #endregion -->\n",
    "\n"
   ]
  },
  {
   "cell_type": "code",
   "execution_count": null,
   "id": "a6931083",
   "metadata": {},
   "outputs": [],
   "source": [
    "plt.scatter(df[\"Total day minutes\"], df[\"Total night minutes\"], alpha=0.5)\n"
   ]
  },
  {
   "cell_type": "markdown",
   "id": "09261e42",
   "metadata": {},
   "source": [
    "\n",
    "<!-- #region colab_type=\"text\" id=\"39a86517\" -->\n",
    "Nous obtenons une image sans intérêt de deux variables normalement distribuées. De plus, il semble que ces caractéristiques ne soient pas corrélées, car la forme en forme d'ellipse est alignée sur les axes.\n",
    "\n",
    "Il existe une option un peu plus sophistiquée pour créer un nuage de points avec la bibliothèque `Seaborn`:\n",
    "<!-- #endregion -->\n",
    "\n"
   ]
  },
  {
   "cell_type": "code",
   "execution_count": null,
   "id": "41656de2",
   "metadata": {},
   "outputs": [],
   "source": [
    "sns.jointplot(\n",
    "    x=\"Total day minutes\", y=\"Total night minutes\", alpha=0.5, data=df, kind=\"scatter\"\n",
    ")\n"
   ]
  },
  {
   "cell_type": "markdown",
   "id": "e1e22623",
   "metadata": {},
   "source": [
    "\n",
    "<!-- #region colab_type=\"text\" id=\"f284620f\" -->\n",
    "La fonction [`jointplot()`](https://seaborn.pydata.org/generated/seaborn.jointplot.html) trace deux histogrammes qui peuvent être utiles dans certains cas.\n",
    "\n",
    "En utilisant la même fonction, nous pouvons également obtenir une version lissée de notre distribution bivariée.\n",
    "Il s’agit essentiellement d’une version bivariée du tracé de densité du noyau discuté précédemment.\n",
    "\n",
    "<!-- #endregion -->\n",
    "\n"
   ]
  },
  {
   "cell_type": "code",
   "execution_count": null,
   "id": "95ef3f1f",
   "metadata": {},
   "outputs": [],
   "source": [
    "sns.jointplot(\"Total day minutes\", \"Total night minutes\", data=df, kind=\"kde\")\n"
   ]
  },
  {
   "cell_type": "markdown",
   "id": "4641de85",
   "metadata": {},
   "source": [
    "\n",
    "<!-- #region colab_type=\"text\" id=\"0ec5481e\" -->\n",
    "### <a id=quantitative-versus-catégorielle>Quantitative versus catégorielle</a>\n",
    "<!-- #endregion -->\n",
    "\n",
    "<!-- #region id=\"f7381fb1\" -->\n",
    "Dans cette section, nous allons rendre nos diagrammes quantitatifs un peu plus excitants. Nous tenterons d’obtenir de nouvelles informations sur la prévision du désabonnement grâce aux interactions entre les caractéristiques numériques et catégorielles.\n",
    "\n",
    "Plus spécifiquement, voyons comment les variables d’entrée sont liées à la variable cible « *Churn* ».\n",
    "\n",
    "Nous avons vu précédemment les nuages de points. Ceux-ci peuvent être codés en couleur ou en taille afin de représenter une troisième variable catégorielle sur la même figure. Nous pouvons y parvenir avec la fonction `scatter()` vue ci-dessus, mais essayons une nouvelle fonction appelée\n",
    "[`lmplot()`](https://seaborn.pydata.org/generated/seaborn.lmplot.html) et utilisons le paramètre de teinte (`hue`) pour indiquer la variable cible « *Churn* ».\n",
    "<!-- #endregion -->\n",
    "\n"
   ]
  },
  {
   "cell_type": "code",
   "execution_count": null,
   "id": "acd7330d",
   "metadata": {},
   "outputs": [],
   "source": [
    "sns.lmplot(\n",
    "    \"Total day minutes\", \"Total night minutes\", data=df, hue=\"Churn\", fit_reg=False\n",
    ")\n"
   ]
  },
  {
   "cell_type": "markdown",
   "id": "e336d3fd",
   "metadata": {},
   "source": [
    "\n",
    "<!-- #region colab_type=\"text\" id=\"019c9a0c\" -->\n",
    "Il semble que notre faible proportion de clients déloyaux se penche un peu vers le coin supérieur droit; c'est-à-dire que ces clients ont tendance à passer plus de temps au téléphone, jour et nuit. Mais cela n’est pas absolument clair et nous ne tirerons aucune conclusion définitive de ce graphique.\n",
    "\n",
    "Créons maintenant des diagrammes en blocs pour visualiser les statistiques de distribution des variables numériques dans deux groupes disjoints: les clients fidèles (`Churn = False`) et ceux qui sont partis (`Churn = True`).\n",
    "<!-- #endregion -->\n",
    "\n"
   ]
  },
  {
   "cell_type": "code",
   "execution_count": null,
   "id": "08f316d9",
   "metadata": {},
   "outputs": [],
   "source": [
    "# Parfois, vous pouvez analyser une variable ordinale comme une numérique.\n",
    "numerical.append(\"Customer service calls\")\n",
    "\n",
    "fig, axes = plt.subplots(nrows=3, ncols=4, figsize=(10, 7))\n",
    "for idx, feat in enumerate(numerical):\n",
    "    ax = axes[int(idx / 4), idx % 4]\n",
    "    sns.boxplot(x=\"Churn\", y=feat, data=df, ax=ax)\n",
    "    ax.set_xlabel(\"\")\n",
    "    ax.set_ylabel(feat)\n",
    "fig.delaxes(axes[2, 3])  # élimine le dernier panneau qui est vide\n",
    "fig.tight_layout()\n"
   ]
  },
  {
   "cell_type": "markdown",
   "id": "82004b18",
   "metadata": {},
   "source": [
    "\n",
    "<!-- #region colab_type=\"text\" id=\"8857041d\" -->\n",
    "Sur ce graphique, nous pouvons voir que la plus grande divergence dans la distribution entre les deux groupes concerne trois variables: « *Total day minutes* », « *Customer service calls* » et « *Number vmail messages* ». Nous avons déjà vu comment déterminer l’importance des caractéristiques pour un classificateur en utilisant la méthode de forêt aléatoire; si vous l'utilisez sur ce jeu de données, vous verrez que les deux premières caractéristiques sont en effet très importantes pour la prévision du taux de désabonnement.\n",
    "\n",
    "Examinons séparément la distribution des minutes journalières parlées pour les clients fidèles et déloyaux. Nous allons créer des tracés de boîte et en violon pour le « *Total day minutes* » regroupé selon la variable cible.\n",
    "<!-- #endregion -->\n",
    "\n"
   ]
  },
  {
   "cell_type": "code",
   "execution_count": null,
   "id": "8edee1b6",
   "metadata": {},
   "outputs": [],
   "source": [
    "_, axes = plt.subplots(1, 2, sharey=True, figsize=(10, 4))\n",
    "\n",
    "sns.boxplot(x=\"Churn\", y=\"Total day minutes\", data=df, ax=axes[0])\n",
    "sns.violinplot(x=\"Churn\", y=\"Total day minutes\", data=df, ax=axes[1])\n"
   ]
  },
  {
   "cell_type": "markdown",
   "id": "53958708",
   "metadata": {},
   "source": [
    "\n",
    "<!-- #region colab_type=\"text\" id=\"cdea42f9\" -->\n",
    "Le diagramme en violons montre une légère différence de distributions; les clients fidèles ont une distribution gaussienne alors que les clients déloyaux ont une distribution bimodale. Ces derniers forment-ils deux sous-populations ou est-ce simplement dû à des fluctuations statistiques, étant donné leur faible nombre? Une analyse statistique plus poussée pourrait le dire. Néanmoins, on voit bien que les clients déloyaux ont tendance à parler davantage au téléphone.\n",
    "\n",
    "> **Observation** : en moyenne, les clients qui résilient leurs contrats sont parmi les plus grands utilisateurs de services de communication. Peut-être ne sont-ils pas satisfaits des tarifs, alors une mesure possible pour éviter le roulement pourrait être une réduction des tarifs d’appel. La société devra entreprendre une analyse économique supplémentaire pour déterminer si une telle mesure serait réellement bénéfique.\n",
    "\n",
    "Lorsque nous voulons analyser une variable quantitative à la fois en deux dimensions catégoriques, il existe une fonction appropriée dans la bibliothèque `Seaborn` appelée [`catplot()`](https://seaborn.pydata.org/generated/seaborn.factorplot.html). Par exemple, visualisons l'interaction entre « *Total day minutes* » et deux variables qualitatives dans le même graphique:\n",
    "<!-- #endregion -->\n",
    "\n"
   ]
  },
  {
   "cell_type": "code",
   "execution_count": null,
   "id": "18aa852e",
   "metadata": {},
   "outputs": [],
   "source": [
    "sns.catplot(\n",
    "    x=\"Churn\",\n",
    "    y=\"Total day minutes\",\n",
    "    col=\"Customer service calls\",\n",
    "    data=df[df[\"Customer service calls\"] < 8],\n",
    "    kind=\"box\",\n",
    "    col_wrap=4,\n",
    "    height=3,\n",
    "    aspect=1,\n",
    ")\n"
   ]
  },
  {
   "cell_type": "markdown",
   "id": "a940a8fe",
   "metadata": {},
   "source": [
    "\n",
    "<!-- #region id=\"47d72f81\" -->\n",
    "On peut en conclure qu'à partir de quatre appels, le « *Total day minutes* » peut ne plus être le principal facteur de désabonnement des clients. En plus de nos hypothèses précédentes sur les tarifs, il se peut que certains clients ne soient pas satisfaits du service en raison d'autres problèmes, ce qui pourrait réduire le nombre de minutes d'appels par jour.\n",
    "<!-- #endregion -->\n",
    "\n",
    "<!-- #region colab_type=\"text\" id=\"606eefc6\" -->\n",
    "### <a id=catégorielle-versus-catégorielle>Catégorielle versus catégorielle</a>\n",
    "<!-- #endregion -->\n",
    "\n",
    "<!-- #region id=\"f46a443a\" -->\n",
    "La variable « *Customer service calls* » a peu de valeurs uniques et peut donc être considérée comme numérique ou ordinale. Nous avons déjà vu sa distribution avec un `countplot`. Nous nous intéressons maintenant à la relation entre cette entité ordinale et la variable cible « *Churn* ».\n",
    "\n",
    "Regardons la distribution du nombre d'appels au service clientèle, en utilisant à nouveau un `countplot`. Cette fois, passons également le paramètre `hue = Churn` qui ajoute une dimension catégorique au tracé :\n",
    "<!-- #endregion -->\n",
    "\n"
   ]
  },
  {
   "cell_type": "code",
   "execution_count": null,
   "id": "564a509a",
   "metadata": {},
   "outputs": [],
   "source": [
    "sns.countplot(x=\"Customer service calls\", hue=\"Churn\", data=df)\n"
   ]
  },
  {
   "cell_type": "markdown",
   "id": "34ffe782",
   "metadata": {},
   "source": [
    "\n",
    "<!-- #region colab_type=\"text\" id=\"d0019a9a\" -->\n",
    "> **Observation** : le taux de désabonnement augmente après 4 appels ou plus au service clientèle.\n",
    "\n",
    "Maintenant, regardons la relation entre « *Churn* » et les fonctionnalités binaires, « *International plan* » et « *Voice mail plan* ».\n",
    "<!-- #endregion -->\n",
    "\n"
   ]
  },
  {
   "cell_type": "code",
   "execution_count": null,
   "id": "c9257b03",
   "metadata": {},
   "outputs": [],
   "source": [
    "_, axes = plt.subplots(1, 2, sharey=True, figsize=(10, 4))\n",
    "\n",
    "sns.countplot(x=\"International plan\", hue=\"Churn\", data=df, ax=axes[0])\n",
    "sns.countplot(x=\"Voice mail plan\", hue=\"Churn\", data=df, ax=axes[1])\n"
   ]
  },
  {
   "cell_type": "markdown",
   "id": "16a48577",
   "metadata": {},
   "source": [
    "\n",
    "<!-- #region colab_type=\"text\" id=\"b87e378e\" -->\n",
    "> **Observation** : lorsque « *International plan* » est activé, le taux de désabonnement est beaucoup plus élevé; l'utilisation du plan international par le client est un atout majeur. Nous n'observons pas le même effet avec « *Voice mail plan* ».\n",
    "<!-- #endregion -->\n",
    "\n",
    "<!-- #region id=\"8fc44abb\" -->\n",
    "#### <a id=tableau-de-contingence>Tableau de contingence</a>\n",
    "<!-- #endregion -->\n",
    "\n",
    "<!-- #region id=\"ba2204b4\" -->\n",
    "Outre l’utilisation de moyens graphiques pour l’analyse catégorique, il existe un outil traditionnel en statistiques: le tableau de contingence, également appelé tableau croisé. Il représente la distribution de fréquence multivariée des variables catégorielles sous forme de tableau. En particulier, cela nous permet de voir la distribution d'une variable conditionnellement à l'autre en regardant le long d'une colonne ou d'une ligne.\n",
    "\n",
    "Essayons de voir comment « *Churn* » est lié à la variable catégorique « *State* » en créant une tabulation croisée:\n",
    "<!-- #endregion -->\n",
    "\n"
   ]
  },
  {
   "cell_type": "code",
   "execution_count": null,
   "id": "43e6807d",
   "metadata": {},
   "outputs": [],
   "source": [
    "pd.crosstab(df[\"State\"], df[\"Churn\"]).T\n"
   ]
  },
  {
   "cell_type": "markdown",
   "id": "4a9e9912",
   "metadata": {},
   "source": [
    "\n",
    "<!-- #region colab_type=\"text\" id=\"d24c2586\" -->\n",
    "Dans le cas de « *State* », le nombre de valeurs distinctes est plutôt élevé: 51. Nous constatons qu'il n'y a que quelques points de données disponibles pour chaque état - seuls 3 à 17 clients dans chaque état ont abandonné la compagnie. Ignorons cela un instant et calculons le taux de désabonnement pour chaque état en le triant de haut en bas:\n",
    "<!-- #endregion -->\n",
    "\n"
   ]
  },
  {
   "cell_type": "code",
   "execution_count": null,
   "id": "655ef2aa",
   "metadata": {},
   "outputs": [],
   "source": [
    "df.groupby([\"State\"])[\"Churn\"].agg([np.mean]).sort_values(by=\"mean\", ascending=False).T\n"
   ]
  },
  {
   "cell_type": "markdown",
   "id": "0f757863",
   "metadata": {},
   "source": [
    "\n",
    "<!-- #region colab_type=\"text\" id=\"e7da3111\" -->\n",
    "À première vue, il semble que le taux de désabonnement dépasse $25~\\%$ dans le « New Jersey » et la « Californie » et soit inférieur à $6~\\%$ à « Hawaii » et en « Alaska ». Cependant, ces conclusions reposent sur trop peu d'exemples et notre observation pourrait n'être qu'une simple propriété de notre ensemble de données particulier (une fluctuation statistique).\n",
    "<!-- #endregion -->\n",
    "\n",
    "<!-- #region id=\"2a2017bb\" -->\n",
    "# <a id=conclusion>Conclusion</a>\n",
    "<!-- #endregion -->\n",
    "\n",
    "<!-- #region id=\"9171340c\" -->\n",
    "Visualiser les données est une étape et rendre les données visualisées plus agréables en est une autre. La visualisation joue un rôle essentiel dans la communication d'informations quantitatives à un public pour attirer son attention. La visualisation est l'art de représenter les données de la manière la plus efficace et la plus simple qui soit. Pour vous en convaincre, jetez un coup d'oeil aux livres de [Edward Tufte](https://en.wikipedia.org/wiki/Edward_Tufte). On y découvre les défis et les contraintes de la visualisation ainsi les solutions développées au fil de générations d'artistes et de scientifiques.\n",
    "\n",
    "Comme on l'a vu à maintes reprises, la librairie Matplotlib prend fortement en charge la personnalisation, mais savoir quels paramètres modifier pour obtenir un tracé attrayant et anticipé est ce qu'il faut savoir pour l'utiliser. Ça demande une expertise qui n'est pas à la portée des programmeurs en herbes. Contrairement à Matplotlib, Seaborn est livré avec des thèmes personnalisés et une interface de haut niveau pour personnaliser et contrôler l'apparence des figures de Matplotlib.\n",
    "\n",
    "Par habitude, on retourne souvent aux sources de Matplotlib pour visualiser nos résultats. Après un long moment, on finit par s'apercevoir et se désespérer de la place que prend la section de code d'affichage dans notre programme. On devrait alors faire une pause et se demander comment faire autrement avec Seaborn. Réinventer la roue à chaque fois est long et pénible; pourquoi ne pas utiliser des roues déjà toutes faites, bien polies et de toutes les couleurs? Seaborn est là pour les installer!\n",
    "<!-- #endregion -->\n"
   ]
  }
 ],
 "metadata": {},
 "nbformat": 4,
 "nbformat_minor": 5
}
